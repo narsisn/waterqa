{
 "cells": [
  {
   "cell_type": "code",
   "execution_count": 1,
   "id": "6eb146b3",
   "metadata": {},
   "outputs": [],
   "source": [
    "# Pyspark in Jupyter : findSpark package to make a Spark Context available in your code\n",
    "import findspark\n",
    "findspark.init(\"/usr/hdp/current/spark2-client\")"
   ]
  },
  {
   "cell_type": "code",
   "execution_count": 2,
   "id": "c0e4abe3",
   "metadata": {},
   "outputs": [],
   "source": [
    "# Spark Context Initialization \n",
    "\n",
    "from pyspark import SparkContext\n",
    "from pyspark.sql import SQLContext\n",
    "from pyspark.sql.types import *\n",
    "import pyspark.sql.functions as F\n",
    "import pyspark.sql.types as T\n",
    "from pyspark.sql.types import *\n",
    "from pyspark.ml.stat import Correlation\n",
    "from pyspark.ml.feature import VectorAssembler\n",
    "from pyspark.ml.feature import VectorAssembler, StandardScaler\n",
    "from pyspark.sql.functions import lit ,row_number,col, monotonically_increasing_id, when\n",
    "from sklearn.ensemble import IsolationForest\n",
    "from sklearn.preprocessing import StandardScaler\n",
    "\n",
    "sc = SparkContext()\n",
    "sqlc = SQLContext(sc)"
   ]
  },
  {
   "cell_type": "code",
   "execution_count": 3,
   "id": "e2db783a",
   "metadata": {},
   "outputs": [
    {
     "data": {
      "text/html": [
       "        <script type=\"text/javascript\">\n",
       "        window.PlotlyConfig = {MathJaxConfig: 'local'};\n",
       "        if (window.MathJax) {MathJax.Hub.Config({SVG: {font: \"STIX-Web\"}});}\n",
       "        if (typeof require !== 'undefined') {\n",
       "        require.undef(\"plotly\");\n",
       "        requirejs.config({\n",
       "            paths: {\n",
       "                'plotly': ['https://cdn.plot.ly/plotly-2.9.0.min']\n",
       "            }\n",
       "        });\n",
       "        require(['plotly'], function(Plotly) {\n",
       "            window._Plotly = Plotly;\n",
       "        });\n",
       "        }\n",
       "        </script>\n",
       "        "
      ]
     },
     "metadata": {},
     "output_type": "display_data"
    }
   ],
   "source": [
    "# Visualization Tools \n",
    "import seaborn as sns\n",
    "from matplotlib import style\n",
    "import matplotlib.pyplot as plt\n",
    "import plotly.graph_objects as go\n",
    "from matplotlib.gridspec import GridSpec\n",
    "from plotly.subplots import make_subplots\n",
    "from plotly.offline import init_notebook_mode\n",
    "import plotly.graph_objects as go\n",
    "import plotly.express as px\n",
    "\n",
    "init_notebook_mode(connected=True)\n",
    "sns.set()\n",
    "style.use('fivethirtyeight')"
   ]
  },
  {
   "cell_type": "code",
   "execution_count": 4,
   "id": "2884b1fe",
   "metadata": {},
   "outputs": [],
   "source": [
    "import numpy as np\n",
    "import pandas as pd\n",
    "import datetime\n"
   ]
  },
  {
   "cell_type": "code",
   "execution_count": 5,
   "id": "e59b4f24",
   "metadata": {},
   "outputs": [],
   "source": [
    "# Define Constants \n",
    "day = [(2,116),(81,1445) , (217,2855), (3634,4410), (5156,5885), (6554,7189), (7833,8476), (9078,9624)] \n",
    "night = [(117,810), (1446,2169), (2856,3633), (4411,5155), (5886,6553), (7190,7832), (8477,9077)]\n",
    "dry = [(2,6148), (7462,9624)]\n",
    "rainy = [(6149,7461)] \n",
    "#proportionality constant and taken as; 1.8615\n",
    "proConstant = 1.8615\n",
    "standardTemp = 23.17\n",
    "standardPH = 7.0\n",
    "standardTurb = 198\n",
    "headers = ['Temperature','pH','Turbidity','Quality']\n",
    "variables = ['Humidity','Night']\n",
    "colors = ['lightcoral','deepskyblue',\n",
    "          'orchid',    'tomato',\n",
    "          'teal',      'darkcyan',\n",
    "          'limegreen', 'darkorange']"
   ]
  },
  {
   "cell_type": "code",
   "execution_count": 6,
   "id": "e16d2700",
   "metadata": {},
   "outputs": [],
   "source": [
    "# Calculating water quality sum(wi*value), wi=I/Si\n",
    "def cal_water_quality_index(rawData):\n",
    "    rawData = rawData.withColumn(\"sTemp\", lit(standardTemp))\n",
    "    rawData = rawData.withColumn(\"sPH\", lit(standardPH))\n",
    "    rawData = rawData.withColumn(\"sTurb\", lit(standardTurb))\n",
    "    qualityUdf =F.udf(cal_quality, FloatType())\n",
    "    rawData=rawData.withColumn('Quality', qualityUdf(rawData.Temperature,rawData.pH,rawData.Turbidity,rawData.sTemp,rawData.sPH,rawData.sTurb))\n",
    "\n",
    "    rawData = rawData.drop('index','sTemp','sPH','sTurb')\n",
    "    return rawData"
   ]
  },
  {
   "cell_type": "code",
   "execution_count": 7,
   "id": "f0f9f1e2",
   "metadata": {},
   "outputs": [],
   "source": [
    "# Row based processing using UDF function at pyspark  \n",
    "def cal_quality(Temp,PH,Trub,sTemp,sPH,sTurb):\n",
    "    quality = Temp*(proConstant/sTemp) + PH*(proConstant/sPH) + Trub*(proConstant/sTurb)\n",
    "    return quality"
   ]
  },
  {
   "cell_type": "code",
   "execution_count": 8,
   "id": "4e273de0",
   "metadata": {},
   "outputs": [],
   "source": [
    "# Adding Humidity:Dry=0/Rainy=1, Time: Day=0/Night=1, Quality Columns to raw data\n",
    "def add_new_columns(rawData):\n",
    "    rawData = rawData.withColumn(\"Humidity\", lit(0))\n",
    "    rawData = rawData.withColumn(\"Night\", lit(0))\n",
    "    rawData = rawData.withColumn(\"index\", monotonically_increasing_id()+2)\n",
    "    for row in night:\n",
    "        rawData = rawData.withColumn(\"Night\", when(rawData.index.between(int(row[0]),int(row[1])),lit(1))\\\n",
    "                                     .otherwise(rawData.Night))\n",
    "    for row in rainy:\n",
    "        rawData = rawData.withColumn(\"Humidity\", when(rawData.index.between(int(row[0]),int(row[1])),lit(1))\\\n",
    "                                     .otherwise(rawData.Humidity))\n",
    "    return rawData"
   ]
  },
  {
   "cell_type": "code",
   "execution_count": 9,
   "id": "81496144",
   "metadata": {},
   "outputs": [],
   "source": [
    "# Plot Anomalies \n",
    "def plot_anomalies(plotData, variable):\n",
    "    if head == 'Quality':\n",
    "        return\n",
    "    fig = px.line(plotData, x=\"Date_Time\", y=[variable], title='Water Quality', template = 'plotly_dark')\n",
    "    anomalyData = plotData.loc[plotData[\"Prediction\"] == -1]\n",
    "    anomalyData = anomalyData.set_index('Date_Time')\n",
    "    fig.add_trace(go.Scatter(x=anomalyData.index, y=anomalyData[variable], mode = 'markers', \n",
    "                name = 'Anomaly', \n",
    "                marker=dict(color='red',size=10)))\n",
    "        \n",
    "    fig.show()"
   ]
  },
  {
   "cell_type": "code",
   "execution_count": 10,
   "id": "e13bab6a",
   "metadata": {},
   "outputs": [],
   "source": [
    "# Data Downsampleing per minutes\n",
    "def downsample(rawData,minutes):\n",
    "    resampledData = rawData.select(rawData.columns[:7]).toPandas()\n",
    "    resampledData = resampledData.set_index('Date_Time')\n",
    "    resampledData = resampledData.resample(str(minutes)+'T').mean()\n",
    "    resampledData['Humidity'] = resampledData['Humidity'].fillna(0).round().astype(int)\n",
    "    resampledData['Night'] = resampledData['Night'].fillna(0).round().astype(int)\n",
    "    return resampledData"
   ]
  },
  {
   "cell_type": "code",
   "execution_count": 11,
   "id": "eea9cf82",
   "metadata": {},
   "outputs": [],
   "source": [
    "# Preprocessing Steps\n",
    "def preprocessing (rawData):\n",
    "    # rename colname Temperature (°C) to Temperature \n",
    "    rawData = rawData.withColumnRenamed(rawData.columns[0], 'Date_Time')\n",
    "    rawData = rawData.withColumnRenamed(rawData.columns[1], 'Temperature')\n",
    "    rawData = rawData.withColumnRenamed(rawData.columns[3], 'Turbidity')\n",
    "    # Adding Humidity:Dry=0/Rainy=1, Time: Day=0/Night=1, Quality Columns to raw data\n",
    "    rawData = add_new_columns(rawData)\n",
    "    rawData = cal_water_quality_index(rawData)\n",
    "    return rawData"
   ]
  },
  {
   "cell_type": "code",
   "execution_count": 12,
   "id": "3cd05df1",
   "metadata": {},
   "outputs": [
    {
     "data": {
      "text/plain": [
       "9623"
      ]
     },
     "execution_count": 12,
     "metadata": {},
     "output_type": "execute_result"
    }
   ],
   "source": [
    "# Reading Raw Data file from HDFS \n",
    "# Please change dataPath with your directory path\n",
    "dataPath = 'hdfs://node1.sepahtan:8020/data/'\n",
    "dataPathSens30 = dataPath + \"Sensor_data_for_30_cm.csv\"\n",
    "rawDataSens30= sqlc.read.format('com.databricks.spark.csv').options(header='true', inferschema='true').load(dataPathSens30)\n",
    "rawDataSens30.count()\n"
   ]
  },
  {
   "cell_type": "code",
   "execution_count": 13,
   "id": "2a84d78c",
   "metadata": {},
   "outputs": [],
   "source": [
    "rawDataSens30 = preprocessing(rawDataSens30)\n",
    "downsampleData =  downsample (rawDataSens30,60)\n",
    "x_train = downsampleData[['Temperature','pH','Turbidity']]\n",
    "x_train = x_train.values.tolist()\n",
    "\n"
   ]
  },
  {
   "cell_type": "code",
   "execution_count": 14,
   "id": "130af3a7",
   "metadata": {},
   "outputs": [],
   "source": [
    "\n",
    "classifier = IsolationForest(n_estimators=100,max_samples='auto',contamination=0.3, random_state=200, n_jobs=-1)"
   ]
  },
  {
   "cell_type": "code",
   "execution_count": 15,
   "id": "db3e1bc0",
   "metadata": {},
   "outputs": [],
   "source": [
    "\n",
    "clf = classifier.fit(x_train)"
   ]
  },
  {
   "cell_type": "code",
   "execution_count": 16,
   "id": "fba9d754",
   "metadata": {},
   "outputs": [],
   "source": [
    "\n",
    "prediction =clf.predict(x_train)"
   ]
  },
  {
   "cell_type": "code",
   "execution_count": 17,
   "id": "0397750a",
   "metadata": {},
   "outputs": [],
   "source": [
    "rawDataDF=downsampleData\n",
    "rawDataDF['Prediction'] = prediction.tolist()\n",
    "rawDataDF = rawDataDF.reset_index()"
   ]
  },
  {
   "cell_type": "code",
   "execution_count": 18,
   "id": "869e9f6d",
   "metadata": {},
   "outputs": [],
   "source": [
    "#  Plotting anomalies\n",
    "plotData = rawDataDF[['Date_Time','Temperature','pH','Turbidity','Prediction']]"
   ]
  },
  {
   "cell_type": "code",
   "execution_count": 19,
   "id": "fddfb574",
   "metadata": {},
   "outputs": [],
   "source": [
    "\n",
    "anomalyData = plotData.loc[plotData[\"Prediction\"] == -1]\n",
    "anomalyData=anomalyData.set_index('Date_Time')"
   ]
  },
  {
   "cell_type": "code",
   "execution_count": 20,
   "id": "55eb2308",
   "metadata": {},
   "outputs": [
    {
     "data": {
      "application/vnd.plotly.v1+json": {
       "config": {
        "plotlyServerURL": "https://plot.ly"
       },
       "data": [
        {
         "hovertemplate": "variable=Temperature<br>Date_Time=%{x}<br>value=%{y}<extra></extra>",
         "legendgroup": "Temperature",
         "line": {
          "color": "#636efa",
          "dash": "solid"
         },
         "marker": {
          "symbol": "circle"
         },
         "mode": "lines",
         "name": "Temperature",
         "orientation": "v",
         "showlegend": true,
         "type": "scatter",
         "x": [
          "2020-01-15T16:00:00",
          "2020-01-15T17:00:00",
          "2020-01-15T18:00:00",
          "2020-01-15T19:00:00",
          "2020-01-15T20:00:00",
          "2020-01-15T21:00:00",
          "2020-01-15T22:00:00",
          "2020-01-15T23:00:00",
          "2020-01-16T00:00:00",
          "2020-01-16T01:00:00",
          "2020-01-16T02:00:00",
          "2020-01-16T03:00:00",
          "2020-01-16T04:00:00",
          "2020-01-16T05:00:00",
          "2020-01-16T06:00:00",
          "2020-01-16T07:00:00",
          "2020-01-16T08:00:00",
          "2020-01-16T09:00:00",
          "2020-01-16T10:00:00",
          "2020-01-16T11:00:00",
          "2020-01-16T12:00:00",
          "2020-01-16T13:00:00",
          "2020-01-16T14:00:00",
          "2020-01-16T15:00:00",
          "2020-01-16T16:00:00",
          "2020-01-16T17:00:00",
          "2020-01-16T18:00:00",
          "2020-01-16T19:00:00",
          "2020-01-16T20:00:00",
          "2020-01-16T21:00:00",
          "2020-01-16T22:00:00",
          "2020-01-16T23:00:00",
          "2020-01-17T00:00:00",
          "2020-01-17T01:00:00",
          "2020-01-17T02:00:00",
          "2020-01-17T03:00:00",
          "2020-01-17T04:00:00",
          "2020-01-17T05:00:00",
          "2020-01-17T06:00:00",
          "2020-01-17T07:00:00",
          "2020-01-17T08:00:00",
          "2020-01-17T09:00:00",
          "2020-01-17T10:00:00",
          "2020-01-17T11:00:00",
          "2020-01-17T12:00:00",
          "2020-01-17T13:00:00",
          "2020-01-17T14:00:00",
          "2020-01-17T15:00:00",
          "2020-01-17T16:00:00",
          "2020-01-17T17:00:00",
          "2020-01-17T18:00:00",
          "2020-01-17T19:00:00",
          "2020-01-17T20:00:00",
          "2020-01-17T21:00:00",
          "2020-01-17T22:00:00",
          "2020-01-17T23:00:00",
          "2020-01-18T00:00:00",
          "2020-01-18T01:00:00",
          "2020-01-18T02:00:00",
          "2020-01-18T03:00:00",
          "2020-01-18T04:00:00",
          "2020-01-18T05:00:00",
          "2020-01-18T06:00:00",
          "2020-01-18T07:00:00",
          "2020-01-18T08:00:00",
          "2020-01-18T09:00:00",
          "2020-01-18T10:00:00",
          "2020-01-18T11:00:00",
          "2020-01-18T12:00:00",
          "2020-01-18T13:00:00",
          "2020-01-18T14:00:00",
          "2020-01-18T15:00:00",
          "2020-01-18T16:00:00",
          "2020-01-18T17:00:00",
          "2020-01-18T18:00:00",
          "2020-01-18T19:00:00",
          "2020-01-18T20:00:00",
          "2020-01-18T21:00:00",
          "2020-01-18T22:00:00",
          "2020-01-18T23:00:00",
          "2020-01-19T00:00:00",
          "2020-01-19T01:00:00",
          "2020-01-19T02:00:00",
          "2020-01-19T03:00:00",
          "2020-01-19T04:00:00",
          "2020-01-19T05:00:00",
          "2020-01-19T06:00:00",
          "2020-01-19T07:00:00",
          "2020-01-19T08:00:00",
          "2020-01-19T09:00:00",
          "2020-01-19T10:00:00",
          "2020-01-19T11:00:00",
          "2020-01-19T12:00:00",
          "2020-01-19T13:00:00",
          "2020-01-19T14:00:00",
          "2020-01-19T15:00:00",
          "2020-01-19T16:00:00",
          "2020-01-19T17:00:00",
          "2020-01-19T18:00:00",
          "2020-01-19T19:00:00",
          "2020-01-19T20:00:00",
          "2020-01-19T21:00:00",
          "2020-01-19T22:00:00",
          "2020-01-19T23:00:00",
          "2020-01-20T00:00:00",
          "2020-01-20T01:00:00",
          "2020-01-20T02:00:00",
          "2020-01-20T03:00:00",
          "2020-01-20T04:00:00",
          "2020-01-20T05:00:00",
          "2020-01-20T06:00:00",
          "2020-01-20T07:00:00",
          "2020-01-20T08:00:00",
          "2020-01-20T09:00:00",
          "2020-01-20T10:00:00",
          "2020-01-20T11:00:00",
          "2020-01-20T12:00:00",
          "2020-01-20T13:00:00",
          "2020-01-20T14:00:00",
          "2020-01-20T15:00:00",
          "2020-01-20T16:00:00",
          "2020-01-20T17:00:00",
          "2020-01-20T18:00:00",
          "2020-01-20T19:00:00",
          "2020-01-20T20:00:00",
          "2020-01-20T21:00:00",
          "2020-01-20T22:00:00",
          "2020-01-20T23:00:00",
          "2020-01-21T00:00:00",
          "2020-01-21T01:00:00",
          "2020-01-21T02:00:00",
          "2020-01-21T03:00:00",
          "2020-01-21T04:00:00",
          "2020-01-21T05:00:00",
          "2020-01-21T06:00:00",
          "2020-01-21T07:00:00",
          "2020-01-21T08:00:00",
          "2020-01-21T09:00:00",
          "2020-01-21T10:00:00",
          "2020-01-21T11:00:00",
          "2020-01-21T12:00:00",
          "2020-01-21T13:00:00",
          "2020-01-21T14:00:00",
          "2020-01-21T15:00:00",
          "2020-01-21T16:00:00",
          "2020-01-21T17:00:00",
          "2020-01-21T18:00:00",
          "2020-01-21T19:00:00",
          "2020-01-21T20:00:00",
          "2020-01-21T21:00:00",
          "2020-01-21T22:00:00",
          "2020-01-21T23:00:00",
          "2020-01-22T00:00:00",
          "2020-01-22T01:00:00",
          "2020-01-22T02:00:00",
          "2020-01-22T03:00:00",
          "2020-01-22T04:00:00",
          "2020-01-22T05:00:00",
          "2020-01-22T06:00:00",
          "2020-01-22T07:00:00",
          "2020-01-22T08:00:00",
          "2020-01-22T09:00:00",
          "2020-01-22T10:00:00",
          "2020-01-22T11:00:00",
          "2020-01-22T12:00:00",
          "2020-01-22T13:00:00",
          "2020-01-22T14:00:00",
          "2020-01-22T15:00:00",
          "2020-01-22T16:00:00"
         ],
         "xaxis": "x",
         "y": [
          20.731,
          20.401636363636364,
          20.158301886792458,
          19.65824561403509,
          18.7028813559322,
          18.315254237288137,
          18.166874999999994,
          17.915999999999993,
          17.735846153846147,
          17.521475409836068,
          17.498103448275863,
          17.463269230769242,
          17.56857142857143,
          17.686444444444458,
          17.83220338983051,
          18.07545454545455,
          18.371904761904766,
          18.91419999999999,
          19.621379310344825,
          20.32636363636365,
          20.679433962264156,
          21.06181818181818,
          21.038135593220343,
          20.4378431372549,
          20.161071428571425,
          19.974339622641516,
          19.829999999999995,
          19.685000000000002,
          19.35180327868853,
          18.997656250000002,
          18.70492307692308,
          18.506250000000012,
          18.27238095238096,
          17.949682539682538,
          17.840491803278695,
          18.05788461538462,
          18.798064516129035,
          20.37440677966102,
          21.90983333333333,
          23.2571875,
          23.6575,
          23.716792452830173,
          23.475000000000005,
          23.262272727272734,
          23.05100000000001,
          22.612833333333338,
          22.27199999999999,
          21.82353846153847,
          21.371692307692307,
          21.06140625000002,
          20.65430769230768,
          20.254090909090902,
          19.87538461538461,
          19.510151515151506,
          19.13196969696969,
          18.728461538461534,
          18.39787878787879,
          18.141692307692306,
          18.079090909090908,
          18.344193548387107,
          18.960655737704915,
          20.442307692307693,
          21.80636363636363,
          22.994153846153846,
          23.552461538461554,
          23.69876923076925,
          23.437121212121205,
          23.098307692307685,
          22.924374999999998,
          22.59923076923077,
          22.139365079365092,
          21.735692307692297,
          21.34625,
          21.015000000000015,
          20.614,
          20.275081967213122,
          19.878888888888902,
          19.47384615384614,
          19.202153846153845,
          18.927999999999997,
          18.63939393939393,
          18.42292307692307,
          18.26499999999999,
          18.533508771929824,
          19.021525423728814,
          19.821132075471702,
          20.614363636363638,
          21.32568965517241,
          22.217142857142846,
          22.99016129032258,
          23.33388888888889,
          23.278103448275854,
          23.217230769230795,
          23.00075757575758,
          22.62046153846156,
          22.221060606060593,
          21.802807017543866,
          21.472295081967225,
          21.15215384615384,
          20.767142857142858,
          20.39888888888889,
          20.08185185185186,
          19.759107142857147,
          19.307288135593225,
          18.362203389830515,
          17.74962264150943,
          17.6968,
          18.267777777777777,
          18.767592592592596,
          19.293703703703706,
          20.020925925925923,
          20.63592592592593,
          20.93211538461539,
          20.856538461538456,
          20.59888888888889,
          20.297735849056608,
          19.96055555555556,
          19.595660377358488,
          19.102830188679246,
          18.65075471698113,
          18.202800000000003,
          17.86574074074073,
          17.498703703703715,
          17.113584905660378,
          16.771111111111104,
          16.469444444444445,
          16.25094339622641,
          16.36685185185185,
          16.76490566037736,
          17.78925925925926,
          19.418703703703702,
          20.796792452830186,
          22.54111111111111,
          23.648867924528304,
          23.54346153846155,
          23.33148148148147,
          23.263508771929832,
          22.982708333333335,
          22.552777777777777,
          22.32444444444445,
          22.00653846153846,
          21.62071428571429,
          21.277454545454546,
          20.930545454545456,
          20.524629629629633,
          20.15716981132075,
          19.602678571428566,
          19.004999999999995,
          18.443181818181813,
          17.90581395348837,
          17.4954,
          17.233488372093014,
          16.8908,
          16.619245283018873,
          16.357037037037035,
          15.998888888888896,
          15.687454545454539,
          15.70264150943396,
          16.240377358490562,
          17.265094339622635,
          18.615714285714287,
          19.42981818181819,
          19.925000000000004,
          20.501132075471702,
          21.508076923076935,
          22.1828,
          22.02754716981131,
          21.618163265306123,
          21.383157894736836
         ],
         "yaxis": "y"
        },
        {
         "marker": {
          "color": "red",
          "size": 10
         },
         "mode": "markers",
         "name": "Anomaly",
         "type": "scatter",
         "x": [
          "2020-01-17T20:00:00",
          "2020-01-19T09:00:00",
          "2020-01-19T10:00:00",
          "2020-01-19T11:00:00",
          "2020-01-19T12:00:00",
          "2020-01-19T13:00:00",
          "2020-01-19T22:00:00",
          "2020-01-19T23:00:00",
          "2020-01-20T00:00:00",
          "2020-01-20T01:00:00",
          "2020-01-20T02:00:00",
          "2020-01-20T10:00:00",
          "2020-01-20T11:00:00",
          "2020-01-20T12:00:00",
          "2020-01-20T13:00:00",
          "2020-01-20T14:00:00",
          "2020-01-20T15:00:00",
          "2020-01-20T16:00:00",
          "2020-01-20T17:00:00",
          "2020-01-20T18:00:00",
          "2020-01-20T19:00:00",
          "2020-01-20T20:00:00",
          "2020-01-20T21:00:00",
          "2020-01-20T22:00:00",
          "2020-01-20T23:00:00",
          "2020-01-21T00:00:00",
          "2020-01-21T01:00:00",
          "2020-01-21T02:00:00",
          "2020-01-21T03:00:00",
          "2020-01-21T04:00:00",
          "2020-01-21T05:00:00",
          "2020-01-21T06:00:00",
          "2020-01-21T07:00:00",
          "2020-01-21T08:00:00",
          "2020-01-21T09:00:00",
          "2020-01-21T10:00:00",
          "2020-01-21T11:00:00",
          "2020-01-21T12:00:00",
          "2020-01-21T13:00:00",
          "2020-01-21T15:00:00",
          "2020-01-21T16:00:00",
          "2020-01-21T23:00:00",
          "2020-01-22T00:00:00",
          "2020-01-22T01:00:00",
          "2020-01-22T02:00:00",
          "2020-01-22T03:00:00",
          "2020-01-22T04:00:00",
          "2020-01-22T05:00:00",
          "2020-01-22T06:00:00",
          "2020-01-22T07:00:00",
          "2020-01-22T08:00:00"
         ],
         "y": [
          19.87538461538461,
          22.99016129032258,
          23.33388888888889,
          23.278103448275854,
          23.217230769230795,
          23.00075757575758,
          19.759107142857147,
          19.307288135593225,
          18.362203389830515,
          17.74962264150943,
          17.6968,
          20.59888888888889,
          20.297735849056608,
          19.96055555555556,
          19.595660377358488,
          19.102830188679246,
          18.65075471698113,
          18.202800000000003,
          17.86574074074073,
          17.498703703703715,
          17.113584905660378,
          16.771111111111104,
          16.469444444444445,
          16.25094339622641,
          16.36685185185185,
          16.76490566037736,
          17.78925925925926,
          19.418703703703702,
          20.796792452830186,
          22.54111111111111,
          23.648867924528304,
          23.54346153846155,
          23.33148148148147,
          23.263508771929832,
          22.982708333333335,
          22.552777777777777,
          22.32444444444445,
          22.00653846153846,
          21.62071428571429,
          20.930545454545456,
          20.524629629629633,
          17.233488372093014,
          16.8908,
          16.619245283018873,
          16.357037037037035,
          15.998888888888896,
          15.687454545454539,
          15.70264150943396,
          16.240377358490562,
          17.265094339622635,
          18.615714285714287
         ]
        }
       ],
       "layout": {
        "legend": {
         "title": {
          "text": "variable"
         },
         "tracegroupgap": 0
        },
        "template": {
         "data": {
          "bar": [
           {
            "error_x": {
             "color": "#f2f5fa"
            },
            "error_y": {
             "color": "#f2f5fa"
            },
            "marker": {
             "line": {
              "color": "rgb(17,17,17)",
              "width": 0.5
             },
             "pattern": {
              "fillmode": "overlay",
              "size": 10,
              "solidity": 0.2
             }
            },
            "type": "bar"
           }
          ],
          "barpolar": [
           {
            "marker": {
             "line": {
              "color": "rgb(17,17,17)",
              "width": 0.5
             },
             "pattern": {
              "fillmode": "overlay",
              "size": 10,
              "solidity": 0.2
             }
            },
            "type": "barpolar"
           }
          ],
          "carpet": [
           {
            "aaxis": {
             "endlinecolor": "#A2B1C6",
             "gridcolor": "#506784",
             "linecolor": "#506784",
             "minorgridcolor": "#506784",
             "startlinecolor": "#A2B1C6"
            },
            "baxis": {
             "endlinecolor": "#A2B1C6",
             "gridcolor": "#506784",
             "linecolor": "#506784",
             "minorgridcolor": "#506784",
             "startlinecolor": "#A2B1C6"
            },
            "type": "carpet"
           }
          ],
          "choropleth": [
           {
            "colorbar": {
             "outlinewidth": 0,
             "ticks": ""
            },
            "type": "choropleth"
           }
          ],
          "contour": [
           {
            "colorbar": {
             "outlinewidth": 0,
             "ticks": ""
            },
            "colorscale": [
             [
              0,
              "#0d0887"
             ],
             [
              0.1111111111111111,
              "#46039f"
             ],
             [
              0.2222222222222222,
              "#7201a8"
             ],
             [
              0.3333333333333333,
              "#9c179e"
             ],
             [
              0.4444444444444444,
              "#bd3786"
             ],
             [
              0.5555555555555556,
              "#d8576b"
             ],
             [
              0.6666666666666666,
              "#ed7953"
             ],
             [
              0.7777777777777778,
              "#fb9f3a"
             ],
             [
              0.8888888888888888,
              "#fdca26"
             ],
             [
              1,
              "#f0f921"
             ]
            ],
            "type": "contour"
           }
          ],
          "contourcarpet": [
           {
            "colorbar": {
             "outlinewidth": 0,
             "ticks": ""
            },
            "type": "contourcarpet"
           }
          ],
          "heatmap": [
           {
            "colorbar": {
             "outlinewidth": 0,
             "ticks": ""
            },
            "colorscale": [
             [
              0,
              "#0d0887"
             ],
             [
              0.1111111111111111,
              "#46039f"
             ],
             [
              0.2222222222222222,
              "#7201a8"
             ],
             [
              0.3333333333333333,
              "#9c179e"
             ],
             [
              0.4444444444444444,
              "#bd3786"
             ],
             [
              0.5555555555555556,
              "#d8576b"
             ],
             [
              0.6666666666666666,
              "#ed7953"
             ],
             [
              0.7777777777777778,
              "#fb9f3a"
             ],
             [
              0.8888888888888888,
              "#fdca26"
             ],
             [
              1,
              "#f0f921"
             ]
            ],
            "type": "heatmap"
           }
          ],
          "heatmapgl": [
           {
            "colorbar": {
             "outlinewidth": 0,
             "ticks": ""
            },
            "colorscale": [
             [
              0,
              "#0d0887"
             ],
             [
              0.1111111111111111,
              "#46039f"
             ],
             [
              0.2222222222222222,
              "#7201a8"
             ],
             [
              0.3333333333333333,
              "#9c179e"
             ],
             [
              0.4444444444444444,
              "#bd3786"
             ],
             [
              0.5555555555555556,
              "#d8576b"
             ],
             [
              0.6666666666666666,
              "#ed7953"
             ],
             [
              0.7777777777777778,
              "#fb9f3a"
             ],
             [
              0.8888888888888888,
              "#fdca26"
             ],
             [
              1,
              "#f0f921"
             ]
            ],
            "type": "heatmapgl"
           }
          ],
          "histogram": [
           {
            "marker": {
             "pattern": {
              "fillmode": "overlay",
              "size": 10,
              "solidity": 0.2
             }
            },
            "type": "histogram"
           }
          ],
          "histogram2d": [
           {
            "colorbar": {
             "outlinewidth": 0,
             "ticks": ""
            },
            "colorscale": [
             [
              0,
              "#0d0887"
             ],
             [
              0.1111111111111111,
              "#46039f"
             ],
             [
              0.2222222222222222,
              "#7201a8"
             ],
             [
              0.3333333333333333,
              "#9c179e"
             ],
             [
              0.4444444444444444,
              "#bd3786"
             ],
             [
              0.5555555555555556,
              "#d8576b"
             ],
             [
              0.6666666666666666,
              "#ed7953"
             ],
             [
              0.7777777777777778,
              "#fb9f3a"
             ],
             [
              0.8888888888888888,
              "#fdca26"
             ],
             [
              1,
              "#f0f921"
             ]
            ],
            "type": "histogram2d"
           }
          ],
          "histogram2dcontour": [
           {
            "colorbar": {
             "outlinewidth": 0,
             "ticks": ""
            },
            "colorscale": [
             [
              0,
              "#0d0887"
             ],
             [
              0.1111111111111111,
              "#46039f"
             ],
             [
              0.2222222222222222,
              "#7201a8"
             ],
             [
              0.3333333333333333,
              "#9c179e"
             ],
             [
              0.4444444444444444,
              "#bd3786"
             ],
             [
              0.5555555555555556,
              "#d8576b"
             ],
             [
              0.6666666666666666,
              "#ed7953"
             ],
             [
              0.7777777777777778,
              "#fb9f3a"
             ],
             [
              0.8888888888888888,
              "#fdca26"
             ],
             [
              1,
              "#f0f921"
             ]
            ],
            "type": "histogram2dcontour"
           }
          ],
          "mesh3d": [
           {
            "colorbar": {
             "outlinewidth": 0,
             "ticks": ""
            },
            "type": "mesh3d"
           }
          ],
          "parcoords": [
           {
            "line": {
             "colorbar": {
              "outlinewidth": 0,
              "ticks": ""
             }
            },
            "type": "parcoords"
           }
          ],
          "pie": [
           {
            "automargin": true,
            "type": "pie"
           }
          ],
          "scatter": [
           {
            "marker": {
             "line": {
              "color": "#283442"
             }
            },
            "type": "scatter"
           }
          ],
          "scatter3d": [
           {
            "line": {
             "colorbar": {
              "outlinewidth": 0,
              "ticks": ""
             }
            },
            "marker": {
             "colorbar": {
              "outlinewidth": 0,
              "ticks": ""
             }
            },
            "type": "scatter3d"
           }
          ],
          "scattercarpet": [
           {
            "marker": {
             "colorbar": {
              "outlinewidth": 0,
              "ticks": ""
             }
            },
            "type": "scattercarpet"
           }
          ],
          "scattergeo": [
           {
            "marker": {
             "colorbar": {
              "outlinewidth": 0,
              "ticks": ""
             }
            },
            "type": "scattergeo"
           }
          ],
          "scattergl": [
           {
            "marker": {
             "line": {
              "color": "#283442"
             }
            },
            "type": "scattergl"
           }
          ],
          "scattermapbox": [
           {
            "marker": {
             "colorbar": {
              "outlinewidth": 0,
              "ticks": ""
             }
            },
            "type": "scattermapbox"
           }
          ],
          "scatterpolar": [
           {
            "marker": {
             "colorbar": {
              "outlinewidth": 0,
              "ticks": ""
             }
            },
            "type": "scatterpolar"
           }
          ],
          "scatterpolargl": [
           {
            "marker": {
             "colorbar": {
              "outlinewidth": 0,
              "ticks": ""
             }
            },
            "type": "scatterpolargl"
           }
          ],
          "scatterternary": [
           {
            "marker": {
             "colorbar": {
              "outlinewidth": 0,
              "ticks": ""
             }
            },
            "type": "scatterternary"
           }
          ],
          "surface": [
           {
            "colorbar": {
             "outlinewidth": 0,
             "ticks": ""
            },
            "colorscale": [
             [
              0,
              "#0d0887"
             ],
             [
              0.1111111111111111,
              "#46039f"
             ],
             [
              0.2222222222222222,
              "#7201a8"
             ],
             [
              0.3333333333333333,
              "#9c179e"
             ],
             [
              0.4444444444444444,
              "#bd3786"
             ],
             [
              0.5555555555555556,
              "#d8576b"
             ],
             [
              0.6666666666666666,
              "#ed7953"
             ],
             [
              0.7777777777777778,
              "#fb9f3a"
             ],
             [
              0.8888888888888888,
              "#fdca26"
             ],
             [
              1,
              "#f0f921"
             ]
            ],
            "type": "surface"
           }
          ],
          "table": [
           {
            "cells": {
             "fill": {
              "color": "#506784"
             },
             "line": {
              "color": "rgb(17,17,17)"
             }
            },
            "header": {
             "fill": {
              "color": "#2a3f5f"
             },
             "line": {
              "color": "rgb(17,17,17)"
             }
            },
            "type": "table"
           }
          ]
         },
         "layout": {
          "annotationdefaults": {
           "arrowcolor": "#f2f5fa",
           "arrowhead": 0,
           "arrowwidth": 1
          },
          "autotypenumbers": "strict",
          "coloraxis": {
           "colorbar": {
            "outlinewidth": 0,
            "ticks": ""
           }
          },
          "colorscale": {
           "diverging": [
            [
             0,
             "#8e0152"
            ],
            [
             0.1,
             "#c51b7d"
            ],
            [
             0.2,
             "#de77ae"
            ],
            [
             0.3,
             "#f1b6da"
            ],
            [
             0.4,
             "#fde0ef"
            ],
            [
             0.5,
             "#f7f7f7"
            ],
            [
             0.6,
             "#e6f5d0"
            ],
            [
             0.7,
             "#b8e186"
            ],
            [
             0.8,
             "#7fbc41"
            ],
            [
             0.9,
             "#4d9221"
            ],
            [
             1,
             "#276419"
            ]
           ],
           "sequential": [
            [
             0,
             "#0d0887"
            ],
            [
             0.1111111111111111,
             "#46039f"
            ],
            [
             0.2222222222222222,
             "#7201a8"
            ],
            [
             0.3333333333333333,
             "#9c179e"
            ],
            [
             0.4444444444444444,
             "#bd3786"
            ],
            [
             0.5555555555555556,
             "#d8576b"
            ],
            [
             0.6666666666666666,
             "#ed7953"
            ],
            [
             0.7777777777777778,
             "#fb9f3a"
            ],
            [
             0.8888888888888888,
             "#fdca26"
            ],
            [
             1,
             "#f0f921"
            ]
           ],
           "sequentialminus": [
            [
             0,
             "#0d0887"
            ],
            [
             0.1111111111111111,
             "#46039f"
            ],
            [
             0.2222222222222222,
             "#7201a8"
            ],
            [
             0.3333333333333333,
             "#9c179e"
            ],
            [
             0.4444444444444444,
             "#bd3786"
            ],
            [
             0.5555555555555556,
             "#d8576b"
            ],
            [
             0.6666666666666666,
             "#ed7953"
            ],
            [
             0.7777777777777778,
             "#fb9f3a"
            ],
            [
             0.8888888888888888,
             "#fdca26"
            ],
            [
             1,
             "#f0f921"
            ]
           ]
          },
          "colorway": [
           "#636efa",
           "#EF553B",
           "#00cc96",
           "#ab63fa",
           "#FFA15A",
           "#19d3f3",
           "#FF6692",
           "#B6E880",
           "#FF97FF",
           "#FECB52"
          ],
          "font": {
           "color": "#f2f5fa"
          },
          "geo": {
           "bgcolor": "rgb(17,17,17)",
           "lakecolor": "rgb(17,17,17)",
           "landcolor": "rgb(17,17,17)",
           "showlakes": true,
           "showland": true,
           "subunitcolor": "#506784"
          },
          "hoverlabel": {
           "align": "left"
          },
          "hovermode": "closest",
          "mapbox": {
           "style": "dark"
          },
          "paper_bgcolor": "rgb(17,17,17)",
          "plot_bgcolor": "rgb(17,17,17)",
          "polar": {
           "angularaxis": {
            "gridcolor": "#506784",
            "linecolor": "#506784",
            "ticks": ""
           },
           "bgcolor": "rgb(17,17,17)",
           "radialaxis": {
            "gridcolor": "#506784",
            "linecolor": "#506784",
            "ticks": ""
           }
          },
          "scene": {
           "xaxis": {
            "backgroundcolor": "rgb(17,17,17)",
            "gridcolor": "#506784",
            "gridwidth": 2,
            "linecolor": "#506784",
            "showbackground": true,
            "ticks": "",
            "zerolinecolor": "#C8D4E3"
           },
           "yaxis": {
            "backgroundcolor": "rgb(17,17,17)",
            "gridcolor": "#506784",
            "gridwidth": 2,
            "linecolor": "#506784",
            "showbackground": true,
            "ticks": "",
            "zerolinecolor": "#C8D4E3"
           },
           "zaxis": {
            "backgroundcolor": "rgb(17,17,17)",
            "gridcolor": "#506784",
            "gridwidth": 2,
            "linecolor": "#506784",
            "showbackground": true,
            "ticks": "",
            "zerolinecolor": "#C8D4E3"
           }
          },
          "shapedefaults": {
           "line": {
            "color": "#f2f5fa"
           }
          },
          "sliderdefaults": {
           "bgcolor": "#C8D4E3",
           "bordercolor": "rgb(17,17,17)",
           "borderwidth": 1,
           "tickwidth": 0
          },
          "ternary": {
           "aaxis": {
            "gridcolor": "#506784",
            "linecolor": "#506784",
            "ticks": ""
           },
           "baxis": {
            "gridcolor": "#506784",
            "linecolor": "#506784",
            "ticks": ""
           },
           "bgcolor": "rgb(17,17,17)",
           "caxis": {
            "gridcolor": "#506784",
            "linecolor": "#506784",
            "ticks": ""
           }
          },
          "title": {
           "x": 0.05
          },
          "updatemenudefaults": {
           "bgcolor": "#506784",
           "borderwidth": 0
          },
          "xaxis": {
           "automargin": true,
           "gridcolor": "#283442",
           "linecolor": "#506784",
           "ticks": "",
           "title": {
            "standoff": 15
           },
           "zerolinecolor": "#283442",
           "zerolinewidth": 2
          },
          "yaxis": {
           "automargin": true,
           "gridcolor": "#283442",
           "linecolor": "#506784",
           "ticks": "",
           "title": {
            "standoff": 15
           },
           "zerolinecolor": "#283442",
           "zerolinewidth": 2
          }
         }
        },
        "title": {
         "text": "Water Quality"
        },
        "xaxis": {
         "anchor": "y",
         "domain": [
          0,
          1
         ],
         "title": {
          "text": "Date_Time"
         }
        },
        "yaxis": {
         "anchor": "x",
         "domain": [
          0,
          1
         ],
         "title": {
          "text": "value"
         }
        }
       }
      },
      "text/html": [
       "<div>                            <div id=\"58646686-572e-4c5d-b473-fc2a70c8b503\" class=\"plotly-graph-div\" style=\"height:525px; width:100%;\"></div>            <script type=\"text/javascript\">                require([\"plotly\"], function(Plotly) {                    window.PLOTLYENV=window.PLOTLYENV || {};                                    if (document.getElementById(\"58646686-572e-4c5d-b473-fc2a70c8b503\")) {                    Plotly.newPlot(                        \"58646686-572e-4c5d-b473-fc2a70c8b503\",                        [{\"hovertemplate\":\"variable=Temperature<br>Date_Time=%{x}<br>value=%{y}<extra></extra>\",\"legendgroup\":\"Temperature\",\"line\":{\"color\":\"#636efa\",\"dash\":\"solid\"},\"marker\":{\"symbol\":\"circle\"},\"mode\":\"lines\",\"name\":\"Temperature\",\"orientation\":\"v\",\"showlegend\":true,\"x\":[\"2020-01-15T16:00:00\",\"2020-01-15T17:00:00\",\"2020-01-15T18:00:00\",\"2020-01-15T19:00:00\",\"2020-01-15T20:00:00\",\"2020-01-15T21:00:00\",\"2020-01-15T22:00:00\",\"2020-01-15T23:00:00\",\"2020-01-16T00:00:00\",\"2020-01-16T01:00:00\",\"2020-01-16T02:00:00\",\"2020-01-16T03:00:00\",\"2020-01-16T04:00:00\",\"2020-01-16T05:00:00\",\"2020-01-16T06:00:00\",\"2020-01-16T07:00:00\",\"2020-01-16T08:00:00\",\"2020-01-16T09:00:00\",\"2020-01-16T10:00:00\",\"2020-01-16T11:00:00\",\"2020-01-16T12:00:00\",\"2020-01-16T13:00:00\",\"2020-01-16T14:00:00\",\"2020-01-16T15:00:00\",\"2020-01-16T16:00:00\",\"2020-01-16T17:00:00\",\"2020-01-16T18:00:00\",\"2020-01-16T19:00:00\",\"2020-01-16T20:00:00\",\"2020-01-16T21:00:00\",\"2020-01-16T22:00:00\",\"2020-01-16T23:00:00\",\"2020-01-17T00:00:00\",\"2020-01-17T01:00:00\",\"2020-01-17T02:00:00\",\"2020-01-17T03:00:00\",\"2020-01-17T04:00:00\",\"2020-01-17T05:00:00\",\"2020-01-17T06:00:00\",\"2020-01-17T07:00:00\",\"2020-01-17T08:00:00\",\"2020-01-17T09:00:00\",\"2020-01-17T10:00:00\",\"2020-01-17T11:00:00\",\"2020-01-17T12:00:00\",\"2020-01-17T13:00:00\",\"2020-01-17T14:00:00\",\"2020-01-17T15:00:00\",\"2020-01-17T16:00:00\",\"2020-01-17T17:00:00\",\"2020-01-17T18:00:00\",\"2020-01-17T19:00:00\",\"2020-01-17T20:00:00\",\"2020-01-17T21:00:00\",\"2020-01-17T22:00:00\",\"2020-01-17T23:00:00\",\"2020-01-18T00:00:00\",\"2020-01-18T01:00:00\",\"2020-01-18T02:00:00\",\"2020-01-18T03:00:00\",\"2020-01-18T04:00:00\",\"2020-01-18T05:00:00\",\"2020-01-18T06:00:00\",\"2020-01-18T07:00:00\",\"2020-01-18T08:00:00\",\"2020-01-18T09:00:00\",\"2020-01-18T10:00:00\",\"2020-01-18T11:00:00\",\"2020-01-18T12:00:00\",\"2020-01-18T13:00:00\",\"2020-01-18T14:00:00\",\"2020-01-18T15:00:00\",\"2020-01-18T16:00:00\",\"2020-01-18T17:00:00\",\"2020-01-18T18:00:00\",\"2020-01-18T19:00:00\",\"2020-01-18T20:00:00\",\"2020-01-18T21:00:00\",\"2020-01-18T22:00:00\",\"2020-01-18T23:00:00\",\"2020-01-19T00:00:00\",\"2020-01-19T01:00:00\",\"2020-01-19T02:00:00\",\"2020-01-19T03:00:00\",\"2020-01-19T04:00:00\",\"2020-01-19T05:00:00\",\"2020-01-19T06:00:00\",\"2020-01-19T07:00:00\",\"2020-01-19T08:00:00\",\"2020-01-19T09:00:00\",\"2020-01-19T10:00:00\",\"2020-01-19T11:00:00\",\"2020-01-19T12:00:00\",\"2020-01-19T13:00:00\",\"2020-01-19T14:00:00\",\"2020-01-19T15:00:00\",\"2020-01-19T16:00:00\",\"2020-01-19T17:00:00\",\"2020-01-19T18:00:00\",\"2020-01-19T19:00:00\",\"2020-01-19T20:00:00\",\"2020-01-19T21:00:00\",\"2020-01-19T22:00:00\",\"2020-01-19T23:00:00\",\"2020-01-20T00:00:00\",\"2020-01-20T01:00:00\",\"2020-01-20T02:00:00\",\"2020-01-20T03:00:00\",\"2020-01-20T04:00:00\",\"2020-01-20T05:00:00\",\"2020-01-20T06:00:00\",\"2020-01-20T07:00:00\",\"2020-01-20T08:00:00\",\"2020-01-20T09:00:00\",\"2020-01-20T10:00:00\",\"2020-01-20T11:00:00\",\"2020-01-20T12:00:00\",\"2020-01-20T13:00:00\",\"2020-01-20T14:00:00\",\"2020-01-20T15:00:00\",\"2020-01-20T16:00:00\",\"2020-01-20T17:00:00\",\"2020-01-20T18:00:00\",\"2020-01-20T19:00:00\",\"2020-01-20T20:00:00\",\"2020-01-20T21:00:00\",\"2020-01-20T22:00:00\",\"2020-01-20T23:00:00\",\"2020-01-21T00:00:00\",\"2020-01-21T01:00:00\",\"2020-01-21T02:00:00\",\"2020-01-21T03:00:00\",\"2020-01-21T04:00:00\",\"2020-01-21T05:00:00\",\"2020-01-21T06:00:00\",\"2020-01-21T07:00:00\",\"2020-01-21T08:00:00\",\"2020-01-21T09:00:00\",\"2020-01-21T10:00:00\",\"2020-01-21T11:00:00\",\"2020-01-21T12:00:00\",\"2020-01-21T13:00:00\",\"2020-01-21T14:00:00\",\"2020-01-21T15:00:00\",\"2020-01-21T16:00:00\",\"2020-01-21T17:00:00\",\"2020-01-21T18:00:00\",\"2020-01-21T19:00:00\",\"2020-01-21T20:00:00\",\"2020-01-21T21:00:00\",\"2020-01-21T22:00:00\",\"2020-01-21T23:00:00\",\"2020-01-22T00:00:00\",\"2020-01-22T01:00:00\",\"2020-01-22T02:00:00\",\"2020-01-22T03:00:00\",\"2020-01-22T04:00:00\",\"2020-01-22T05:00:00\",\"2020-01-22T06:00:00\",\"2020-01-22T07:00:00\",\"2020-01-22T08:00:00\",\"2020-01-22T09:00:00\",\"2020-01-22T10:00:00\",\"2020-01-22T11:00:00\",\"2020-01-22T12:00:00\",\"2020-01-22T13:00:00\",\"2020-01-22T14:00:00\",\"2020-01-22T15:00:00\",\"2020-01-22T16:00:00\"],\"xaxis\":\"x\",\"y\":[20.731,20.401636363636364,20.158301886792458,19.65824561403509,18.7028813559322,18.315254237288137,18.166874999999994,17.915999999999993,17.735846153846147,17.521475409836068,17.498103448275863,17.463269230769242,17.56857142857143,17.686444444444458,17.83220338983051,18.07545454545455,18.371904761904766,18.91419999999999,19.621379310344825,20.32636363636365,20.679433962264156,21.06181818181818,21.038135593220343,20.4378431372549,20.161071428571425,19.974339622641516,19.829999999999995,19.685000000000002,19.35180327868853,18.997656250000002,18.70492307692308,18.506250000000012,18.27238095238096,17.949682539682538,17.840491803278695,18.05788461538462,18.798064516129035,20.37440677966102,21.90983333333333,23.2571875,23.6575,23.716792452830173,23.475000000000005,23.262272727272734,23.05100000000001,22.612833333333338,22.27199999999999,21.82353846153847,21.371692307692307,21.06140625000002,20.65430769230768,20.254090909090902,19.87538461538461,19.510151515151506,19.13196969696969,18.728461538461534,18.39787878787879,18.141692307692306,18.079090909090908,18.344193548387107,18.960655737704915,20.442307692307693,21.80636363636363,22.994153846153846,23.552461538461554,23.69876923076925,23.437121212121205,23.098307692307685,22.924374999999998,22.59923076923077,22.139365079365092,21.735692307692297,21.34625,21.015000000000015,20.614,20.275081967213122,19.878888888888902,19.47384615384614,19.202153846153845,18.927999999999997,18.63939393939393,18.42292307692307,18.26499999999999,18.533508771929824,19.021525423728814,19.821132075471702,20.614363636363638,21.32568965517241,22.217142857142846,22.99016129032258,23.33388888888889,23.278103448275854,23.217230769230795,23.00075757575758,22.62046153846156,22.221060606060593,21.802807017543866,21.472295081967225,21.15215384615384,20.767142857142858,20.39888888888889,20.08185185185186,19.759107142857147,19.307288135593225,18.362203389830515,17.74962264150943,17.6968,18.267777777777777,18.767592592592596,19.293703703703706,20.020925925925923,20.63592592592593,20.93211538461539,20.856538461538456,20.59888888888889,20.297735849056608,19.96055555555556,19.595660377358488,19.102830188679246,18.65075471698113,18.202800000000003,17.86574074074073,17.498703703703715,17.113584905660378,16.771111111111104,16.469444444444445,16.25094339622641,16.36685185185185,16.76490566037736,17.78925925925926,19.418703703703702,20.796792452830186,22.54111111111111,23.648867924528304,23.54346153846155,23.33148148148147,23.263508771929832,22.982708333333335,22.552777777777777,22.32444444444445,22.00653846153846,21.62071428571429,21.277454545454546,20.930545454545456,20.524629629629633,20.15716981132075,19.602678571428566,19.004999999999995,18.443181818181813,17.90581395348837,17.4954,17.233488372093014,16.8908,16.619245283018873,16.357037037037035,15.998888888888896,15.687454545454539,15.70264150943396,16.240377358490562,17.265094339622635,18.615714285714287,19.42981818181819,19.925000000000004,20.501132075471702,21.508076923076935,22.1828,22.02754716981131,21.618163265306123,21.383157894736836],\"yaxis\":\"y\",\"type\":\"scatter\"},{\"marker\":{\"color\":\"red\",\"size\":10},\"mode\":\"markers\",\"name\":\"Anomaly\",\"x\":[\"2020-01-17T20:00:00\",\"2020-01-19T09:00:00\",\"2020-01-19T10:00:00\",\"2020-01-19T11:00:00\",\"2020-01-19T12:00:00\",\"2020-01-19T13:00:00\",\"2020-01-19T22:00:00\",\"2020-01-19T23:00:00\",\"2020-01-20T00:00:00\",\"2020-01-20T01:00:00\",\"2020-01-20T02:00:00\",\"2020-01-20T10:00:00\",\"2020-01-20T11:00:00\",\"2020-01-20T12:00:00\",\"2020-01-20T13:00:00\",\"2020-01-20T14:00:00\",\"2020-01-20T15:00:00\",\"2020-01-20T16:00:00\",\"2020-01-20T17:00:00\",\"2020-01-20T18:00:00\",\"2020-01-20T19:00:00\",\"2020-01-20T20:00:00\",\"2020-01-20T21:00:00\",\"2020-01-20T22:00:00\",\"2020-01-20T23:00:00\",\"2020-01-21T00:00:00\",\"2020-01-21T01:00:00\",\"2020-01-21T02:00:00\",\"2020-01-21T03:00:00\",\"2020-01-21T04:00:00\",\"2020-01-21T05:00:00\",\"2020-01-21T06:00:00\",\"2020-01-21T07:00:00\",\"2020-01-21T08:00:00\",\"2020-01-21T09:00:00\",\"2020-01-21T10:00:00\",\"2020-01-21T11:00:00\",\"2020-01-21T12:00:00\",\"2020-01-21T13:00:00\",\"2020-01-21T15:00:00\",\"2020-01-21T16:00:00\",\"2020-01-21T23:00:00\",\"2020-01-22T00:00:00\",\"2020-01-22T01:00:00\",\"2020-01-22T02:00:00\",\"2020-01-22T03:00:00\",\"2020-01-22T04:00:00\",\"2020-01-22T05:00:00\",\"2020-01-22T06:00:00\",\"2020-01-22T07:00:00\",\"2020-01-22T08:00:00\"],\"y\":[19.87538461538461,22.99016129032258,23.33388888888889,23.278103448275854,23.217230769230795,23.00075757575758,19.759107142857147,19.307288135593225,18.362203389830515,17.74962264150943,17.6968,20.59888888888889,20.297735849056608,19.96055555555556,19.595660377358488,19.102830188679246,18.65075471698113,18.202800000000003,17.86574074074073,17.498703703703715,17.113584905660378,16.771111111111104,16.469444444444445,16.25094339622641,16.36685185185185,16.76490566037736,17.78925925925926,19.418703703703702,20.796792452830186,22.54111111111111,23.648867924528304,23.54346153846155,23.33148148148147,23.263508771929832,22.982708333333335,22.552777777777777,22.32444444444445,22.00653846153846,21.62071428571429,20.930545454545456,20.524629629629633,17.233488372093014,16.8908,16.619245283018873,16.357037037037035,15.998888888888896,15.687454545454539,15.70264150943396,16.240377358490562,17.265094339622635,18.615714285714287],\"type\":\"scatter\"}],                        {\"template\":{\"data\":{\"barpolar\":[{\"marker\":{\"line\":{\"color\":\"rgb(17,17,17)\",\"width\":0.5},\"pattern\":{\"fillmode\":\"overlay\",\"size\":10,\"solidity\":0.2}},\"type\":\"barpolar\"}],\"bar\":[{\"error_x\":{\"color\":\"#f2f5fa\"},\"error_y\":{\"color\":\"#f2f5fa\"},\"marker\":{\"line\":{\"color\":\"rgb(17,17,17)\",\"width\":0.5},\"pattern\":{\"fillmode\":\"overlay\",\"size\":10,\"solidity\":0.2}},\"type\":\"bar\"}],\"carpet\":[{\"aaxis\":{\"endlinecolor\":\"#A2B1C6\",\"gridcolor\":\"#506784\",\"linecolor\":\"#506784\",\"minorgridcolor\":\"#506784\",\"startlinecolor\":\"#A2B1C6\"},\"baxis\":{\"endlinecolor\":\"#A2B1C6\",\"gridcolor\":\"#506784\",\"linecolor\":\"#506784\",\"minorgridcolor\":\"#506784\",\"startlinecolor\":\"#A2B1C6\"},\"type\":\"carpet\"}],\"choropleth\":[{\"colorbar\":{\"outlinewidth\":0,\"ticks\":\"\"},\"type\":\"choropleth\"}],\"contourcarpet\":[{\"colorbar\":{\"outlinewidth\":0,\"ticks\":\"\"},\"type\":\"contourcarpet\"}],\"contour\":[{\"colorbar\":{\"outlinewidth\":0,\"ticks\":\"\"},\"colorscale\":[[0.0,\"#0d0887\"],[0.1111111111111111,\"#46039f\"],[0.2222222222222222,\"#7201a8\"],[0.3333333333333333,\"#9c179e\"],[0.4444444444444444,\"#bd3786\"],[0.5555555555555556,\"#d8576b\"],[0.6666666666666666,\"#ed7953\"],[0.7777777777777778,\"#fb9f3a\"],[0.8888888888888888,\"#fdca26\"],[1.0,\"#f0f921\"]],\"type\":\"contour\"}],\"heatmapgl\":[{\"colorbar\":{\"outlinewidth\":0,\"ticks\":\"\"},\"colorscale\":[[0.0,\"#0d0887\"],[0.1111111111111111,\"#46039f\"],[0.2222222222222222,\"#7201a8\"],[0.3333333333333333,\"#9c179e\"],[0.4444444444444444,\"#bd3786\"],[0.5555555555555556,\"#d8576b\"],[0.6666666666666666,\"#ed7953\"],[0.7777777777777778,\"#fb9f3a\"],[0.8888888888888888,\"#fdca26\"],[1.0,\"#f0f921\"]],\"type\":\"heatmapgl\"}],\"heatmap\":[{\"colorbar\":{\"outlinewidth\":0,\"ticks\":\"\"},\"colorscale\":[[0.0,\"#0d0887\"],[0.1111111111111111,\"#46039f\"],[0.2222222222222222,\"#7201a8\"],[0.3333333333333333,\"#9c179e\"],[0.4444444444444444,\"#bd3786\"],[0.5555555555555556,\"#d8576b\"],[0.6666666666666666,\"#ed7953\"],[0.7777777777777778,\"#fb9f3a\"],[0.8888888888888888,\"#fdca26\"],[1.0,\"#f0f921\"]],\"type\":\"heatmap\"}],\"histogram2dcontour\":[{\"colorbar\":{\"outlinewidth\":0,\"ticks\":\"\"},\"colorscale\":[[0.0,\"#0d0887\"],[0.1111111111111111,\"#46039f\"],[0.2222222222222222,\"#7201a8\"],[0.3333333333333333,\"#9c179e\"],[0.4444444444444444,\"#bd3786\"],[0.5555555555555556,\"#d8576b\"],[0.6666666666666666,\"#ed7953\"],[0.7777777777777778,\"#fb9f3a\"],[0.8888888888888888,\"#fdca26\"],[1.0,\"#f0f921\"]],\"type\":\"histogram2dcontour\"}],\"histogram2d\":[{\"colorbar\":{\"outlinewidth\":0,\"ticks\":\"\"},\"colorscale\":[[0.0,\"#0d0887\"],[0.1111111111111111,\"#46039f\"],[0.2222222222222222,\"#7201a8\"],[0.3333333333333333,\"#9c179e\"],[0.4444444444444444,\"#bd3786\"],[0.5555555555555556,\"#d8576b\"],[0.6666666666666666,\"#ed7953\"],[0.7777777777777778,\"#fb9f3a\"],[0.8888888888888888,\"#fdca26\"],[1.0,\"#f0f921\"]],\"type\":\"histogram2d\"}],\"histogram\":[{\"marker\":{\"pattern\":{\"fillmode\":\"overlay\",\"size\":10,\"solidity\":0.2}},\"type\":\"histogram\"}],\"mesh3d\":[{\"colorbar\":{\"outlinewidth\":0,\"ticks\":\"\"},\"type\":\"mesh3d\"}],\"parcoords\":[{\"line\":{\"colorbar\":{\"outlinewidth\":0,\"ticks\":\"\"}},\"type\":\"parcoords\"}],\"pie\":[{\"automargin\":true,\"type\":\"pie\"}],\"scatter3d\":[{\"line\":{\"colorbar\":{\"outlinewidth\":0,\"ticks\":\"\"}},\"marker\":{\"colorbar\":{\"outlinewidth\":0,\"ticks\":\"\"}},\"type\":\"scatter3d\"}],\"scattercarpet\":[{\"marker\":{\"colorbar\":{\"outlinewidth\":0,\"ticks\":\"\"}},\"type\":\"scattercarpet\"}],\"scattergeo\":[{\"marker\":{\"colorbar\":{\"outlinewidth\":0,\"ticks\":\"\"}},\"type\":\"scattergeo\"}],\"scattergl\":[{\"marker\":{\"line\":{\"color\":\"#283442\"}},\"type\":\"scattergl\"}],\"scattermapbox\":[{\"marker\":{\"colorbar\":{\"outlinewidth\":0,\"ticks\":\"\"}},\"type\":\"scattermapbox\"}],\"scatterpolargl\":[{\"marker\":{\"colorbar\":{\"outlinewidth\":0,\"ticks\":\"\"}},\"type\":\"scatterpolargl\"}],\"scatterpolar\":[{\"marker\":{\"colorbar\":{\"outlinewidth\":0,\"ticks\":\"\"}},\"type\":\"scatterpolar\"}],\"scatter\":[{\"marker\":{\"line\":{\"color\":\"#283442\"}},\"type\":\"scatter\"}],\"scatterternary\":[{\"marker\":{\"colorbar\":{\"outlinewidth\":0,\"ticks\":\"\"}},\"type\":\"scatterternary\"}],\"surface\":[{\"colorbar\":{\"outlinewidth\":0,\"ticks\":\"\"},\"colorscale\":[[0.0,\"#0d0887\"],[0.1111111111111111,\"#46039f\"],[0.2222222222222222,\"#7201a8\"],[0.3333333333333333,\"#9c179e\"],[0.4444444444444444,\"#bd3786\"],[0.5555555555555556,\"#d8576b\"],[0.6666666666666666,\"#ed7953\"],[0.7777777777777778,\"#fb9f3a\"],[0.8888888888888888,\"#fdca26\"],[1.0,\"#f0f921\"]],\"type\":\"surface\"}],\"table\":[{\"cells\":{\"fill\":{\"color\":\"#506784\"},\"line\":{\"color\":\"rgb(17,17,17)\"}},\"header\":{\"fill\":{\"color\":\"#2a3f5f\"},\"line\":{\"color\":\"rgb(17,17,17)\"}},\"type\":\"table\"}]},\"layout\":{\"annotationdefaults\":{\"arrowcolor\":\"#f2f5fa\",\"arrowhead\":0,\"arrowwidth\":1},\"autotypenumbers\":\"strict\",\"coloraxis\":{\"colorbar\":{\"outlinewidth\":0,\"ticks\":\"\"}},\"colorscale\":{\"diverging\":[[0,\"#8e0152\"],[0.1,\"#c51b7d\"],[0.2,\"#de77ae\"],[0.3,\"#f1b6da\"],[0.4,\"#fde0ef\"],[0.5,\"#f7f7f7\"],[0.6,\"#e6f5d0\"],[0.7,\"#b8e186\"],[0.8,\"#7fbc41\"],[0.9,\"#4d9221\"],[1,\"#276419\"]],\"sequential\":[[0.0,\"#0d0887\"],[0.1111111111111111,\"#46039f\"],[0.2222222222222222,\"#7201a8\"],[0.3333333333333333,\"#9c179e\"],[0.4444444444444444,\"#bd3786\"],[0.5555555555555556,\"#d8576b\"],[0.6666666666666666,\"#ed7953\"],[0.7777777777777778,\"#fb9f3a\"],[0.8888888888888888,\"#fdca26\"],[1.0,\"#f0f921\"]],\"sequentialminus\":[[0.0,\"#0d0887\"],[0.1111111111111111,\"#46039f\"],[0.2222222222222222,\"#7201a8\"],[0.3333333333333333,\"#9c179e\"],[0.4444444444444444,\"#bd3786\"],[0.5555555555555556,\"#d8576b\"],[0.6666666666666666,\"#ed7953\"],[0.7777777777777778,\"#fb9f3a\"],[0.8888888888888888,\"#fdca26\"],[1.0,\"#f0f921\"]]},\"colorway\":[\"#636efa\",\"#EF553B\",\"#00cc96\",\"#ab63fa\",\"#FFA15A\",\"#19d3f3\",\"#FF6692\",\"#B6E880\",\"#FF97FF\",\"#FECB52\"],\"font\":{\"color\":\"#f2f5fa\"},\"geo\":{\"bgcolor\":\"rgb(17,17,17)\",\"lakecolor\":\"rgb(17,17,17)\",\"landcolor\":\"rgb(17,17,17)\",\"showlakes\":true,\"showland\":true,\"subunitcolor\":\"#506784\"},\"hoverlabel\":{\"align\":\"left\"},\"hovermode\":\"closest\",\"mapbox\":{\"style\":\"dark\"},\"paper_bgcolor\":\"rgb(17,17,17)\",\"plot_bgcolor\":\"rgb(17,17,17)\",\"polar\":{\"angularaxis\":{\"gridcolor\":\"#506784\",\"linecolor\":\"#506784\",\"ticks\":\"\"},\"bgcolor\":\"rgb(17,17,17)\",\"radialaxis\":{\"gridcolor\":\"#506784\",\"linecolor\":\"#506784\",\"ticks\":\"\"}},\"scene\":{\"xaxis\":{\"backgroundcolor\":\"rgb(17,17,17)\",\"gridcolor\":\"#506784\",\"gridwidth\":2,\"linecolor\":\"#506784\",\"showbackground\":true,\"ticks\":\"\",\"zerolinecolor\":\"#C8D4E3\"},\"yaxis\":{\"backgroundcolor\":\"rgb(17,17,17)\",\"gridcolor\":\"#506784\",\"gridwidth\":2,\"linecolor\":\"#506784\",\"showbackground\":true,\"ticks\":\"\",\"zerolinecolor\":\"#C8D4E3\"},\"zaxis\":{\"backgroundcolor\":\"rgb(17,17,17)\",\"gridcolor\":\"#506784\",\"gridwidth\":2,\"linecolor\":\"#506784\",\"showbackground\":true,\"ticks\":\"\",\"zerolinecolor\":\"#C8D4E3\"}},\"shapedefaults\":{\"line\":{\"color\":\"#f2f5fa\"}},\"sliderdefaults\":{\"bgcolor\":\"#C8D4E3\",\"bordercolor\":\"rgb(17,17,17)\",\"borderwidth\":1,\"tickwidth\":0},\"ternary\":{\"aaxis\":{\"gridcolor\":\"#506784\",\"linecolor\":\"#506784\",\"ticks\":\"\"},\"baxis\":{\"gridcolor\":\"#506784\",\"linecolor\":\"#506784\",\"ticks\":\"\"},\"bgcolor\":\"rgb(17,17,17)\",\"caxis\":{\"gridcolor\":\"#506784\",\"linecolor\":\"#506784\",\"ticks\":\"\"}},\"title\":{\"x\":0.05},\"updatemenudefaults\":{\"bgcolor\":\"#506784\",\"borderwidth\":0},\"xaxis\":{\"automargin\":true,\"gridcolor\":\"#283442\",\"linecolor\":\"#506784\",\"ticks\":\"\",\"title\":{\"standoff\":15},\"zerolinecolor\":\"#283442\",\"zerolinewidth\":2},\"yaxis\":{\"automargin\":true,\"gridcolor\":\"#283442\",\"linecolor\":\"#506784\",\"ticks\":\"\",\"title\":{\"standoff\":15},\"zerolinecolor\":\"#283442\",\"zerolinewidth\":2}}},\"xaxis\":{\"anchor\":\"y\",\"domain\":[0.0,1.0],\"title\":{\"text\":\"Date_Time\"}},\"yaxis\":{\"anchor\":\"x\",\"domain\":[0.0,1.0],\"title\":{\"text\":\"value\"}},\"legend\":{\"title\":{\"text\":\"variable\"},\"tracegroupgap\":0},\"title\":{\"text\":\"Water Quality\"}},                        {\"responsive\": true}                    ).then(function(){\n",
       "                            \n",
       "var gd = document.getElementById('58646686-572e-4c5d-b473-fc2a70c8b503');\n",
       "var x = new MutationObserver(function (mutations, observer) {{\n",
       "        var display = window.getComputedStyle(gd).display;\n",
       "        if (!display || display === 'none') {{\n",
       "            console.log([gd, 'removed!']);\n",
       "            Plotly.purge(gd);\n",
       "            observer.disconnect();\n",
       "        }}\n",
       "}});\n",
       "\n",
       "// Listen for the removal of the full notebook cells\n",
       "var notebookContainer = gd.closest('#notebook-container');\n",
       "if (notebookContainer) {{\n",
       "    x.observe(notebookContainer, {childList: true});\n",
       "}}\n",
       "\n",
       "// Listen for the clearing of the current output cell\n",
       "var outputEl = gd.closest('.output');\n",
       "if (outputEl) {{\n",
       "    x.observe(outputEl, {childList: true});\n",
       "}}\n",
       "\n",
       "                        })                };                });            </script>        </div>"
      ]
     },
     "metadata": {},
     "output_type": "display_data"
    },
    {
     "data": {
      "application/vnd.plotly.v1+json": {
       "config": {
        "plotlyServerURL": "https://plot.ly"
       },
       "data": [
        {
         "hovertemplate": "variable=pH<br>Date_Time=%{x}<br>value=%{y}<extra></extra>",
         "legendgroup": "pH",
         "line": {
          "color": "#636efa",
          "dash": "solid"
         },
         "marker": {
          "symbol": "circle"
         },
         "mode": "lines",
         "name": "pH",
         "orientation": "v",
         "showlegend": true,
         "type": "scatter",
         "x": [
          "2020-01-15T16:00:00",
          "2020-01-15T17:00:00",
          "2020-01-15T18:00:00",
          "2020-01-15T19:00:00",
          "2020-01-15T20:00:00",
          "2020-01-15T21:00:00",
          "2020-01-15T22:00:00",
          "2020-01-15T23:00:00",
          "2020-01-16T00:00:00",
          "2020-01-16T01:00:00",
          "2020-01-16T02:00:00",
          "2020-01-16T03:00:00",
          "2020-01-16T04:00:00",
          "2020-01-16T05:00:00",
          "2020-01-16T06:00:00",
          "2020-01-16T07:00:00",
          "2020-01-16T08:00:00",
          "2020-01-16T09:00:00",
          "2020-01-16T10:00:00",
          "2020-01-16T11:00:00",
          "2020-01-16T12:00:00",
          "2020-01-16T13:00:00",
          "2020-01-16T14:00:00",
          "2020-01-16T15:00:00",
          "2020-01-16T16:00:00",
          "2020-01-16T17:00:00",
          "2020-01-16T18:00:00",
          "2020-01-16T19:00:00",
          "2020-01-16T20:00:00",
          "2020-01-16T21:00:00",
          "2020-01-16T22:00:00",
          "2020-01-16T23:00:00",
          "2020-01-17T00:00:00",
          "2020-01-17T01:00:00",
          "2020-01-17T02:00:00",
          "2020-01-17T03:00:00",
          "2020-01-17T04:00:00",
          "2020-01-17T05:00:00",
          "2020-01-17T06:00:00",
          "2020-01-17T07:00:00",
          "2020-01-17T08:00:00",
          "2020-01-17T09:00:00",
          "2020-01-17T10:00:00",
          "2020-01-17T11:00:00",
          "2020-01-17T12:00:00",
          "2020-01-17T13:00:00",
          "2020-01-17T14:00:00",
          "2020-01-17T15:00:00",
          "2020-01-17T16:00:00",
          "2020-01-17T17:00:00",
          "2020-01-17T18:00:00",
          "2020-01-17T19:00:00",
          "2020-01-17T20:00:00",
          "2020-01-17T21:00:00",
          "2020-01-17T22:00:00",
          "2020-01-17T23:00:00",
          "2020-01-18T00:00:00",
          "2020-01-18T01:00:00",
          "2020-01-18T02:00:00",
          "2020-01-18T03:00:00",
          "2020-01-18T04:00:00",
          "2020-01-18T05:00:00",
          "2020-01-18T06:00:00",
          "2020-01-18T07:00:00",
          "2020-01-18T08:00:00",
          "2020-01-18T09:00:00",
          "2020-01-18T10:00:00",
          "2020-01-18T11:00:00",
          "2020-01-18T12:00:00",
          "2020-01-18T13:00:00",
          "2020-01-18T14:00:00",
          "2020-01-18T15:00:00",
          "2020-01-18T16:00:00",
          "2020-01-18T17:00:00",
          "2020-01-18T18:00:00",
          "2020-01-18T19:00:00",
          "2020-01-18T20:00:00",
          "2020-01-18T21:00:00",
          "2020-01-18T22:00:00",
          "2020-01-18T23:00:00",
          "2020-01-19T00:00:00",
          "2020-01-19T01:00:00",
          "2020-01-19T02:00:00",
          "2020-01-19T03:00:00",
          "2020-01-19T04:00:00",
          "2020-01-19T05:00:00",
          "2020-01-19T06:00:00",
          "2020-01-19T07:00:00",
          "2020-01-19T08:00:00",
          "2020-01-19T09:00:00",
          "2020-01-19T10:00:00",
          "2020-01-19T11:00:00",
          "2020-01-19T12:00:00",
          "2020-01-19T13:00:00",
          "2020-01-19T14:00:00",
          "2020-01-19T15:00:00",
          "2020-01-19T16:00:00",
          "2020-01-19T17:00:00",
          "2020-01-19T18:00:00",
          "2020-01-19T19:00:00",
          "2020-01-19T20:00:00",
          "2020-01-19T21:00:00",
          "2020-01-19T22:00:00",
          "2020-01-19T23:00:00",
          "2020-01-20T00:00:00",
          "2020-01-20T01:00:00",
          "2020-01-20T02:00:00",
          "2020-01-20T03:00:00",
          "2020-01-20T04:00:00",
          "2020-01-20T05:00:00",
          "2020-01-20T06:00:00",
          "2020-01-20T07:00:00",
          "2020-01-20T08:00:00",
          "2020-01-20T09:00:00",
          "2020-01-20T10:00:00",
          "2020-01-20T11:00:00",
          "2020-01-20T12:00:00",
          "2020-01-20T13:00:00",
          "2020-01-20T14:00:00",
          "2020-01-20T15:00:00",
          "2020-01-20T16:00:00",
          "2020-01-20T17:00:00",
          "2020-01-20T18:00:00",
          "2020-01-20T19:00:00",
          "2020-01-20T20:00:00",
          "2020-01-20T21:00:00",
          "2020-01-20T22:00:00",
          "2020-01-20T23:00:00",
          "2020-01-21T00:00:00",
          "2020-01-21T01:00:00",
          "2020-01-21T02:00:00",
          "2020-01-21T03:00:00",
          "2020-01-21T04:00:00",
          "2020-01-21T05:00:00",
          "2020-01-21T06:00:00",
          "2020-01-21T07:00:00",
          "2020-01-21T08:00:00",
          "2020-01-21T09:00:00",
          "2020-01-21T10:00:00",
          "2020-01-21T11:00:00",
          "2020-01-21T12:00:00",
          "2020-01-21T13:00:00",
          "2020-01-21T14:00:00",
          "2020-01-21T15:00:00",
          "2020-01-21T16:00:00",
          "2020-01-21T17:00:00",
          "2020-01-21T18:00:00",
          "2020-01-21T19:00:00",
          "2020-01-21T20:00:00",
          "2020-01-21T21:00:00",
          "2020-01-21T22:00:00",
          "2020-01-21T23:00:00",
          "2020-01-22T00:00:00",
          "2020-01-22T01:00:00",
          "2020-01-22T02:00:00",
          "2020-01-22T03:00:00",
          "2020-01-22T04:00:00",
          "2020-01-22T05:00:00",
          "2020-01-22T06:00:00",
          "2020-01-22T07:00:00",
          "2020-01-22T08:00:00",
          "2020-01-22T09:00:00",
          "2020-01-22T10:00:00",
          "2020-01-22T11:00:00",
          "2020-01-22T12:00:00",
          "2020-01-22T13:00:00",
          "2020-01-22T14:00:00",
          "2020-01-22T15:00:00",
          "2020-01-22T16:00:00"
         ],
         "xaxis": "x",
         "y": [
          7.7874999999999925,
          7.735636363636369,
          7.7207547169811415,
          7.810877192982455,
          8.06135593220339,
          8.188644067796606,
          8.226718750000007,
          8.229538461538466,
          8.256461538461531,
          8.293770491803281,
          8.308965517241381,
          8.292692307692308,
          8.26392857142857,
          8.216000000000001,
          8.099322033898305,
          7.999318181818182,
          7.895238095238097,
          7.7882,
          7.628620689655172,
          7.518545454545452,
          7.523962264150946,
          7.572545454545452,
          7.641525423728814,
          7.752156862745097,
          7.803035714285717,
          7.889433962264153,
          8.167777777777776,
          8.350178571428572,
          8.398688524590156,
          8.388749999999995,
          8.330615384615381,
          8.273906249999994,
          8.252857142857144,
          8.25730158730158,
          8.255081967213114,
          8.165384615384612,
          7.810806451612903,
          7.456101694915253,
          7.3095,
          7.206093749999992,
          7.21,
          7.220000000000009,
          7.204107142857138,
          7.285454545454545,
          7.499166666666665,
          7.643666666666667,
          7.832000000000002,
          7.99907692307692,
          8.12276923076923,
          8.220781250000003,
          8.302153846153844,
          8.380303030303027,
          8.42769230769231,
          8.421363636363646,
          8.370909090909096,
          8.294307692307688,
          8.245909090909095,
          8.240307692307697,
          8.256515151515146,
          8.2883870967742,
          8.26688524590164,
          7.969076923076924,
          7.763636363636364,
          7.610923076923072,
          7.580615384615379,
          7.543230769230777,
          7.5160606060606066,
          7.517692307692304,
          7.661718749999996,
          7.688769230769229,
          7.576349206349207,
          7.423076923076924,
          7.267812500000002,
          7.15937499999999,
          7.180999999999996,
          7.273114754098362,
          7.387777777777778,
          7.519076923076922,
          7.674153846153846,
          7.851230769230772,
          8.032272727272728,
          8.208307692307692,
          8.29939393939394,
          8.276315789473678,
          8.214406779661013,
          8.140754716981135,
          8.051090909090906,
          7.9381034482758634,
          7.744603174603176,
          7.498387096774195,
          7.247407407407406,
          7.038965517241382,
          6.9970769230769205,
          7.083030303030303,
          7.2343076923076906,
          7.4390909090909085,
          7.6636842105263145,
          7.897213114754102,
          7.990307692307696,
          7.85410714285714,
          7.622222222222219,
          7.366296296296296,
          7.115,
          6.991355932203397,
          7.056101694915254,
          7.269245283018868,
          7.434399999999994,
          7.453888888888887,
          7.401481481481481,
          7.355000000000002,
          7.407407407407407,
          7.503888888888889,
          7.600961538461537,
          7.67980769230769,
          7.785370370370369,
          8.069622641509435,
          8.272037037037041,
          8.332452830188672,
          8.320943396226419,
          8.280377358490556,
          8.257599999999998,
          8.252962962962961,
          8.25833333333333,
          8.185283018867926,
          7.8537037037037045,
          7.499814814814816,
          7.371886792452829,
          7.252962962962971,
          7.221509433962269,
          7.227962962962969,
          7.20629629629629,
          7.311509433962265,
          7.507407407407407,
          7.819245283018868,
          8.053269230769232,
          8.160925925925929,
          8.197894736842096,
          8.212916666666679,
          8.2412962962963,
          8.27592592592593,
          8.30365384615385,
          8.300892857142866,
          8.277636363636356,
          8.242000000000008,
          8.137592592592592,
          7.916037735849054,
          7.726785714285713,
          7.576739130434782,
          7.466818181818184,
          7.339767441860466,
          7.206000000000005,
          7.134186046511626,
          7.092999999999996,
          7.059433962264155,
          7.0420370370370415,
          7.031481481481473,
          7.029999999999991,
          7.021509433962262,
          7.019999999999997,
          7.029811320754721,
          7.059999999999997,
          7.1060000000000025,
          7.159074074074077,
          7.215849056603779,
          7.268846153846156,
          7.321999999999997,
          7.376226415094334,
          7.432244897959181,
          7.483157894736841
         ],
         "yaxis": "y"
        },
        {
         "marker": {
          "color": "red",
          "size": 10
         },
         "mode": "markers",
         "name": "Anomaly",
         "type": "scatter",
         "x": [
          "2020-01-17T20:00:00",
          "2020-01-19T09:00:00",
          "2020-01-19T10:00:00",
          "2020-01-19T11:00:00",
          "2020-01-19T12:00:00",
          "2020-01-19T13:00:00",
          "2020-01-19T22:00:00",
          "2020-01-19T23:00:00",
          "2020-01-20T00:00:00",
          "2020-01-20T01:00:00",
          "2020-01-20T02:00:00",
          "2020-01-20T10:00:00",
          "2020-01-20T11:00:00",
          "2020-01-20T12:00:00",
          "2020-01-20T13:00:00",
          "2020-01-20T14:00:00",
          "2020-01-20T15:00:00",
          "2020-01-20T16:00:00",
          "2020-01-20T17:00:00",
          "2020-01-20T18:00:00",
          "2020-01-20T19:00:00",
          "2020-01-20T20:00:00",
          "2020-01-20T21:00:00",
          "2020-01-20T22:00:00",
          "2020-01-20T23:00:00",
          "2020-01-21T00:00:00",
          "2020-01-21T01:00:00",
          "2020-01-21T02:00:00",
          "2020-01-21T03:00:00",
          "2020-01-21T04:00:00",
          "2020-01-21T05:00:00",
          "2020-01-21T06:00:00",
          "2020-01-21T07:00:00",
          "2020-01-21T08:00:00",
          "2020-01-21T09:00:00",
          "2020-01-21T10:00:00",
          "2020-01-21T11:00:00",
          "2020-01-21T12:00:00",
          "2020-01-21T13:00:00",
          "2020-01-21T15:00:00",
          "2020-01-21T16:00:00",
          "2020-01-21T23:00:00",
          "2020-01-22T00:00:00",
          "2020-01-22T01:00:00",
          "2020-01-22T02:00:00",
          "2020-01-22T03:00:00",
          "2020-01-22T04:00:00",
          "2020-01-22T05:00:00",
          "2020-01-22T06:00:00",
          "2020-01-22T07:00:00",
          "2020-01-22T08:00:00"
         ],
         "y": [
          8.42769230769231,
          7.498387096774195,
          7.247407407407406,
          7.038965517241382,
          6.9970769230769205,
          7.083030303030303,
          7.115,
          6.991355932203397,
          7.056101694915254,
          7.269245283018868,
          7.434399999999994,
          7.785370370370369,
          8.069622641509435,
          8.272037037037041,
          8.332452830188672,
          8.320943396226419,
          8.280377358490556,
          8.257599999999998,
          8.252962962962961,
          8.25833333333333,
          8.185283018867926,
          7.8537037037037045,
          7.499814814814816,
          7.371886792452829,
          7.252962962962971,
          7.221509433962269,
          7.227962962962969,
          7.20629629629629,
          7.311509433962265,
          7.507407407407407,
          7.819245283018868,
          8.053269230769232,
          8.160925925925929,
          8.197894736842096,
          8.212916666666679,
          8.2412962962963,
          8.27592592592593,
          8.30365384615385,
          8.300892857142866,
          8.242000000000008,
          8.137592592592592,
          7.134186046511626,
          7.092999999999996,
          7.059433962264155,
          7.0420370370370415,
          7.031481481481473,
          7.029999999999991,
          7.021509433962262,
          7.019999999999997,
          7.029811320754721,
          7.059999999999997
         ]
        }
       ],
       "layout": {
        "legend": {
         "title": {
          "text": "variable"
         },
         "tracegroupgap": 0
        },
        "template": {
         "data": {
          "bar": [
           {
            "error_x": {
             "color": "#f2f5fa"
            },
            "error_y": {
             "color": "#f2f5fa"
            },
            "marker": {
             "line": {
              "color": "rgb(17,17,17)",
              "width": 0.5
             },
             "pattern": {
              "fillmode": "overlay",
              "size": 10,
              "solidity": 0.2
             }
            },
            "type": "bar"
           }
          ],
          "barpolar": [
           {
            "marker": {
             "line": {
              "color": "rgb(17,17,17)",
              "width": 0.5
             },
             "pattern": {
              "fillmode": "overlay",
              "size": 10,
              "solidity": 0.2
             }
            },
            "type": "barpolar"
           }
          ],
          "carpet": [
           {
            "aaxis": {
             "endlinecolor": "#A2B1C6",
             "gridcolor": "#506784",
             "linecolor": "#506784",
             "minorgridcolor": "#506784",
             "startlinecolor": "#A2B1C6"
            },
            "baxis": {
             "endlinecolor": "#A2B1C6",
             "gridcolor": "#506784",
             "linecolor": "#506784",
             "minorgridcolor": "#506784",
             "startlinecolor": "#A2B1C6"
            },
            "type": "carpet"
           }
          ],
          "choropleth": [
           {
            "colorbar": {
             "outlinewidth": 0,
             "ticks": ""
            },
            "type": "choropleth"
           }
          ],
          "contour": [
           {
            "colorbar": {
             "outlinewidth": 0,
             "ticks": ""
            },
            "colorscale": [
             [
              0,
              "#0d0887"
             ],
             [
              0.1111111111111111,
              "#46039f"
             ],
             [
              0.2222222222222222,
              "#7201a8"
             ],
             [
              0.3333333333333333,
              "#9c179e"
             ],
             [
              0.4444444444444444,
              "#bd3786"
             ],
             [
              0.5555555555555556,
              "#d8576b"
             ],
             [
              0.6666666666666666,
              "#ed7953"
             ],
             [
              0.7777777777777778,
              "#fb9f3a"
             ],
             [
              0.8888888888888888,
              "#fdca26"
             ],
             [
              1,
              "#f0f921"
             ]
            ],
            "type": "contour"
           }
          ],
          "contourcarpet": [
           {
            "colorbar": {
             "outlinewidth": 0,
             "ticks": ""
            },
            "type": "contourcarpet"
           }
          ],
          "heatmap": [
           {
            "colorbar": {
             "outlinewidth": 0,
             "ticks": ""
            },
            "colorscale": [
             [
              0,
              "#0d0887"
             ],
             [
              0.1111111111111111,
              "#46039f"
             ],
             [
              0.2222222222222222,
              "#7201a8"
             ],
             [
              0.3333333333333333,
              "#9c179e"
             ],
             [
              0.4444444444444444,
              "#bd3786"
             ],
             [
              0.5555555555555556,
              "#d8576b"
             ],
             [
              0.6666666666666666,
              "#ed7953"
             ],
             [
              0.7777777777777778,
              "#fb9f3a"
             ],
             [
              0.8888888888888888,
              "#fdca26"
             ],
             [
              1,
              "#f0f921"
             ]
            ],
            "type": "heatmap"
           }
          ],
          "heatmapgl": [
           {
            "colorbar": {
             "outlinewidth": 0,
             "ticks": ""
            },
            "colorscale": [
             [
              0,
              "#0d0887"
             ],
             [
              0.1111111111111111,
              "#46039f"
             ],
             [
              0.2222222222222222,
              "#7201a8"
             ],
             [
              0.3333333333333333,
              "#9c179e"
             ],
             [
              0.4444444444444444,
              "#bd3786"
             ],
             [
              0.5555555555555556,
              "#d8576b"
             ],
             [
              0.6666666666666666,
              "#ed7953"
             ],
             [
              0.7777777777777778,
              "#fb9f3a"
             ],
             [
              0.8888888888888888,
              "#fdca26"
             ],
             [
              1,
              "#f0f921"
             ]
            ],
            "type": "heatmapgl"
           }
          ],
          "histogram": [
           {
            "marker": {
             "pattern": {
              "fillmode": "overlay",
              "size": 10,
              "solidity": 0.2
             }
            },
            "type": "histogram"
           }
          ],
          "histogram2d": [
           {
            "colorbar": {
             "outlinewidth": 0,
             "ticks": ""
            },
            "colorscale": [
             [
              0,
              "#0d0887"
             ],
             [
              0.1111111111111111,
              "#46039f"
             ],
             [
              0.2222222222222222,
              "#7201a8"
             ],
             [
              0.3333333333333333,
              "#9c179e"
             ],
             [
              0.4444444444444444,
              "#bd3786"
             ],
             [
              0.5555555555555556,
              "#d8576b"
             ],
             [
              0.6666666666666666,
              "#ed7953"
             ],
             [
              0.7777777777777778,
              "#fb9f3a"
             ],
             [
              0.8888888888888888,
              "#fdca26"
             ],
             [
              1,
              "#f0f921"
             ]
            ],
            "type": "histogram2d"
           }
          ],
          "histogram2dcontour": [
           {
            "colorbar": {
             "outlinewidth": 0,
             "ticks": ""
            },
            "colorscale": [
             [
              0,
              "#0d0887"
             ],
             [
              0.1111111111111111,
              "#46039f"
             ],
             [
              0.2222222222222222,
              "#7201a8"
             ],
             [
              0.3333333333333333,
              "#9c179e"
             ],
             [
              0.4444444444444444,
              "#bd3786"
             ],
             [
              0.5555555555555556,
              "#d8576b"
             ],
             [
              0.6666666666666666,
              "#ed7953"
             ],
             [
              0.7777777777777778,
              "#fb9f3a"
             ],
             [
              0.8888888888888888,
              "#fdca26"
             ],
             [
              1,
              "#f0f921"
             ]
            ],
            "type": "histogram2dcontour"
           }
          ],
          "mesh3d": [
           {
            "colorbar": {
             "outlinewidth": 0,
             "ticks": ""
            },
            "type": "mesh3d"
           }
          ],
          "parcoords": [
           {
            "line": {
             "colorbar": {
              "outlinewidth": 0,
              "ticks": ""
             }
            },
            "type": "parcoords"
           }
          ],
          "pie": [
           {
            "automargin": true,
            "type": "pie"
           }
          ],
          "scatter": [
           {
            "marker": {
             "line": {
              "color": "#283442"
             }
            },
            "type": "scatter"
           }
          ],
          "scatter3d": [
           {
            "line": {
             "colorbar": {
              "outlinewidth": 0,
              "ticks": ""
             }
            },
            "marker": {
             "colorbar": {
              "outlinewidth": 0,
              "ticks": ""
             }
            },
            "type": "scatter3d"
           }
          ],
          "scattercarpet": [
           {
            "marker": {
             "colorbar": {
              "outlinewidth": 0,
              "ticks": ""
             }
            },
            "type": "scattercarpet"
           }
          ],
          "scattergeo": [
           {
            "marker": {
             "colorbar": {
              "outlinewidth": 0,
              "ticks": ""
             }
            },
            "type": "scattergeo"
           }
          ],
          "scattergl": [
           {
            "marker": {
             "line": {
              "color": "#283442"
             }
            },
            "type": "scattergl"
           }
          ],
          "scattermapbox": [
           {
            "marker": {
             "colorbar": {
              "outlinewidth": 0,
              "ticks": ""
             }
            },
            "type": "scattermapbox"
           }
          ],
          "scatterpolar": [
           {
            "marker": {
             "colorbar": {
              "outlinewidth": 0,
              "ticks": ""
             }
            },
            "type": "scatterpolar"
           }
          ],
          "scatterpolargl": [
           {
            "marker": {
             "colorbar": {
              "outlinewidth": 0,
              "ticks": ""
             }
            },
            "type": "scatterpolargl"
           }
          ],
          "scatterternary": [
           {
            "marker": {
             "colorbar": {
              "outlinewidth": 0,
              "ticks": ""
             }
            },
            "type": "scatterternary"
           }
          ],
          "surface": [
           {
            "colorbar": {
             "outlinewidth": 0,
             "ticks": ""
            },
            "colorscale": [
             [
              0,
              "#0d0887"
             ],
             [
              0.1111111111111111,
              "#46039f"
             ],
             [
              0.2222222222222222,
              "#7201a8"
             ],
             [
              0.3333333333333333,
              "#9c179e"
             ],
             [
              0.4444444444444444,
              "#bd3786"
             ],
             [
              0.5555555555555556,
              "#d8576b"
             ],
             [
              0.6666666666666666,
              "#ed7953"
             ],
             [
              0.7777777777777778,
              "#fb9f3a"
             ],
             [
              0.8888888888888888,
              "#fdca26"
             ],
             [
              1,
              "#f0f921"
             ]
            ],
            "type": "surface"
           }
          ],
          "table": [
           {
            "cells": {
             "fill": {
              "color": "#506784"
             },
             "line": {
              "color": "rgb(17,17,17)"
             }
            },
            "header": {
             "fill": {
              "color": "#2a3f5f"
             },
             "line": {
              "color": "rgb(17,17,17)"
             }
            },
            "type": "table"
           }
          ]
         },
         "layout": {
          "annotationdefaults": {
           "arrowcolor": "#f2f5fa",
           "arrowhead": 0,
           "arrowwidth": 1
          },
          "autotypenumbers": "strict",
          "coloraxis": {
           "colorbar": {
            "outlinewidth": 0,
            "ticks": ""
           }
          },
          "colorscale": {
           "diverging": [
            [
             0,
             "#8e0152"
            ],
            [
             0.1,
             "#c51b7d"
            ],
            [
             0.2,
             "#de77ae"
            ],
            [
             0.3,
             "#f1b6da"
            ],
            [
             0.4,
             "#fde0ef"
            ],
            [
             0.5,
             "#f7f7f7"
            ],
            [
             0.6,
             "#e6f5d0"
            ],
            [
             0.7,
             "#b8e186"
            ],
            [
             0.8,
             "#7fbc41"
            ],
            [
             0.9,
             "#4d9221"
            ],
            [
             1,
             "#276419"
            ]
           ],
           "sequential": [
            [
             0,
             "#0d0887"
            ],
            [
             0.1111111111111111,
             "#46039f"
            ],
            [
             0.2222222222222222,
             "#7201a8"
            ],
            [
             0.3333333333333333,
             "#9c179e"
            ],
            [
             0.4444444444444444,
             "#bd3786"
            ],
            [
             0.5555555555555556,
             "#d8576b"
            ],
            [
             0.6666666666666666,
             "#ed7953"
            ],
            [
             0.7777777777777778,
             "#fb9f3a"
            ],
            [
             0.8888888888888888,
             "#fdca26"
            ],
            [
             1,
             "#f0f921"
            ]
           ],
           "sequentialminus": [
            [
             0,
             "#0d0887"
            ],
            [
             0.1111111111111111,
             "#46039f"
            ],
            [
             0.2222222222222222,
             "#7201a8"
            ],
            [
             0.3333333333333333,
             "#9c179e"
            ],
            [
             0.4444444444444444,
             "#bd3786"
            ],
            [
             0.5555555555555556,
             "#d8576b"
            ],
            [
             0.6666666666666666,
             "#ed7953"
            ],
            [
             0.7777777777777778,
             "#fb9f3a"
            ],
            [
             0.8888888888888888,
             "#fdca26"
            ],
            [
             1,
             "#f0f921"
            ]
           ]
          },
          "colorway": [
           "#636efa",
           "#EF553B",
           "#00cc96",
           "#ab63fa",
           "#FFA15A",
           "#19d3f3",
           "#FF6692",
           "#B6E880",
           "#FF97FF",
           "#FECB52"
          ],
          "font": {
           "color": "#f2f5fa"
          },
          "geo": {
           "bgcolor": "rgb(17,17,17)",
           "lakecolor": "rgb(17,17,17)",
           "landcolor": "rgb(17,17,17)",
           "showlakes": true,
           "showland": true,
           "subunitcolor": "#506784"
          },
          "hoverlabel": {
           "align": "left"
          },
          "hovermode": "closest",
          "mapbox": {
           "style": "dark"
          },
          "paper_bgcolor": "rgb(17,17,17)",
          "plot_bgcolor": "rgb(17,17,17)",
          "polar": {
           "angularaxis": {
            "gridcolor": "#506784",
            "linecolor": "#506784",
            "ticks": ""
           },
           "bgcolor": "rgb(17,17,17)",
           "radialaxis": {
            "gridcolor": "#506784",
            "linecolor": "#506784",
            "ticks": ""
           }
          },
          "scene": {
           "xaxis": {
            "backgroundcolor": "rgb(17,17,17)",
            "gridcolor": "#506784",
            "gridwidth": 2,
            "linecolor": "#506784",
            "showbackground": true,
            "ticks": "",
            "zerolinecolor": "#C8D4E3"
           },
           "yaxis": {
            "backgroundcolor": "rgb(17,17,17)",
            "gridcolor": "#506784",
            "gridwidth": 2,
            "linecolor": "#506784",
            "showbackground": true,
            "ticks": "",
            "zerolinecolor": "#C8D4E3"
           },
           "zaxis": {
            "backgroundcolor": "rgb(17,17,17)",
            "gridcolor": "#506784",
            "gridwidth": 2,
            "linecolor": "#506784",
            "showbackground": true,
            "ticks": "",
            "zerolinecolor": "#C8D4E3"
           }
          },
          "shapedefaults": {
           "line": {
            "color": "#f2f5fa"
           }
          },
          "sliderdefaults": {
           "bgcolor": "#C8D4E3",
           "bordercolor": "rgb(17,17,17)",
           "borderwidth": 1,
           "tickwidth": 0
          },
          "ternary": {
           "aaxis": {
            "gridcolor": "#506784",
            "linecolor": "#506784",
            "ticks": ""
           },
           "baxis": {
            "gridcolor": "#506784",
            "linecolor": "#506784",
            "ticks": ""
           },
           "bgcolor": "rgb(17,17,17)",
           "caxis": {
            "gridcolor": "#506784",
            "linecolor": "#506784",
            "ticks": ""
           }
          },
          "title": {
           "x": 0.05
          },
          "updatemenudefaults": {
           "bgcolor": "#506784",
           "borderwidth": 0
          },
          "xaxis": {
           "automargin": true,
           "gridcolor": "#283442",
           "linecolor": "#506784",
           "ticks": "",
           "title": {
            "standoff": 15
           },
           "zerolinecolor": "#283442",
           "zerolinewidth": 2
          },
          "yaxis": {
           "automargin": true,
           "gridcolor": "#283442",
           "linecolor": "#506784",
           "ticks": "",
           "title": {
            "standoff": 15
           },
           "zerolinecolor": "#283442",
           "zerolinewidth": 2
          }
         }
        },
        "title": {
         "text": "Water Quality"
        },
        "xaxis": {
         "anchor": "y",
         "domain": [
          0,
          1
         ],
         "title": {
          "text": "Date_Time"
         }
        },
        "yaxis": {
         "anchor": "x",
         "domain": [
          0,
          1
         ],
         "title": {
          "text": "value"
         }
        }
       }
      },
      "text/html": [
       "<div>                            <div id=\"92fef892-6740-4b03-bcc2-bcc714d90aac\" class=\"plotly-graph-div\" style=\"height:525px; width:100%;\"></div>            <script type=\"text/javascript\">                require([\"plotly\"], function(Plotly) {                    window.PLOTLYENV=window.PLOTLYENV || {};                                    if (document.getElementById(\"92fef892-6740-4b03-bcc2-bcc714d90aac\")) {                    Plotly.newPlot(                        \"92fef892-6740-4b03-bcc2-bcc714d90aac\",                        [{\"hovertemplate\":\"variable=pH<br>Date_Time=%{x}<br>value=%{y}<extra></extra>\",\"legendgroup\":\"pH\",\"line\":{\"color\":\"#636efa\",\"dash\":\"solid\"},\"marker\":{\"symbol\":\"circle\"},\"mode\":\"lines\",\"name\":\"pH\",\"orientation\":\"v\",\"showlegend\":true,\"x\":[\"2020-01-15T16:00:00\",\"2020-01-15T17:00:00\",\"2020-01-15T18:00:00\",\"2020-01-15T19:00:00\",\"2020-01-15T20:00:00\",\"2020-01-15T21:00:00\",\"2020-01-15T22:00:00\",\"2020-01-15T23:00:00\",\"2020-01-16T00:00:00\",\"2020-01-16T01:00:00\",\"2020-01-16T02:00:00\",\"2020-01-16T03:00:00\",\"2020-01-16T04:00:00\",\"2020-01-16T05:00:00\",\"2020-01-16T06:00:00\",\"2020-01-16T07:00:00\",\"2020-01-16T08:00:00\",\"2020-01-16T09:00:00\",\"2020-01-16T10:00:00\",\"2020-01-16T11:00:00\",\"2020-01-16T12:00:00\",\"2020-01-16T13:00:00\",\"2020-01-16T14:00:00\",\"2020-01-16T15:00:00\",\"2020-01-16T16:00:00\",\"2020-01-16T17:00:00\",\"2020-01-16T18:00:00\",\"2020-01-16T19:00:00\",\"2020-01-16T20:00:00\",\"2020-01-16T21:00:00\",\"2020-01-16T22:00:00\",\"2020-01-16T23:00:00\",\"2020-01-17T00:00:00\",\"2020-01-17T01:00:00\",\"2020-01-17T02:00:00\",\"2020-01-17T03:00:00\",\"2020-01-17T04:00:00\",\"2020-01-17T05:00:00\",\"2020-01-17T06:00:00\",\"2020-01-17T07:00:00\",\"2020-01-17T08:00:00\",\"2020-01-17T09:00:00\",\"2020-01-17T10:00:00\",\"2020-01-17T11:00:00\",\"2020-01-17T12:00:00\",\"2020-01-17T13:00:00\",\"2020-01-17T14:00:00\",\"2020-01-17T15:00:00\",\"2020-01-17T16:00:00\",\"2020-01-17T17:00:00\",\"2020-01-17T18:00:00\",\"2020-01-17T19:00:00\",\"2020-01-17T20:00:00\",\"2020-01-17T21:00:00\",\"2020-01-17T22:00:00\",\"2020-01-17T23:00:00\",\"2020-01-18T00:00:00\",\"2020-01-18T01:00:00\",\"2020-01-18T02:00:00\",\"2020-01-18T03:00:00\",\"2020-01-18T04:00:00\",\"2020-01-18T05:00:00\",\"2020-01-18T06:00:00\",\"2020-01-18T07:00:00\",\"2020-01-18T08:00:00\",\"2020-01-18T09:00:00\",\"2020-01-18T10:00:00\",\"2020-01-18T11:00:00\",\"2020-01-18T12:00:00\",\"2020-01-18T13:00:00\",\"2020-01-18T14:00:00\",\"2020-01-18T15:00:00\",\"2020-01-18T16:00:00\",\"2020-01-18T17:00:00\",\"2020-01-18T18:00:00\",\"2020-01-18T19:00:00\",\"2020-01-18T20:00:00\",\"2020-01-18T21:00:00\",\"2020-01-18T22:00:00\",\"2020-01-18T23:00:00\",\"2020-01-19T00:00:00\",\"2020-01-19T01:00:00\",\"2020-01-19T02:00:00\",\"2020-01-19T03:00:00\",\"2020-01-19T04:00:00\",\"2020-01-19T05:00:00\",\"2020-01-19T06:00:00\",\"2020-01-19T07:00:00\",\"2020-01-19T08:00:00\",\"2020-01-19T09:00:00\",\"2020-01-19T10:00:00\",\"2020-01-19T11:00:00\",\"2020-01-19T12:00:00\",\"2020-01-19T13:00:00\",\"2020-01-19T14:00:00\",\"2020-01-19T15:00:00\",\"2020-01-19T16:00:00\",\"2020-01-19T17:00:00\",\"2020-01-19T18:00:00\",\"2020-01-19T19:00:00\",\"2020-01-19T20:00:00\",\"2020-01-19T21:00:00\",\"2020-01-19T22:00:00\",\"2020-01-19T23:00:00\",\"2020-01-20T00:00:00\",\"2020-01-20T01:00:00\",\"2020-01-20T02:00:00\",\"2020-01-20T03:00:00\",\"2020-01-20T04:00:00\",\"2020-01-20T05:00:00\",\"2020-01-20T06:00:00\",\"2020-01-20T07:00:00\",\"2020-01-20T08:00:00\",\"2020-01-20T09:00:00\",\"2020-01-20T10:00:00\",\"2020-01-20T11:00:00\",\"2020-01-20T12:00:00\",\"2020-01-20T13:00:00\",\"2020-01-20T14:00:00\",\"2020-01-20T15:00:00\",\"2020-01-20T16:00:00\",\"2020-01-20T17:00:00\",\"2020-01-20T18:00:00\",\"2020-01-20T19:00:00\",\"2020-01-20T20:00:00\",\"2020-01-20T21:00:00\",\"2020-01-20T22:00:00\",\"2020-01-20T23:00:00\",\"2020-01-21T00:00:00\",\"2020-01-21T01:00:00\",\"2020-01-21T02:00:00\",\"2020-01-21T03:00:00\",\"2020-01-21T04:00:00\",\"2020-01-21T05:00:00\",\"2020-01-21T06:00:00\",\"2020-01-21T07:00:00\",\"2020-01-21T08:00:00\",\"2020-01-21T09:00:00\",\"2020-01-21T10:00:00\",\"2020-01-21T11:00:00\",\"2020-01-21T12:00:00\",\"2020-01-21T13:00:00\",\"2020-01-21T14:00:00\",\"2020-01-21T15:00:00\",\"2020-01-21T16:00:00\",\"2020-01-21T17:00:00\",\"2020-01-21T18:00:00\",\"2020-01-21T19:00:00\",\"2020-01-21T20:00:00\",\"2020-01-21T21:00:00\",\"2020-01-21T22:00:00\",\"2020-01-21T23:00:00\",\"2020-01-22T00:00:00\",\"2020-01-22T01:00:00\",\"2020-01-22T02:00:00\",\"2020-01-22T03:00:00\",\"2020-01-22T04:00:00\",\"2020-01-22T05:00:00\",\"2020-01-22T06:00:00\",\"2020-01-22T07:00:00\",\"2020-01-22T08:00:00\",\"2020-01-22T09:00:00\",\"2020-01-22T10:00:00\",\"2020-01-22T11:00:00\",\"2020-01-22T12:00:00\",\"2020-01-22T13:00:00\",\"2020-01-22T14:00:00\",\"2020-01-22T15:00:00\",\"2020-01-22T16:00:00\"],\"xaxis\":\"x\",\"y\":[7.7874999999999925,7.735636363636369,7.7207547169811415,7.810877192982455,8.06135593220339,8.188644067796606,8.226718750000007,8.229538461538466,8.256461538461531,8.293770491803281,8.308965517241381,8.292692307692308,8.26392857142857,8.216000000000001,8.099322033898305,7.999318181818182,7.895238095238097,7.7882,7.628620689655172,7.518545454545452,7.523962264150946,7.572545454545452,7.641525423728814,7.752156862745097,7.803035714285717,7.889433962264153,8.167777777777776,8.350178571428572,8.398688524590156,8.388749999999995,8.330615384615381,8.273906249999994,8.252857142857144,8.25730158730158,8.255081967213114,8.165384615384612,7.810806451612903,7.456101694915253,7.3095,7.206093749999992,7.21,7.220000000000009,7.204107142857138,7.285454545454545,7.499166666666665,7.643666666666667,7.832000000000002,7.99907692307692,8.12276923076923,8.220781250000003,8.302153846153844,8.380303030303027,8.42769230769231,8.421363636363646,8.370909090909096,8.294307692307688,8.245909090909095,8.240307692307697,8.256515151515146,8.2883870967742,8.26688524590164,7.969076923076924,7.763636363636364,7.610923076923072,7.580615384615379,7.543230769230777,7.5160606060606066,7.517692307692304,7.661718749999996,7.688769230769229,7.576349206349207,7.423076923076924,7.267812500000002,7.15937499999999,7.180999999999996,7.273114754098362,7.387777777777778,7.519076923076922,7.674153846153846,7.851230769230772,8.032272727272728,8.208307692307692,8.29939393939394,8.276315789473678,8.214406779661013,8.140754716981135,8.051090909090906,7.9381034482758634,7.744603174603176,7.498387096774195,7.247407407407406,7.038965517241382,6.9970769230769205,7.083030303030303,7.2343076923076906,7.4390909090909085,7.6636842105263145,7.897213114754102,7.990307692307696,7.85410714285714,7.622222222222219,7.366296296296296,7.115,6.991355932203397,7.056101694915254,7.269245283018868,7.434399999999994,7.453888888888887,7.401481481481481,7.355000000000002,7.407407407407407,7.503888888888889,7.600961538461537,7.67980769230769,7.785370370370369,8.069622641509435,8.272037037037041,8.332452830188672,8.320943396226419,8.280377358490556,8.257599999999998,8.252962962962961,8.25833333333333,8.185283018867926,7.8537037037037045,7.499814814814816,7.371886792452829,7.252962962962971,7.221509433962269,7.227962962962969,7.20629629629629,7.311509433962265,7.507407407407407,7.819245283018868,8.053269230769232,8.160925925925929,8.197894736842096,8.212916666666679,8.2412962962963,8.27592592592593,8.30365384615385,8.300892857142866,8.277636363636356,8.242000000000008,8.137592592592592,7.916037735849054,7.726785714285713,7.576739130434782,7.466818181818184,7.339767441860466,7.206000000000005,7.134186046511626,7.092999999999996,7.059433962264155,7.0420370370370415,7.031481481481473,7.029999999999991,7.021509433962262,7.019999999999997,7.029811320754721,7.059999999999997,7.1060000000000025,7.159074074074077,7.215849056603779,7.268846153846156,7.321999999999997,7.376226415094334,7.432244897959181,7.483157894736841],\"yaxis\":\"y\",\"type\":\"scatter\"},{\"marker\":{\"color\":\"red\",\"size\":10},\"mode\":\"markers\",\"name\":\"Anomaly\",\"x\":[\"2020-01-17T20:00:00\",\"2020-01-19T09:00:00\",\"2020-01-19T10:00:00\",\"2020-01-19T11:00:00\",\"2020-01-19T12:00:00\",\"2020-01-19T13:00:00\",\"2020-01-19T22:00:00\",\"2020-01-19T23:00:00\",\"2020-01-20T00:00:00\",\"2020-01-20T01:00:00\",\"2020-01-20T02:00:00\",\"2020-01-20T10:00:00\",\"2020-01-20T11:00:00\",\"2020-01-20T12:00:00\",\"2020-01-20T13:00:00\",\"2020-01-20T14:00:00\",\"2020-01-20T15:00:00\",\"2020-01-20T16:00:00\",\"2020-01-20T17:00:00\",\"2020-01-20T18:00:00\",\"2020-01-20T19:00:00\",\"2020-01-20T20:00:00\",\"2020-01-20T21:00:00\",\"2020-01-20T22:00:00\",\"2020-01-20T23:00:00\",\"2020-01-21T00:00:00\",\"2020-01-21T01:00:00\",\"2020-01-21T02:00:00\",\"2020-01-21T03:00:00\",\"2020-01-21T04:00:00\",\"2020-01-21T05:00:00\",\"2020-01-21T06:00:00\",\"2020-01-21T07:00:00\",\"2020-01-21T08:00:00\",\"2020-01-21T09:00:00\",\"2020-01-21T10:00:00\",\"2020-01-21T11:00:00\",\"2020-01-21T12:00:00\",\"2020-01-21T13:00:00\",\"2020-01-21T15:00:00\",\"2020-01-21T16:00:00\",\"2020-01-21T23:00:00\",\"2020-01-22T00:00:00\",\"2020-01-22T01:00:00\",\"2020-01-22T02:00:00\",\"2020-01-22T03:00:00\",\"2020-01-22T04:00:00\",\"2020-01-22T05:00:00\",\"2020-01-22T06:00:00\",\"2020-01-22T07:00:00\",\"2020-01-22T08:00:00\"],\"y\":[8.42769230769231,7.498387096774195,7.247407407407406,7.038965517241382,6.9970769230769205,7.083030303030303,7.115,6.991355932203397,7.056101694915254,7.269245283018868,7.434399999999994,7.785370370370369,8.069622641509435,8.272037037037041,8.332452830188672,8.320943396226419,8.280377358490556,8.257599999999998,8.252962962962961,8.25833333333333,8.185283018867926,7.8537037037037045,7.499814814814816,7.371886792452829,7.252962962962971,7.221509433962269,7.227962962962969,7.20629629629629,7.311509433962265,7.507407407407407,7.819245283018868,8.053269230769232,8.160925925925929,8.197894736842096,8.212916666666679,8.2412962962963,8.27592592592593,8.30365384615385,8.300892857142866,8.242000000000008,8.137592592592592,7.134186046511626,7.092999999999996,7.059433962264155,7.0420370370370415,7.031481481481473,7.029999999999991,7.021509433962262,7.019999999999997,7.029811320754721,7.059999999999997],\"type\":\"scatter\"}],                        {\"template\":{\"data\":{\"barpolar\":[{\"marker\":{\"line\":{\"color\":\"rgb(17,17,17)\",\"width\":0.5},\"pattern\":{\"fillmode\":\"overlay\",\"size\":10,\"solidity\":0.2}},\"type\":\"barpolar\"}],\"bar\":[{\"error_x\":{\"color\":\"#f2f5fa\"},\"error_y\":{\"color\":\"#f2f5fa\"},\"marker\":{\"line\":{\"color\":\"rgb(17,17,17)\",\"width\":0.5},\"pattern\":{\"fillmode\":\"overlay\",\"size\":10,\"solidity\":0.2}},\"type\":\"bar\"}],\"carpet\":[{\"aaxis\":{\"endlinecolor\":\"#A2B1C6\",\"gridcolor\":\"#506784\",\"linecolor\":\"#506784\",\"minorgridcolor\":\"#506784\",\"startlinecolor\":\"#A2B1C6\"},\"baxis\":{\"endlinecolor\":\"#A2B1C6\",\"gridcolor\":\"#506784\",\"linecolor\":\"#506784\",\"minorgridcolor\":\"#506784\",\"startlinecolor\":\"#A2B1C6\"},\"type\":\"carpet\"}],\"choropleth\":[{\"colorbar\":{\"outlinewidth\":0,\"ticks\":\"\"},\"type\":\"choropleth\"}],\"contourcarpet\":[{\"colorbar\":{\"outlinewidth\":0,\"ticks\":\"\"},\"type\":\"contourcarpet\"}],\"contour\":[{\"colorbar\":{\"outlinewidth\":0,\"ticks\":\"\"},\"colorscale\":[[0.0,\"#0d0887\"],[0.1111111111111111,\"#46039f\"],[0.2222222222222222,\"#7201a8\"],[0.3333333333333333,\"#9c179e\"],[0.4444444444444444,\"#bd3786\"],[0.5555555555555556,\"#d8576b\"],[0.6666666666666666,\"#ed7953\"],[0.7777777777777778,\"#fb9f3a\"],[0.8888888888888888,\"#fdca26\"],[1.0,\"#f0f921\"]],\"type\":\"contour\"}],\"heatmapgl\":[{\"colorbar\":{\"outlinewidth\":0,\"ticks\":\"\"},\"colorscale\":[[0.0,\"#0d0887\"],[0.1111111111111111,\"#46039f\"],[0.2222222222222222,\"#7201a8\"],[0.3333333333333333,\"#9c179e\"],[0.4444444444444444,\"#bd3786\"],[0.5555555555555556,\"#d8576b\"],[0.6666666666666666,\"#ed7953\"],[0.7777777777777778,\"#fb9f3a\"],[0.8888888888888888,\"#fdca26\"],[1.0,\"#f0f921\"]],\"type\":\"heatmapgl\"}],\"heatmap\":[{\"colorbar\":{\"outlinewidth\":0,\"ticks\":\"\"},\"colorscale\":[[0.0,\"#0d0887\"],[0.1111111111111111,\"#46039f\"],[0.2222222222222222,\"#7201a8\"],[0.3333333333333333,\"#9c179e\"],[0.4444444444444444,\"#bd3786\"],[0.5555555555555556,\"#d8576b\"],[0.6666666666666666,\"#ed7953\"],[0.7777777777777778,\"#fb9f3a\"],[0.8888888888888888,\"#fdca26\"],[1.0,\"#f0f921\"]],\"type\":\"heatmap\"}],\"histogram2dcontour\":[{\"colorbar\":{\"outlinewidth\":0,\"ticks\":\"\"},\"colorscale\":[[0.0,\"#0d0887\"],[0.1111111111111111,\"#46039f\"],[0.2222222222222222,\"#7201a8\"],[0.3333333333333333,\"#9c179e\"],[0.4444444444444444,\"#bd3786\"],[0.5555555555555556,\"#d8576b\"],[0.6666666666666666,\"#ed7953\"],[0.7777777777777778,\"#fb9f3a\"],[0.8888888888888888,\"#fdca26\"],[1.0,\"#f0f921\"]],\"type\":\"histogram2dcontour\"}],\"histogram2d\":[{\"colorbar\":{\"outlinewidth\":0,\"ticks\":\"\"},\"colorscale\":[[0.0,\"#0d0887\"],[0.1111111111111111,\"#46039f\"],[0.2222222222222222,\"#7201a8\"],[0.3333333333333333,\"#9c179e\"],[0.4444444444444444,\"#bd3786\"],[0.5555555555555556,\"#d8576b\"],[0.6666666666666666,\"#ed7953\"],[0.7777777777777778,\"#fb9f3a\"],[0.8888888888888888,\"#fdca26\"],[1.0,\"#f0f921\"]],\"type\":\"histogram2d\"}],\"histogram\":[{\"marker\":{\"pattern\":{\"fillmode\":\"overlay\",\"size\":10,\"solidity\":0.2}},\"type\":\"histogram\"}],\"mesh3d\":[{\"colorbar\":{\"outlinewidth\":0,\"ticks\":\"\"},\"type\":\"mesh3d\"}],\"parcoords\":[{\"line\":{\"colorbar\":{\"outlinewidth\":0,\"ticks\":\"\"}},\"type\":\"parcoords\"}],\"pie\":[{\"automargin\":true,\"type\":\"pie\"}],\"scatter3d\":[{\"line\":{\"colorbar\":{\"outlinewidth\":0,\"ticks\":\"\"}},\"marker\":{\"colorbar\":{\"outlinewidth\":0,\"ticks\":\"\"}},\"type\":\"scatter3d\"}],\"scattercarpet\":[{\"marker\":{\"colorbar\":{\"outlinewidth\":0,\"ticks\":\"\"}},\"type\":\"scattercarpet\"}],\"scattergeo\":[{\"marker\":{\"colorbar\":{\"outlinewidth\":0,\"ticks\":\"\"}},\"type\":\"scattergeo\"}],\"scattergl\":[{\"marker\":{\"line\":{\"color\":\"#283442\"}},\"type\":\"scattergl\"}],\"scattermapbox\":[{\"marker\":{\"colorbar\":{\"outlinewidth\":0,\"ticks\":\"\"}},\"type\":\"scattermapbox\"}],\"scatterpolargl\":[{\"marker\":{\"colorbar\":{\"outlinewidth\":0,\"ticks\":\"\"}},\"type\":\"scatterpolargl\"}],\"scatterpolar\":[{\"marker\":{\"colorbar\":{\"outlinewidth\":0,\"ticks\":\"\"}},\"type\":\"scatterpolar\"}],\"scatter\":[{\"marker\":{\"line\":{\"color\":\"#283442\"}},\"type\":\"scatter\"}],\"scatterternary\":[{\"marker\":{\"colorbar\":{\"outlinewidth\":0,\"ticks\":\"\"}},\"type\":\"scatterternary\"}],\"surface\":[{\"colorbar\":{\"outlinewidth\":0,\"ticks\":\"\"},\"colorscale\":[[0.0,\"#0d0887\"],[0.1111111111111111,\"#46039f\"],[0.2222222222222222,\"#7201a8\"],[0.3333333333333333,\"#9c179e\"],[0.4444444444444444,\"#bd3786\"],[0.5555555555555556,\"#d8576b\"],[0.6666666666666666,\"#ed7953\"],[0.7777777777777778,\"#fb9f3a\"],[0.8888888888888888,\"#fdca26\"],[1.0,\"#f0f921\"]],\"type\":\"surface\"}],\"table\":[{\"cells\":{\"fill\":{\"color\":\"#506784\"},\"line\":{\"color\":\"rgb(17,17,17)\"}},\"header\":{\"fill\":{\"color\":\"#2a3f5f\"},\"line\":{\"color\":\"rgb(17,17,17)\"}},\"type\":\"table\"}]},\"layout\":{\"annotationdefaults\":{\"arrowcolor\":\"#f2f5fa\",\"arrowhead\":0,\"arrowwidth\":1},\"autotypenumbers\":\"strict\",\"coloraxis\":{\"colorbar\":{\"outlinewidth\":0,\"ticks\":\"\"}},\"colorscale\":{\"diverging\":[[0,\"#8e0152\"],[0.1,\"#c51b7d\"],[0.2,\"#de77ae\"],[0.3,\"#f1b6da\"],[0.4,\"#fde0ef\"],[0.5,\"#f7f7f7\"],[0.6,\"#e6f5d0\"],[0.7,\"#b8e186\"],[0.8,\"#7fbc41\"],[0.9,\"#4d9221\"],[1,\"#276419\"]],\"sequential\":[[0.0,\"#0d0887\"],[0.1111111111111111,\"#46039f\"],[0.2222222222222222,\"#7201a8\"],[0.3333333333333333,\"#9c179e\"],[0.4444444444444444,\"#bd3786\"],[0.5555555555555556,\"#d8576b\"],[0.6666666666666666,\"#ed7953\"],[0.7777777777777778,\"#fb9f3a\"],[0.8888888888888888,\"#fdca26\"],[1.0,\"#f0f921\"]],\"sequentialminus\":[[0.0,\"#0d0887\"],[0.1111111111111111,\"#46039f\"],[0.2222222222222222,\"#7201a8\"],[0.3333333333333333,\"#9c179e\"],[0.4444444444444444,\"#bd3786\"],[0.5555555555555556,\"#d8576b\"],[0.6666666666666666,\"#ed7953\"],[0.7777777777777778,\"#fb9f3a\"],[0.8888888888888888,\"#fdca26\"],[1.0,\"#f0f921\"]]},\"colorway\":[\"#636efa\",\"#EF553B\",\"#00cc96\",\"#ab63fa\",\"#FFA15A\",\"#19d3f3\",\"#FF6692\",\"#B6E880\",\"#FF97FF\",\"#FECB52\"],\"font\":{\"color\":\"#f2f5fa\"},\"geo\":{\"bgcolor\":\"rgb(17,17,17)\",\"lakecolor\":\"rgb(17,17,17)\",\"landcolor\":\"rgb(17,17,17)\",\"showlakes\":true,\"showland\":true,\"subunitcolor\":\"#506784\"},\"hoverlabel\":{\"align\":\"left\"},\"hovermode\":\"closest\",\"mapbox\":{\"style\":\"dark\"},\"paper_bgcolor\":\"rgb(17,17,17)\",\"plot_bgcolor\":\"rgb(17,17,17)\",\"polar\":{\"angularaxis\":{\"gridcolor\":\"#506784\",\"linecolor\":\"#506784\",\"ticks\":\"\"},\"bgcolor\":\"rgb(17,17,17)\",\"radialaxis\":{\"gridcolor\":\"#506784\",\"linecolor\":\"#506784\",\"ticks\":\"\"}},\"scene\":{\"xaxis\":{\"backgroundcolor\":\"rgb(17,17,17)\",\"gridcolor\":\"#506784\",\"gridwidth\":2,\"linecolor\":\"#506784\",\"showbackground\":true,\"ticks\":\"\",\"zerolinecolor\":\"#C8D4E3\"},\"yaxis\":{\"backgroundcolor\":\"rgb(17,17,17)\",\"gridcolor\":\"#506784\",\"gridwidth\":2,\"linecolor\":\"#506784\",\"showbackground\":true,\"ticks\":\"\",\"zerolinecolor\":\"#C8D4E3\"},\"zaxis\":{\"backgroundcolor\":\"rgb(17,17,17)\",\"gridcolor\":\"#506784\",\"gridwidth\":2,\"linecolor\":\"#506784\",\"showbackground\":true,\"ticks\":\"\",\"zerolinecolor\":\"#C8D4E3\"}},\"shapedefaults\":{\"line\":{\"color\":\"#f2f5fa\"}},\"sliderdefaults\":{\"bgcolor\":\"#C8D4E3\",\"bordercolor\":\"rgb(17,17,17)\",\"borderwidth\":1,\"tickwidth\":0},\"ternary\":{\"aaxis\":{\"gridcolor\":\"#506784\",\"linecolor\":\"#506784\",\"ticks\":\"\"},\"baxis\":{\"gridcolor\":\"#506784\",\"linecolor\":\"#506784\",\"ticks\":\"\"},\"bgcolor\":\"rgb(17,17,17)\",\"caxis\":{\"gridcolor\":\"#506784\",\"linecolor\":\"#506784\",\"ticks\":\"\"}},\"title\":{\"x\":0.05},\"updatemenudefaults\":{\"bgcolor\":\"#506784\",\"borderwidth\":0},\"xaxis\":{\"automargin\":true,\"gridcolor\":\"#283442\",\"linecolor\":\"#506784\",\"ticks\":\"\",\"title\":{\"standoff\":15},\"zerolinecolor\":\"#283442\",\"zerolinewidth\":2},\"yaxis\":{\"automargin\":true,\"gridcolor\":\"#283442\",\"linecolor\":\"#506784\",\"ticks\":\"\",\"title\":{\"standoff\":15},\"zerolinecolor\":\"#283442\",\"zerolinewidth\":2}}},\"xaxis\":{\"anchor\":\"y\",\"domain\":[0.0,1.0],\"title\":{\"text\":\"Date_Time\"}},\"yaxis\":{\"anchor\":\"x\",\"domain\":[0.0,1.0],\"title\":{\"text\":\"value\"}},\"legend\":{\"title\":{\"text\":\"variable\"},\"tracegroupgap\":0},\"title\":{\"text\":\"Water Quality\"}},                        {\"responsive\": true}                    ).then(function(){\n",
       "                            \n",
       "var gd = document.getElementById('92fef892-6740-4b03-bcc2-bcc714d90aac');\n",
       "var x = new MutationObserver(function (mutations, observer) {{\n",
       "        var display = window.getComputedStyle(gd).display;\n",
       "        if (!display || display === 'none') {{\n",
       "            console.log([gd, 'removed!']);\n",
       "            Plotly.purge(gd);\n",
       "            observer.disconnect();\n",
       "        }}\n",
       "}});\n",
       "\n",
       "// Listen for the removal of the full notebook cells\n",
       "var notebookContainer = gd.closest('#notebook-container');\n",
       "if (notebookContainer) {{\n",
       "    x.observe(notebookContainer, {childList: true});\n",
       "}}\n",
       "\n",
       "// Listen for the clearing of the current output cell\n",
       "var outputEl = gd.closest('.output');\n",
       "if (outputEl) {{\n",
       "    x.observe(outputEl, {childList: true});\n",
       "}}\n",
       "\n",
       "                        })                };                });            </script>        </div>"
      ]
     },
     "metadata": {},
     "output_type": "display_data"
    },
    {
     "data": {
      "application/vnd.plotly.v1+json": {
       "config": {
        "plotlyServerURL": "https://plot.ly"
       },
       "data": [
        {
         "hovertemplate": "variable=Turbidity<br>Date_Time=%{x}<br>value=%{y}<extra></extra>",
         "legendgroup": "Turbidity",
         "line": {
          "color": "#636efa",
          "dash": "solid"
         },
         "marker": {
          "symbol": "circle"
         },
         "mode": "lines",
         "name": "Turbidity",
         "orientation": "v",
         "showlegend": true,
         "type": "scatter",
         "x": [
          "2020-01-15T16:00:00",
          "2020-01-15T17:00:00",
          "2020-01-15T18:00:00",
          "2020-01-15T19:00:00",
          "2020-01-15T20:00:00",
          "2020-01-15T21:00:00",
          "2020-01-15T22:00:00",
          "2020-01-15T23:00:00",
          "2020-01-16T00:00:00",
          "2020-01-16T01:00:00",
          "2020-01-16T02:00:00",
          "2020-01-16T03:00:00",
          "2020-01-16T04:00:00",
          "2020-01-16T05:00:00",
          "2020-01-16T06:00:00",
          "2020-01-16T07:00:00",
          "2020-01-16T08:00:00",
          "2020-01-16T09:00:00",
          "2020-01-16T10:00:00",
          "2020-01-16T11:00:00",
          "2020-01-16T12:00:00",
          "2020-01-16T13:00:00",
          "2020-01-16T14:00:00",
          "2020-01-16T15:00:00",
          "2020-01-16T16:00:00",
          "2020-01-16T17:00:00",
          "2020-01-16T18:00:00",
          "2020-01-16T19:00:00",
          "2020-01-16T20:00:00",
          "2020-01-16T21:00:00",
          "2020-01-16T22:00:00",
          "2020-01-16T23:00:00",
          "2020-01-17T00:00:00",
          "2020-01-17T01:00:00",
          "2020-01-17T02:00:00",
          "2020-01-17T03:00:00",
          "2020-01-17T04:00:00",
          "2020-01-17T05:00:00",
          "2020-01-17T06:00:00",
          "2020-01-17T07:00:00",
          "2020-01-17T08:00:00",
          "2020-01-17T09:00:00",
          "2020-01-17T10:00:00",
          "2020-01-17T11:00:00",
          "2020-01-17T12:00:00",
          "2020-01-17T13:00:00",
          "2020-01-17T14:00:00",
          "2020-01-17T15:00:00",
          "2020-01-17T16:00:00",
          "2020-01-17T17:00:00",
          "2020-01-17T18:00:00",
          "2020-01-17T19:00:00",
          "2020-01-17T20:00:00",
          "2020-01-17T21:00:00",
          "2020-01-17T22:00:00",
          "2020-01-17T23:00:00",
          "2020-01-18T00:00:00",
          "2020-01-18T01:00:00",
          "2020-01-18T02:00:00",
          "2020-01-18T03:00:00",
          "2020-01-18T04:00:00",
          "2020-01-18T05:00:00",
          "2020-01-18T06:00:00",
          "2020-01-18T07:00:00",
          "2020-01-18T08:00:00",
          "2020-01-18T09:00:00",
          "2020-01-18T10:00:00",
          "2020-01-18T11:00:00",
          "2020-01-18T12:00:00",
          "2020-01-18T13:00:00",
          "2020-01-18T14:00:00",
          "2020-01-18T15:00:00",
          "2020-01-18T16:00:00",
          "2020-01-18T17:00:00",
          "2020-01-18T18:00:00",
          "2020-01-18T19:00:00",
          "2020-01-18T20:00:00",
          "2020-01-18T21:00:00",
          "2020-01-18T22:00:00",
          "2020-01-18T23:00:00",
          "2020-01-19T00:00:00",
          "2020-01-19T01:00:00",
          "2020-01-19T02:00:00",
          "2020-01-19T03:00:00",
          "2020-01-19T04:00:00",
          "2020-01-19T05:00:00",
          "2020-01-19T06:00:00",
          "2020-01-19T07:00:00",
          "2020-01-19T08:00:00",
          "2020-01-19T09:00:00",
          "2020-01-19T10:00:00",
          "2020-01-19T11:00:00",
          "2020-01-19T12:00:00",
          "2020-01-19T13:00:00",
          "2020-01-19T14:00:00",
          "2020-01-19T15:00:00",
          "2020-01-19T16:00:00",
          "2020-01-19T17:00:00",
          "2020-01-19T18:00:00",
          "2020-01-19T19:00:00",
          "2020-01-19T20:00:00",
          "2020-01-19T21:00:00",
          "2020-01-19T22:00:00",
          "2020-01-19T23:00:00",
          "2020-01-20T00:00:00",
          "2020-01-20T01:00:00",
          "2020-01-20T02:00:00",
          "2020-01-20T03:00:00",
          "2020-01-20T04:00:00",
          "2020-01-20T05:00:00",
          "2020-01-20T06:00:00",
          "2020-01-20T07:00:00",
          "2020-01-20T08:00:00",
          "2020-01-20T09:00:00",
          "2020-01-20T10:00:00",
          "2020-01-20T11:00:00",
          "2020-01-20T12:00:00",
          "2020-01-20T13:00:00",
          "2020-01-20T14:00:00",
          "2020-01-20T15:00:00",
          "2020-01-20T16:00:00",
          "2020-01-20T17:00:00",
          "2020-01-20T18:00:00",
          "2020-01-20T19:00:00",
          "2020-01-20T20:00:00",
          "2020-01-20T21:00:00",
          "2020-01-20T22:00:00",
          "2020-01-20T23:00:00",
          "2020-01-21T00:00:00",
          "2020-01-21T01:00:00",
          "2020-01-21T02:00:00",
          "2020-01-21T03:00:00",
          "2020-01-21T04:00:00",
          "2020-01-21T05:00:00",
          "2020-01-21T06:00:00",
          "2020-01-21T07:00:00",
          "2020-01-21T08:00:00",
          "2020-01-21T09:00:00",
          "2020-01-21T10:00:00",
          "2020-01-21T11:00:00",
          "2020-01-21T12:00:00",
          "2020-01-21T13:00:00",
          "2020-01-21T14:00:00",
          "2020-01-21T15:00:00",
          "2020-01-21T16:00:00",
          "2020-01-21T17:00:00",
          "2020-01-21T18:00:00",
          "2020-01-21T19:00:00",
          "2020-01-21T20:00:00",
          "2020-01-21T21:00:00",
          "2020-01-21T22:00:00",
          "2020-01-21T23:00:00",
          "2020-01-22T00:00:00",
          "2020-01-22T01:00:00",
          "2020-01-22T02:00:00",
          "2020-01-22T03:00:00",
          "2020-01-22T04:00:00",
          "2020-01-22T05:00:00",
          "2020-01-22T06:00:00",
          "2020-01-22T07:00:00",
          "2020-01-22T08:00:00",
          "2020-01-22T09:00:00",
          "2020-01-22T10:00:00",
          "2020-01-22T11:00:00",
          "2020-01-22T12:00:00",
          "2020-01-22T13:00:00",
          "2020-01-22T14:00:00",
          "2020-01-22T15:00:00",
          "2020-01-22T16:00:00"
         ],
         "xaxis": "x",
         "y": [
          197,
          197,
          197,
          196.3684210526316,
          196,
          195.77966101694915,
          195,
          195,
          195,
          195,
          194.17241379310346,
          194,
          194,
          194.64444444444445,
          195.135593220339,
          196.3409090909091,
          197.23809523809524,
          198.68,
          199.93103448275863,
          201.16363636363636,
          202.18867924528303,
          203.52727272727273,
          205.05084745762713,
          206.62745098039215,
          208.14285714285714,
          209.37735849056602,
          210.4814814814815,
          211.83928571428572,
          214.36065573770492,
          215,
          214.63076923076923,
          214.46875,
          214,
          214,
          214,
          213.32692307692307,
          213,
          212.88135593220338,
          212,
          211.890625,
          211,
          211,
          210.64285714285714,
          210.56060606060606,
          211.46666666666667,
          212.75,
          213.7846153846154,
          214.76923076923077,
          215.95384615384614,
          216.484375,
          217.1846153846154,
          218,
          218,
          218,
          218,
          217.33846153846153,
          216.13636363636363,
          215.23076923076923,
          214.5,
          213.74193548387098,
          213,
          213,
          211.95454545454547,
          210.92307692307693,
          210,
          209.24615384615385,
          209,
          208.4923076923077,
          207.46875,
          206.3846153846154,
          205.34920634920636,
          204.43076923076924,
          204,
          203.296875,
          202.65,
          202,
          201.55555555555554,
          201,
          200.2,
          199.7846153846154,
          199,
          198.73846153846154,
          198,
          198,
          197.42372881355934,
          197,
          196.4,
          196,
          196,
          196.30645161290323,
          196.2962962962963,
          196.41379310344828,
          197.64615384615385,
          199.5151515151515,
          201.52307692307693,
          203.78787878787878,
          205.82456140350877,
          208.0655737704918,
          210.87692307692308,
          213.875,
          216.57407407407408,
          219.66666666666666,
          222.41071428571428,
          224.64406779661016,
          226.71186440677965,
          228.81132075471697,
          230.84,
          232.5185185185185,
          233,
          233,
          233,
          233.2962962962963,
          234.26923076923077,
          235.53846153846155,
          236.9814814814815,
          238.45283018867926,
          240.03703703703704,
          242.03773584905662,
          243.56603773584905,
          244.75471698113208,
          245.86,
          246,
          246.59259259259258,
          247,
          247.94444444444446,
          248,
          248,
          248.24074074074073,
          249,
          249,
          249,
          248.9056603773585,
          248,
          248,
          248,
          247.9814814814815,
          247,
          246.83333333333334,
          245.40740740740742,
          243.03703703703704,
          240.34615384615384,
          237.55357142857142,
          234.85454545454544,
          232.27272727272728,
          229.94444444444446,
          228.37735849056602,
          226.83928571428572,
          225.19565217391303,
          223.61363636363637,
          222.37209302325581,
          220.84,
          219.4418604651163,
          218.14,
          216.77358490566039,
          215.53703703703704,
          214.25925925925927,
          212.9090909090909,
          211.83018867924528,
          210.83018867924528,
          209.9245283018868,
          209,
          209.0909090909091,
          210,
          210.26415094339623,
          211,
          211,
          211,
          211.83673469387756,
          212
         ],
         "yaxis": "y"
        },
        {
         "marker": {
          "color": "red",
          "size": 10
         },
         "mode": "markers",
         "name": "Anomaly",
         "type": "scatter",
         "x": [
          "2020-01-17T20:00:00",
          "2020-01-19T09:00:00",
          "2020-01-19T10:00:00",
          "2020-01-19T11:00:00",
          "2020-01-19T12:00:00",
          "2020-01-19T13:00:00",
          "2020-01-19T22:00:00",
          "2020-01-19T23:00:00",
          "2020-01-20T00:00:00",
          "2020-01-20T01:00:00",
          "2020-01-20T02:00:00",
          "2020-01-20T10:00:00",
          "2020-01-20T11:00:00",
          "2020-01-20T12:00:00",
          "2020-01-20T13:00:00",
          "2020-01-20T14:00:00",
          "2020-01-20T15:00:00",
          "2020-01-20T16:00:00",
          "2020-01-20T17:00:00",
          "2020-01-20T18:00:00",
          "2020-01-20T19:00:00",
          "2020-01-20T20:00:00",
          "2020-01-20T21:00:00",
          "2020-01-20T22:00:00",
          "2020-01-20T23:00:00",
          "2020-01-21T00:00:00",
          "2020-01-21T01:00:00",
          "2020-01-21T02:00:00",
          "2020-01-21T03:00:00",
          "2020-01-21T04:00:00",
          "2020-01-21T05:00:00",
          "2020-01-21T06:00:00",
          "2020-01-21T07:00:00",
          "2020-01-21T08:00:00",
          "2020-01-21T09:00:00",
          "2020-01-21T10:00:00",
          "2020-01-21T11:00:00",
          "2020-01-21T12:00:00",
          "2020-01-21T13:00:00",
          "2020-01-21T15:00:00",
          "2020-01-21T16:00:00",
          "2020-01-21T23:00:00",
          "2020-01-22T00:00:00",
          "2020-01-22T01:00:00",
          "2020-01-22T02:00:00",
          "2020-01-22T03:00:00",
          "2020-01-22T04:00:00",
          "2020-01-22T05:00:00",
          "2020-01-22T06:00:00",
          "2020-01-22T07:00:00",
          "2020-01-22T08:00:00"
         ],
         "y": [
          218,
          196.30645161290323,
          196.2962962962963,
          196.41379310344828,
          197.64615384615385,
          199.5151515151515,
          222.41071428571428,
          224.64406779661016,
          226.71186440677965,
          228.81132075471697,
          230.84,
          236.9814814814815,
          238.45283018867926,
          240.03703703703704,
          242.03773584905662,
          243.56603773584905,
          244.75471698113208,
          245.86,
          246,
          246.59259259259258,
          247,
          247.94444444444446,
          248,
          248,
          248.24074074074073,
          249,
          249,
          249,
          248.9056603773585,
          248,
          248,
          248,
          247.9814814814815,
          247,
          246.83333333333334,
          245.40740740740742,
          243.03703703703704,
          240.34615384615384,
          237.55357142857142,
          232.27272727272728,
          229.94444444444446,
          219.4418604651163,
          218.14,
          216.77358490566039,
          215.53703703703704,
          214.25925925925927,
          212.9090909090909,
          211.83018867924528,
          210.83018867924528,
          209.9245283018868,
          209
         ]
        }
       ],
       "layout": {
        "legend": {
         "title": {
          "text": "variable"
         },
         "tracegroupgap": 0
        },
        "template": {
         "data": {
          "bar": [
           {
            "error_x": {
             "color": "#f2f5fa"
            },
            "error_y": {
             "color": "#f2f5fa"
            },
            "marker": {
             "line": {
              "color": "rgb(17,17,17)",
              "width": 0.5
             },
             "pattern": {
              "fillmode": "overlay",
              "size": 10,
              "solidity": 0.2
             }
            },
            "type": "bar"
           }
          ],
          "barpolar": [
           {
            "marker": {
             "line": {
              "color": "rgb(17,17,17)",
              "width": 0.5
             },
             "pattern": {
              "fillmode": "overlay",
              "size": 10,
              "solidity": 0.2
             }
            },
            "type": "barpolar"
           }
          ],
          "carpet": [
           {
            "aaxis": {
             "endlinecolor": "#A2B1C6",
             "gridcolor": "#506784",
             "linecolor": "#506784",
             "minorgridcolor": "#506784",
             "startlinecolor": "#A2B1C6"
            },
            "baxis": {
             "endlinecolor": "#A2B1C6",
             "gridcolor": "#506784",
             "linecolor": "#506784",
             "minorgridcolor": "#506784",
             "startlinecolor": "#A2B1C6"
            },
            "type": "carpet"
           }
          ],
          "choropleth": [
           {
            "colorbar": {
             "outlinewidth": 0,
             "ticks": ""
            },
            "type": "choropleth"
           }
          ],
          "contour": [
           {
            "colorbar": {
             "outlinewidth": 0,
             "ticks": ""
            },
            "colorscale": [
             [
              0,
              "#0d0887"
             ],
             [
              0.1111111111111111,
              "#46039f"
             ],
             [
              0.2222222222222222,
              "#7201a8"
             ],
             [
              0.3333333333333333,
              "#9c179e"
             ],
             [
              0.4444444444444444,
              "#bd3786"
             ],
             [
              0.5555555555555556,
              "#d8576b"
             ],
             [
              0.6666666666666666,
              "#ed7953"
             ],
             [
              0.7777777777777778,
              "#fb9f3a"
             ],
             [
              0.8888888888888888,
              "#fdca26"
             ],
             [
              1,
              "#f0f921"
             ]
            ],
            "type": "contour"
           }
          ],
          "contourcarpet": [
           {
            "colorbar": {
             "outlinewidth": 0,
             "ticks": ""
            },
            "type": "contourcarpet"
           }
          ],
          "heatmap": [
           {
            "colorbar": {
             "outlinewidth": 0,
             "ticks": ""
            },
            "colorscale": [
             [
              0,
              "#0d0887"
             ],
             [
              0.1111111111111111,
              "#46039f"
             ],
             [
              0.2222222222222222,
              "#7201a8"
             ],
             [
              0.3333333333333333,
              "#9c179e"
             ],
             [
              0.4444444444444444,
              "#bd3786"
             ],
             [
              0.5555555555555556,
              "#d8576b"
             ],
             [
              0.6666666666666666,
              "#ed7953"
             ],
             [
              0.7777777777777778,
              "#fb9f3a"
             ],
             [
              0.8888888888888888,
              "#fdca26"
             ],
             [
              1,
              "#f0f921"
             ]
            ],
            "type": "heatmap"
           }
          ],
          "heatmapgl": [
           {
            "colorbar": {
             "outlinewidth": 0,
             "ticks": ""
            },
            "colorscale": [
             [
              0,
              "#0d0887"
             ],
             [
              0.1111111111111111,
              "#46039f"
             ],
             [
              0.2222222222222222,
              "#7201a8"
             ],
             [
              0.3333333333333333,
              "#9c179e"
             ],
             [
              0.4444444444444444,
              "#bd3786"
             ],
             [
              0.5555555555555556,
              "#d8576b"
             ],
             [
              0.6666666666666666,
              "#ed7953"
             ],
             [
              0.7777777777777778,
              "#fb9f3a"
             ],
             [
              0.8888888888888888,
              "#fdca26"
             ],
             [
              1,
              "#f0f921"
             ]
            ],
            "type": "heatmapgl"
           }
          ],
          "histogram": [
           {
            "marker": {
             "pattern": {
              "fillmode": "overlay",
              "size": 10,
              "solidity": 0.2
             }
            },
            "type": "histogram"
           }
          ],
          "histogram2d": [
           {
            "colorbar": {
             "outlinewidth": 0,
             "ticks": ""
            },
            "colorscale": [
             [
              0,
              "#0d0887"
             ],
             [
              0.1111111111111111,
              "#46039f"
             ],
             [
              0.2222222222222222,
              "#7201a8"
             ],
             [
              0.3333333333333333,
              "#9c179e"
             ],
             [
              0.4444444444444444,
              "#bd3786"
             ],
             [
              0.5555555555555556,
              "#d8576b"
             ],
             [
              0.6666666666666666,
              "#ed7953"
             ],
             [
              0.7777777777777778,
              "#fb9f3a"
             ],
             [
              0.8888888888888888,
              "#fdca26"
             ],
             [
              1,
              "#f0f921"
             ]
            ],
            "type": "histogram2d"
           }
          ],
          "histogram2dcontour": [
           {
            "colorbar": {
             "outlinewidth": 0,
             "ticks": ""
            },
            "colorscale": [
             [
              0,
              "#0d0887"
             ],
             [
              0.1111111111111111,
              "#46039f"
             ],
             [
              0.2222222222222222,
              "#7201a8"
             ],
             [
              0.3333333333333333,
              "#9c179e"
             ],
             [
              0.4444444444444444,
              "#bd3786"
             ],
             [
              0.5555555555555556,
              "#d8576b"
             ],
             [
              0.6666666666666666,
              "#ed7953"
             ],
             [
              0.7777777777777778,
              "#fb9f3a"
             ],
             [
              0.8888888888888888,
              "#fdca26"
             ],
             [
              1,
              "#f0f921"
             ]
            ],
            "type": "histogram2dcontour"
           }
          ],
          "mesh3d": [
           {
            "colorbar": {
             "outlinewidth": 0,
             "ticks": ""
            },
            "type": "mesh3d"
           }
          ],
          "parcoords": [
           {
            "line": {
             "colorbar": {
              "outlinewidth": 0,
              "ticks": ""
             }
            },
            "type": "parcoords"
           }
          ],
          "pie": [
           {
            "automargin": true,
            "type": "pie"
           }
          ],
          "scatter": [
           {
            "marker": {
             "line": {
              "color": "#283442"
             }
            },
            "type": "scatter"
           }
          ],
          "scatter3d": [
           {
            "line": {
             "colorbar": {
              "outlinewidth": 0,
              "ticks": ""
             }
            },
            "marker": {
             "colorbar": {
              "outlinewidth": 0,
              "ticks": ""
             }
            },
            "type": "scatter3d"
           }
          ],
          "scattercarpet": [
           {
            "marker": {
             "colorbar": {
              "outlinewidth": 0,
              "ticks": ""
             }
            },
            "type": "scattercarpet"
           }
          ],
          "scattergeo": [
           {
            "marker": {
             "colorbar": {
              "outlinewidth": 0,
              "ticks": ""
             }
            },
            "type": "scattergeo"
           }
          ],
          "scattergl": [
           {
            "marker": {
             "line": {
              "color": "#283442"
             }
            },
            "type": "scattergl"
           }
          ],
          "scattermapbox": [
           {
            "marker": {
             "colorbar": {
              "outlinewidth": 0,
              "ticks": ""
             }
            },
            "type": "scattermapbox"
           }
          ],
          "scatterpolar": [
           {
            "marker": {
             "colorbar": {
              "outlinewidth": 0,
              "ticks": ""
             }
            },
            "type": "scatterpolar"
           }
          ],
          "scatterpolargl": [
           {
            "marker": {
             "colorbar": {
              "outlinewidth": 0,
              "ticks": ""
             }
            },
            "type": "scatterpolargl"
           }
          ],
          "scatterternary": [
           {
            "marker": {
             "colorbar": {
              "outlinewidth": 0,
              "ticks": ""
             }
            },
            "type": "scatterternary"
           }
          ],
          "surface": [
           {
            "colorbar": {
             "outlinewidth": 0,
             "ticks": ""
            },
            "colorscale": [
             [
              0,
              "#0d0887"
             ],
             [
              0.1111111111111111,
              "#46039f"
             ],
             [
              0.2222222222222222,
              "#7201a8"
             ],
             [
              0.3333333333333333,
              "#9c179e"
             ],
             [
              0.4444444444444444,
              "#bd3786"
             ],
             [
              0.5555555555555556,
              "#d8576b"
             ],
             [
              0.6666666666666666,
              "#ed7953"
             ],
             [
              0.7777777777777778,
              "#fb9f3a"
             ],
             [
              0.8888888888888888,
              "#fdca26"
             ],
             [
              1,
              "#f0f921"
             ]
            ],
            "type": "surface"
           }
          ],
          "table": [
           {
            "cells": {
             "fill": {
              "color": "#506784"
             },
             "line": {
              "color": "rgb(17,17,17)"
             }
            },
            "header": {
             "fill": {
              "color": "#2a3f5f"
             },
             "line": {
              "color": "rgb(17,17,17)"
             }
            },
            "type": "table"
           }
          ]
         },
         "layout": {
          "annotationdefaults": {
           "arrowcolor": "#f2f5fa",
           "arrowhead": 0,
           "arrowwidth": 1
          },
          "autotypenumbers": "strict",
          "coloraxis": {
           "colorbar": {
            "outlinewidth": 0,
            "ticks": ""
           }
          },
          "colorscale": {
           "diverging": [
            [
             0,
             "#8e0152"
            ],
            [
             0.1,
             "#c51b7d"
            ],
            [
             0.2,
             "#de77ae"
            ],
            [
             0.3,
             "#f1b6da"
            ],
            [
             0.4,
             "#fde0ef"
            ],
            [
             0.5,
             "#f7f7f7"
            ],
            [
             0.6,
             "#e6f5d0"
            ],
            [
             0.7,
             "#b8e186"
            ],
            [
             0.8,
             "#7fbc41"
            ],
            [
             0.9,
             "#4d9221"
            ],
            [
             1,
             "#276419"
            ]
           ],
           "sequential": [
            [
             0,
             "#0d0887"
            ],
            [
             0.1111111111111111,
             "#46039f"
            ],
            [
             0.2222222222222222,
             "#7201a8"
            ],
            [
             0.3333333333333333,
             "#9c179e"
            ],
            [
             0.4444444444444444,
             "#bd3786"
            ],
            [
             0.5555555555555556,
             "#d8576b"
            ],
            [
             0.6666666666666666,
             "#ed7953"
            ],
            [
             0.7777777777777778,
             "#fb9f3a"
            ],
            [
             0.8888888888888888,
             "#fdca26"
            ],
            [
             1,
             "#f0f921"
            ]
           ],
           "sequentialminus": [
            [
             0,
             "#0d0887"
            ],
            [
             0.1111111111111111,
             "#46039f"
            ],
            [
             0.2222222222222222,
             "#7201a8"
            ],
            [
             0.3333333333333333,
             "#9c179e"
            ],
            [
             0.4444444444444444,
             "#bd3786"
            ],
            [
             0.5555555555555556,
             "#d8576b"
            ],
            [
             0.6666666666666666,
             "#ed7953"
            ],
            [
             0.7777777777777778,
             "#fb9f3a"
            ],
            [
             0.8888888888888888,
             "#fdca26"
            ],
            [
             1,
             "#f0f921"
            ]
           ]
          },
          "colorway": [
           "#636efa",
           "#EF553B",
           "#00cc96",
           "#ab63fa",
           "#FFA15A",
           "#19d3f3",
           "#FF6692",
           "#B6E880",
           "#FF97FF",
           "#FECB52"
          ],
          "font": {
           "color": "#f2f5fa"
          },
          "geo": {
           "bgcolor": "rgb(17,17,17)",
           "lakecolor": "rgb(17,17,17)",
           "landcolor": "rgb(17,17,17)",
           "showlakes": true,
           "showland": true,
           "subunitcolor": "#506784"
          },
          "hoverlabel": {
           "align": "left"
          },
          "hovermode": "closest",
          "mapbox": {
           "style": "dark"
          },
          "paper_bgcolor": "rgb(17,17,17)",
          "plot_bgcolor": "rgb(17,17,17)",
          "polar": {
           "angularaxis": {
            "gridcolor": "#506784",
            "linecolor": "#506784",
            "ticks": ""
           },
           "bgcolor": "rgb(17,17,17)",
           "radialaxis": {
            "gridcolor": "#506784",
            "linecolor": "#506784",
            "ticks": ""
           }
          },
          "scene": {
           "xaxis": {
            "backgroundcolor": "rgb(17,17,17)",
            "gridcolor": "#506784",
            "gridwidth": 2,
            "linecolor": "#506784",
            "showbackground": true,
            "ticks": "",
            "zerolinecolor": "#C8D4E3"
           },
           "yaxis": {
            "backgroundcolor": "rgb(17,17,17)",
            "gridcolor": "#506784",
            "gridwidth": 2,
            "linecolor": "#506784",
            "showbackground": true,
            "ticks": "",
            "zerolinecolor": "#C8D4E3"
           },
           "zaxis": {
            "backgroundcolor": "rgb(17,17,17)",
            "gridcolor": "#506784",
            "gridwidth": 2,
            "linecolor": "#506784",
            "showbackground": true,
            "ticks": "",
            "zerolinecolor": "#C8D4E3"
           }
          },
          "shapedefaults": {
           "line": {
            "color": "#f2f5fa"
           }
          },
          "sliderdefaults": {
           "bgcolor": "#C8D4E3",
           "bordercolor": "rgb(17,17,17)",
           "borderwidth": 1,
           "tickwidth": 0
          },
          "ternary": {
           "aaxis": {
            "gridcolor": "#506784",
            "linecolor": "#506784",
            "ticks": ""
           },
           "baxis": {
            "gridcolor": "#506784",
            "linecolor": "#506784",
            "ticks": ""
           },
           "bgcolor": "rgb(17,17,17)",
           "caxis": {
            "gridcolor": "#506784",
            "linecolor": "#506784",
            "ticks": ""
           }
          },
          "title": {
           "x": 0.05
          },
          "updatemenudefaults": {
           "bgcolor": "#506784",
           "borderwidth": 0
          },
          "xaxis": {
           "automargin": true,
           "gridcolor": "#283442",
           "linecolor": "#506784",
           "ticks": "",
           "title": {
            "standoff": 15
           },
           "zerolinecolor": "#283442",
           "zerolinewidth": 2
          },
          "yaxis": {
           "automargin": true,
           "gridcolor": "#283442",
           "linecolor": "#506784",
           "ticks": "",
           "title": {
            "standoff": 15
           },
           "zerolinecolor": "#283442",
           "zerolinewidth": 2
          }
         }
        },
        "title": {
         "text": "Water Quality"
        },
        "xaxis": {
         "anchor": "y",
         "domain": [
          0,
          1
         ],
         "title": {
          "text": "Date_Time"
         }
        },
        "yaxis": {
         "anchor": "x",
         "domain": [
          0,
          1
         ],
         "title": {
          "text": "value"
         }
        }
       }
      },
      "text/html": [
       "<div>                            <div id=\"b9cd9201-44b9-4e8c-b450-afa01832ba4e\" class=\"plotly-graph-div\" style=\"height:525px; width:100%;\"></div>            <script type=\"text/javascript\">                require([\"plotly\"], function(Plotly) {                    window.PLOTLYENV=window.PLOTLYENV || {};                                    if (document.getElementById(\"b9cd9201-44b9-4e8c-b450-afa01832ba4e\")) {                    Plotly.newPlot(                        \"b9cd9201-44b9-4e8c-b450-afa01832ba4e\",                        [{\"hovertemplate\":\"variable=Turbidity<br>Date_Time=%{x}<br>value=%{y}<extra></extra>\",\"legendgroup\":\"Turbidity\",\"line\":{\"color\":\"#636efa\",\"dash\":\"solid\"},\"marker\":{\"symbol\":\"circle\"},\"mode\":\"lines\",\"name\":\"Turbidity\",\"orientation\":\"v\",\"showlegend\":true,\"x\":[\"2020-01-15T16:00:00\",\"2020-01-15T17:00:00\",\"2020-01-15T18:00:00\",\"2020-01-15T19:00:00\",\"2020-01-15T20:00:00\",\"2020-01-15T21:00:00\",\"2020-01-15T22:00:00\",\"2020-01-15T23:00:00\",\"2020-01-16T00:00:00\",\"2020-01-16T01:00:00\",\"2020-01-16T02:00:00\",\"2020-01-16T03:00:00\",\"2020-01-16T04:00:00\",\"2020-01-16T05:00:00\",\"2020-01-16T06:00:00\",\"2020-01-16T07:00:00\",\"2020-01-16T08:00:00\",\"2020-01-16T09:00:00\",\"2020-01-16T10:00:00\",\"2020-01-16T11:00:00\",\"2020-01-16T12:00:00\",\"2020-01-16T13:00:00\",\"2020-01-16T14:00:00\",\"2020-01-16T15:00:00\",\"2020-01-16T16:00:00\",\"2020-01-16T17:00:00\",\"2020-01-16T18:00:00\",\"2020-01-16T19:00:00\",\"2020-01-16T20:00:00\",\"2020-01-16T21:00:00\",\"2020-01-16T22:00:00\",\"2020-01-16T23:00:00\",\"2020-01-17T00:00:00\",\"2020-01-17T01:00:00\",\"2020-01-17T02:00:00\",\"2020-01-17T03:00:00\",\"2020-01-17T04:00:00\",\"2020-01-17T05:00:00\",\"2020-01-17T06:00:00\",\"2020-01-17T07:00:00\",\"2020-01-17T08:00:00\",\"2020-01-17T09:00:00\",\"2020-01-17T10:00:00\",\"2020-01-17T11:00:00\",\"2020-01-17T12:00:00\",\"2020-01-17T13:00:00\",\"2020-01-17T14:00:00\",\"2020-01-17T15:00:00\",\"2020-01-17T16:00:00\",\"2020-01-17T17:00:00\",\"2020-01-17T18:00:00\",\"2020-01-17T19:00:00\",\"2020-01-17T20:00:00\",\"2020-01-17T21:00:00\",\"2020-01-17T22:00:00\",\"2020-01-17T23:00:00\",\"2020-01-18T00:00:00\",\"2020-01-18T01:00:00\",\"2020-01-18T02:00:00\",\"2020-01-18T03:00:00\",\"2020-01-18T04:00:00\",\"2020-01-18T05:00:00\",\"2020-01-18T06:00:00\",\"2020-01-18T07:00:00\",\"2020-01-18T08:00:00\",\"2020-01-18T09:00:00\",\"2020-01-18T10:00:00\",\"2020-01-18T11:00:00\",\"2020-01-18T12:00:00\",\"2020-01-18T13:00:00\",\"2020-01-18T14:00:00\",\"2020-01-18T15:00:00\",\"2020-01-18T16:00:00\",\"2020-01-18T17:00:00\",\"2020-01-18T18:00:00\",\"2020-01-18T19:00:00\",\"2020-01-18T20:00:00\",\"2020-01-18T21:00:00\",\"2020-01-18T22:00:00\",\"2020-01-18T23:00:00\",\"2020-01-19T00:00:00\",\"2020-01-19T01:00:00\",\"2020-01-19T02:00:00\",\"2020-01-19T03:00:00\",\"2020-01-19T04:00:00\",\"2020-01-19T05:00:00\",\"2020-01-19T06:00:00\",\"2020-01-19T07:00:00\",\"2020-01-19T08:00:00\",\"2020-01-19T09:00:00\",\"2020-01-19T10:00:00\",\"2020-01-19T11:00:00\",\"2020-01-19T12:00:00\",\"2020-01-19T13:00:00\",\"2020-01-19T14:00:00\",\"2020-01-19T15:00:00\",\"2020-01-19T16:00:00\",\"2020-01-19T17:00:00\",\"2020-01-19T18:00:00\",\"2020-01-19T19:00:00\",\"2020-01-19T20:00:00\",\"2020-01-19T21:00:00\",\"2020-01-19T22:00:00\",\"2020-01-19T23:00:00\",\"2020-01-20T00:00:00\",\"2020-01-20T01:00:00\",\"2020-01-20T02:00:00\",\"2020-01-20T03:00:00\",\"2020-01-20T04:00:00\",\"2020-01-20T05:00:00\",\"2020-01-20T06:00:00\",\"2020-01-20T07:00:00\",\"2020-01-20T08:00:00\",\"2020-01-20T09:00:00\",\"2020-01-20T10:00:00\",\"2020-01-20T11:00:00\",\"2020-01-20T12:00:00\",\"2020-01-20T13:00:00\",\"2020-01-20T14:00:00\",\"2020-01-20T15:00:00\",\"2020-01-20T16:00:00\",\"2020-01-20T17:00:00\",\"2020-01-20T18:00:00\",\"2020-01-20T19:00:00\",\"2020-01-20T20:00:00\",\"2020-01-20T21:00:00\",\"2020-01-20T22:00:00\",\"2020-01-20T23:00:00\",\"2020-01-21T00:00:00\",\"2020-01-21T01:00:00\",\"2020-01-21T02:00:00\",\"2020-01-21T03:00:00\",\"2020-01-21T04:00:00\",\"2020-01-21T05:00:00\",\"2020-01-21T06:00:00\",\"2020-01-21T07:00:00\",\"2020-01-21T08:00:00\",\"2020-01-21T09:00:00\",\"2020-01-21T10:00:00\",\"2020-01-21T11:00:00\",\"2020-01-21T12:00:00\",\"2020-01-21T13:00:00\",\"2020-01-21T14:00:00\",\"2020-01-21T15:00:00\",\"2020-01-21T16:00:00\",\"2020-01-21T17:00:00\",\"2020-01-21T18:00:00\",\"2020-01-21T19:00:00\",\"2020-01-21T20:00:00\",\"2020-01-21T21:00:00\",\"2020-01-21T22:00:00\",\"2020-01-21T23:00:00\",\"2020-01-22T00:00:00\",\"2020-01-22T01:00:00\",\"2020-01-22T02:00:00\",\"2020-01-22T03:00:00\",\"2020-01-22T04:00:00\",\"2020-01-22T05:00:00\",\"2020-01-22T06:00:00\",\"2020-01-22T07:00:00\",\"2020-01-22T08:00:00\",\"2020-01-22T09:00:00\",\"2020-01-22T10:00:00\",\"2020-01-22T11:00:00\",\"2020-01-22T12:00:00\",\"2020-01-22T13:00:00\",\"2020-01-22T14:00:00\",\"2020-01-22T15:00:00\",\"2020-01-22T16:00:00\"],\"xaxis\":\"x\",\"y\":[197.0,197.0,197.0,196.3684210526316,196.0,195.77966101694915,195.0,195.0,195.0,195.0,194.17241379310346,194.0,194.0,194.64444444444445,195.135593220339,196.3409090909091,197.23809523809524,198.68,199.93103448275863,201.16363636363636,202.18867924528303,203.52727272727273,205.05084745762713,206.62745098039215,208.14285714285714,209.37735849056602,210.4814814814815,211.83928571428572,214.36065573770492,215.0,214.63076923076923,214.46875,214.0,214.0,214.0,213.32692307692307,213.0,212.88135593220338,212.0,211.890625,211.0,211.0,210.64285714285714,210.56060606060606,211.46666666666667,212.75,213.7846153846154,214.76923076923077,215.95384615384614,216.484375,217.1846153846154,218.0,218.0,218.0,218.0,217.33846153846153,216.13636363636363,215.23076923076923,214.5,213.74193548387098,213.0,213.0,211.95454545454547,210.92307692307693,210.0,209.24615384615385,209.0,208.4923076923077,207.46875,206.3846153846154,205.34920634920636,204.43076923076924,204.0,203.296875,202.65,202.0,201.55555555555554,201.0,200.2,199.7846153846154,199.0,198.73846153846154,198.0,198.0,197.42372881355934,197.0,196.4,196.0,196.0,196.30645161290323,196.2962962962963,196.41379310344828,197.64615384615385,199.5151515151515,201.52307692307693,203.78787878787878,205.82456140350877,208.0655737704918,210.87692307692308,213.875,216.57407407407408,219.66666666666666,222.41071428571428,224.64406779661016,226.71186440677965,228.81132075471697,230.84,232.5185185185185,233.0,233.0,233.0,233.2962962962963,234.26923076923077,235.53846153846155,236.9814814814815,238.45283018867926,240.03703703703704,242.03773584905662,243.56603773584905,244.75471698113208,245.86,246.0,246.59259259259258,247.0,247.94444444444446,248.0,248.0,248.24074074074073,249.0,249.0,249.0,248.9056603773585,248.0,248.0,248.0,247.9814814814815,247.0,246.83333333333334,245.40740740740742,243.03703703703704,240.34615384615384,237.55357142857142,234.85454545454544,232.27272727272728,229.94444444444446,228.37735849056602,226.83928571428572,225.19565217391303,223.61363636363637,222.37209302325581,220.84,219.4418604651163,218.14,216.77358490566039,215.53703703703704,214.25925925925927,212.9090909090909,211.83018867924528,210.83018867924528,209.9245283018868,209.0,209.0909090909091,210.0,210.26415094339623,211.0,211.0,211.0,211.83673469387756,212.0],\"yaxis\":\"y\",\"type\":\"scatter\"},{\"marker\":{\"color\":\"red\",\"size\":10},\"mode\":\"markers\",\"name\":\"Anomaly\",\"x\":[\"2020-01-17T20:00:00\",\"2020-01-19T09:00:00\",\"2020-01-19T10:00:00\",\"2020-01-19T11:00:00\",\"2020-01-19T12:00:00\",\"2020-01-19T13:00:00\",\"2020-01-19T22:00:00\",\"2020-01-19T23:00:00\",\"2020-01-20T00:00:00\",\"2020-01-20T01:00:00\",\"2020-01-20T02:00:00\",\"2020-01-20T10:00:00\",\"2020-01-20T11:00:00\",\"2020-01-20T12:00:00\",\"2020-01-20T13:00:00\",\"2020-01-20T14:00:00\",\"2020-01-20T15:00:00\",\"2020-01-20T16:00:00\",\"2020-01-20T17:00:00\",\"2020-01-20T18:00:00\",\"2020-01-20T19:00:00\",\"2020-01-20T20:00:00\",\"2020-01-20T21:00:00\",\"2020-01-20T22:00:00\",\"2020-01-20T23:00:00\",\"2020-01-21T00:00:00\",\"2020-01-21T01:00:00\",\"2020-01-21T02:00:00\",\"2020-01-21T03:00:00\",\"2020-01-21T04:00:00\",\"2020-01-21T05:00:00\",\"2020-01-21T06:00:00\",\"2020-01-21T07:00:00\",\"2020-01-21T08:00:00\",\"2020-01-21T09:00:00\",\"2020-01-21T10:00:00\",\"2020-01-21T11:00:00\",\"2020-01-21T12:00:00\",\"2020-01-21T13:00:00\",\"2020-01-21T15:00:00\",\"2020-01-21T16:00:00\",\"2020-01-21T23:00:00\",\"2020-01-22T00:00:00\",\"2020-01-22T01:00:00\",\"2020-01-22T02:00:00\",\"2020-01-22T03:00:00\",\"2020-01-22T04:00:00\",\"2020-01-22T05:00:00\",\"2020-01-22T06:00:00\",\"2020-01-22T07:00:00\",\"2020-01-22T08:00:00\"],\"y\":[218.0,196.30645161290323,196.2962962962963,196.41379310344828,197.64615384615385,199.5151515151515,222.41071428571428,224.64406779661016,226.71186440677965,228.81132075471697,230.84,236.9814814814815,238.45283018867926,240.03703703703704,242.03773584905662,243.56603773584905,244.75471698113208,245.86,246.0,246.59259259259258,247.0,247.94444444444446,248.0,248.0,248.24074074074073,249.0,249.0,249.0,248.9056603773585,248.0,248.0,248.0,247.9814814814815,247.0,246.83333333333334,245.40740740740742,243.03703703703704,240.34615384615384,237.55357142857142,232.27272727272728,229.94444444444446,219.4418604651163,218.14,216.77358490566039,215.53703703703704,214.25925925925927,212.9090909090909,211.83018867924528,210.83018867924528,209.9245283018868,209.0],\"type\":\"scatter\"}],                        {\"template\":{\"data\":{\"barpolar\":[{\"marker\":{\"line\":{\"color\":\"rgb(17,17,17)\",\"width\":0.5},\"pattern\":{\"fillmode\":\"overlay\",\"size\":10,\"solidity\":0.2}},\"type\":\"barpolar\"}],\"bar\":[{\"error_x\":{\"color\":\"#f2f5fa\"},\"error_y\":{\"color\":\"#f2f5fa\"},\"marker\":{\"line\":{\"color\":\"rgb(17,17,17)\",\"width\":0.5},\"pattern\":{\"fillmode\":\"overlay\",\"size\":10,\"solidity\":0.2}},\"type\":\"bar\"}],\"carpet\":[{\"aaxis\":{\"endlinecolor\":\"#A2B1C6\",\"gridcolor\":\"#506784\",\"linecolor\":\"#506784\",\"minorgridcolor\":\"#506784\",\"startlinecolor\":\"#A2B1C6\"},\"baxis\":{\"endlinecolor\":\"#A2B1C6\",\"gridcolor\":\"#506784\",\"linecolor\":\"#506784\",\"minorgridcolor\":\"#506784\",\"startlinecolor\":\"#A2B1C6\"},\"type\":\"carpet\"}],\"choropleth\":[{\"colorbar\":{\"outlinewidth\":0,\"ticks\":\"\"},\"type\":\"choropleth\"}],\"contourcarpet\":[{\"colorbar\":{\"outlinewidth\":0,\"ticks\":\"\"},\"type\":\"contourcarpet\"}],\"contour\":[{\"colorbar\":{\"outlinewidth\":0,\"ticks\":\"\"},\"colorscale\":[[0.0,\"#0d0887\"],[0.1111111111111111,\"#46039f\"],[0.2222222222222222,\"#7201a8\"],[0.3333333333333333,\"#9c179e\"],[0.4444444444444444,\"#bd3786\"],[0.5555555555555556,\"#d8576b\"],[0.6666666666666666,\"#ed7953\"],[0.7777777777777778,\"#fb9f3a\"],[0.8888888888888888,\"#fdca26\"],[1.0,\"#f0f921\"]],\"type\":\"contour\"}],\"heatmapgl\":[{\"colorbar\":{\"outlinewidth\":0,\"ticks\":\"\"},\"colorscale\":[[0.0,\"#0d0887\"],[0.1111111111111111,\"#46039f\"],[0.2222222222222222,\"#7201a8\"],[0.3333333333333333,\"#9c179e\"],[0.4444444444444444,\"#bd3786\"],[0.5555555555555556,\"#d8576b\"],[0.6666666666666666,\"#ed7953\"],[0.7777777777777778,\"#fb9f3a\"],[0.8888888888888888,\"#fdca26\"],[1.0,\"#f0f921\"]],\"type\":\"heatmapgl\"}],\"heatmap\":[{\"colorbar\":{\"outlinewidth\":0,\"ticks\":\"\"},\"colorscale\":[[0.0,\"#0d0887\"],[0.1111111111111111,\"#46039f\"],[0.2222222222222222,\"#7201a8\"],[0.3333333333333333,\"#9c179e\"],[0.4444444444444444,\"#bd3786\"],[0.5555555555555556,\"#d8576b\"],[0.6666666666666666,\"#ed7953\"],[0.7777777777777778,\"#fb9f3a\"],[0.8888888888888888,\"#fdca26\"],[1.0,\"#f0f921\"]],\"type\":\"heatmap\"}],\"histogram2dcontour\":[{\"colorbar\":{\"outlinewidth\":0,\"ticks\":\"\"},\"colorscale\":[[0.0,\"#0d0887\"],[0.1111111111111111,\"#46039f\"],[0.2222222222222222,\"#7201a8\"],[0.3333333333333333,\"#9c179e\"],[0.4444444444444444,\"#bd3786\"],[0.5555555555555556,\"#d8576b\"],[0.6666666666666666,\"#ed7953\"],[0.7777777777777778,\"#fb9f3a\"],[0.8888888888888888,\"#fdca26\"],[1.0,\"#f0f921\"]],\"type\":\"histogram2dcontour\"}],\"histogram2d\":[{\"colorbar\":{\"outlinewidth\":0,\"ticks\":\"\"},\"colorscale\":[[0.0,\"#0d0887\"],[0.1111111111111111,\"#46039f\"],[0.2222222222222222,\"#7201a8\"],[0.3333333333333333,\"#9c179e\"],[0.4444444444444444,\"#bd3786\"],[0.5555555555555556,\"#d8576b\"],[0.6666666666666666,\"#ed7953\"],[0.7777777777777778,\"#fb9f3a\"],[0.8888888888888888,\"#fdca26\"],[1.0,\"#f0f921\"]],\"type\":\"histogram2d\"}],\"histogram\":[{\"marker\":{\"pattern\":{\"fillmode\":\"overlay\",\"size\":10,\"solidity\":0.2}},\"type\":\"histogram\"}],\"mesh3d\":[{\"colorbar\":{\"outlinewidth\":0,\"ticks\":\"\"},\"type\":\"mesh3d\"}],\"parcoords\":[{\"line\":{\"colorbar\":{\"outlinewidth\":0,\"ticks\":\"\"}},\"type\":\"parcoords\"}],\"pie\":[{\"automargin\":true,\"type\":\"pie\"}],\"scatter3d\":[{\"line\":{\"colorbar\":{\"outlinewidth\":0,\"ticks\":\"\"}},\"marker\":{\"colorbar\":{\"outlinewidth\":0,\"ticks\":\"\"}},\"type\":\"scatter3d\"}],\"scattercarpet\":[{\"marker\":{\"colorbar\":{\"outlinewidth\":0,\"ticks\":\"\"}},\"type\":\"scattercarpet\"}],\"scattergeo\":[{\"marker\":{\"colorbar\":{\"outlinewidth\":0,\"ticks\":\"\"}},\"type\":\"scattergeo\"}],\"scattergl\":[{\"marker\":{\"line\":{\"color\":\"#283442\"}},\"type\":\"scattergl\"}],\"scattermapbox\":[{\"marker\":{\"colorbar\":{\"outlinewidth\":0,\"ticks\":\"\"}},\"type\":\"scattermapbox\"}],\"scatterpolargl\":[{\"marker\":{\"colorbar\":{\"outlinewidth\":0,\"ticks\":\"\"}},\"type\":\"scatterpolargl\"}],\"scatterpolar\":[{\"marker\":{\"colorbar\":{\"outlinewidth\":0,\"ticks\":\"\"}},\"type\":\"scatterpolar\"}],\"scatter\":[{\"marker\":{\"line\":{\"color\":\"#283442\"}},\"type\":\"scatter\"}],\"scatterternary\":[{\"marker\":{\"colorbar\":{\"outlinewidth\":0,\"ticks\":\"\"}},\"type\":\"scatterternary\"}],\"surface\":[{\"colorbar\":{\"outlinewidth\":0,\"ticks\":\"\"},\"colorscale\":[[0.0,\"#0d0887\"],[0.1111111111111111,\"#46039f\"],[0.2222222222222222,\"#7201a8\"],[0.3333333333333333,\"#9c179e\"],[0.4444444444444444,\"#bd3786\"],[0.5555555555555556,\"#d8576b\"],[0.6666666666666666,\"#ed7953\"],[0.7777777777777778,\"#fb9f3a\"],[0.8888888888888888,\"#fdca26\"],[1.0,\"#f0f921\"]],\"type\":\"surface\"}],\"table\":[{\"cells\":{\"fill\":{\"color\":\"#506784\"},\"line\":{\"color\":\"rgb(17,17,17)\"}},\"header\":{\"fill\":{\"color\":\"#2a3f5f\"},\"line\":{\"color\":\"rgb(17,17,17)\"}},\"type\":\"table\"}]},\"layout\":{\"annotationdefaults\":{\"arrowcolor\":\"#f2f5fa\",\"arrowhead\":0,\"arrowwidth\":1},\"autotypenumbers\":\"strict\",\"coloraxis\":{\"colorbar\":{\"outlinewidth\":0,\"ticks\":\"\"}},\"colorscale\":{\"diverging\":[[0,\"#8e0152\"],[0.1,\"#c51b7d\"],[0.2,\"#de77ae\"],[0.3,\"#f1b6da\"],[0.4,\"#fde0ef\"],[0.5,\"#f7f7f7\"],[0.6,\"#e6f5d0\"],[0.7,\"#b8e186\"],[0.8,\"#7fbc41\"],[0.9,\"#4d9221\"],[1,\"#276419\"]],\"sequential\":[[0.0,\"#0d0887\"],[0.1111111111111111,\"#46039f\"],[0.2222222222222222,\"#7201a8\"],[0.3333333333333333,\"#9c179e\"],[0.4444444444444444,\"#bd3786\"],[0.5555555555555556,\"#d8576b\"],[0.6666666666666666,\"#ed7953\"],[0.7777777777777778,\"#fb9f3a\"],[0.8888888888888888,\"#fdca26\"],[1.0,\"#f0f921\"]],\"sequentialminus\":[[0.0,\"#0d0887\"],[0.1111111111111111,\"#46039f\"],[0.2222222222222222,\"#7201a8\"],[0.3333333333333333,\"#9c179e\"],[0.4444444444444444,\"#bd3786\"],[0.5555555555555556,\"#d8576b\"],[0.6666666666666666,\"#ed7953\"],[0.7777777777777778,\"#fb9f3a\"],[0.8888888888888888,\"#fdca26\"],[1.0,\"#f0f921\"]]},\"colorway\":[\"#636efa\",\"#EF553B\",\"#00cc96\",\"#ab63fa\",\"#FFA15A\",\"#19d3f3\",\"#FF6692\",\"#B6E880\",\"#FF97FF\",\"#FECB52\"],\"font\":{\"color\":\"#f2f5fa\"},\"geo\":{\"bgcolor\":\"rgb(17,17,17)\",\"lakecolor\":\"rgb(17,17,17)\",\"landcolor\":\"rgb(17,17,17)\",\"showlakes\":true,\"showland\":true,\"subunitcolor\":\"#506784\"},\"hoverlabel\":{\"align\":\"left\"},\"hovermode\":\"closest\",\"mapbox\":{\"style\":\"dark\"},\"paper_bgcolor\":\"rgb(17,17,17)\",\"plot_bgcolor\":\"rgb(17,17,17)\",\"polar\":{\"angularaxis\":{\"gridcolor\":\"#506784\",\"linecolor\":\"#506784\",\"ticks\":\"\"},\"bgcolor\":\"rgb(17,17,17)\",\"radialaxis\":{\"gridcolor\":\"#506784\",\"linecolor\":\"#506784\",\"ticks\":\"\"}},\"scene\":{\"xaxis\":{\"backgroundcolor\":\"rgb(17,17,17)\",\"gridcolor\":\"#506784\",\"gridwidth\":2,\"linecolor\":\"#506784\",\"showbackground\":true,\"ticks\":\"\",\"zerolinecolor\":\"#C8D4E3\"},\"yaxis\":{\"backgroundcolor\":\"rgb(17,17,17)\",\"gridcolor\":\"#506784\",\"gridwidth\":2,\"linecolor\":\"#506784\",\"showbackground\":true,\"ticks\":\"\",\"zerolinecolor\":\"#C8D4E3\"},\"zaxis\":{\"backgroundcolor\":\"rgb(17,17,17)\",\"gridcolor\":\"#506784\",\"gridwidth\":2,\"linecolor\":\"#506784\",\"showbackground\":true,\"ticks\":\"\",\"zerolinecolor\":\"#C8D4E3\"}},\"shapedefaults\":{\"line\":{\"color\":\"#f2f5fa\"}},\"sliderdefaults\":{\"bgcolor\":\"#C8D4E3\",\"bordercolor\":\"rgb(17,17,17)\",\"borderwidth\":1,\"tickwidth\":0},\"ternary\":{\"aaxis\":{\"gridcolor\":\"#506784\",\"linecolor\":\"#506784\",\"ticks\":\"\"},\"baxis\":{\"gridcolor\":\"#506784\",\"linecolor\":\"#506784\",\"ticks\":\"\"},\"bgcolor\":\"rgb(17,17,17)\",\"caxis\":{\"gridcolor\":\"#506784\",\"linecolor\":\"#506784\",\"ticks\":\"\"}},\"title\":{\"x\":0.05},\"updatemenudefaults\":{\"bgcolor\":\"#506784\",\"borderwidth\":0},\"xaxis\":{\"automargin\":true,\"gridcolor\":\"#283442\",\"linecolor\":\"#506784\",\"ticks\":\"\",\"title\":{\"standoff\":15},\"zerolinecolor\":\"#283442\",\"zerolinewidth\":2},\"yaxis\":{\"automargin\":true,\"gridcolor\":\"#283442\",\"linecolor\":\"#506784\",\"ticks\":\"\",\"title\":{\"standoff\":15},\"zerolinecolor\":\"#283442\",\"zerolinewidth\":2}}},\"xaxis\":{\"anchor\":\"y\",\"domain\":[0.0,1.0],\"title\":{\"text\":\"Date_Time\"}},\"yaxis\":{\"anchor\":\"x\",\"domain\":[0.0,1.0],\"title\":{\"text\":\"value\"}},\"legend\":{\"title\":{\"text\":\"variable\"},\"tracegroupgap\":0},\"title\":{\"text\":\"Water Quality\"}},                        {\"responsive\": true}                    ).then(function(){\n",
       "                            \n",
       "var gd = document.getElementById('b9cd9201-44b9-4e8c-b450-afa01832ba4e');\n",
       "var x = new MutationObserver(function (mutations, observer) {{\n",
       "        var display = window.getComputedStyle(gd).display;\n",
       "        if (!display || display === 'none') {{\n",
       "            console.log([gd, 'removed!']);\n",
       "            Plotly.purge(gd);\n",
       "            observer.disconnect();\n",
       "        }}\n",
       "}});\n",
       "\n",
       "// Listen for the removal of the full notebook cells\n",
       "var notebookContainer = gd.closest('#notebook-container');\n",
       "if (notebookContainer) {{\n",
       "    x.observe(notebookContainer, {childList: true});\n",
       "}}\n",
       "\n",
       "// Listen for the clearing of the current output cell\n",
       "var outputEl = gd.closest('.output');\n",
       "if (outputEl) {{\n",
       "    x.observe(outputEl, {childList: true});\n",
       "}}\n",
       "\n",
       "                        })                };                });            </script>        </div>"
      ]
     },
     "metadata": {},
     "output_type": "display_data"
    }
   ],
   "source": [
    "\n",
    "for head in headers:\n",
    "    plot_anomalies(plotData, head)\n",
    "\n"
   ]
  },
  {
   "cell_type": "code",
   "execution_count": 21,
   "id": "1e5aafe0",
   "metadata": {},
   "outputs": [
    {
     "data": {
      "application/vnd.plotly.v1+json": {
       "config": {
        "plotlyServerURL": "https://plot.ly"
       },
       "data": [
        {
         "hovertemplate": "Temperature=%{x}<br>pH=%{y}<br>Turbidity=%{z}<br>Prediction=%{marker.color}<extra></extra>",
         "legendgroup": "",
         "marker": {
          "color": [
           1,
           1,
           1,
           1,
           1,
           1,
           1,
           1,
           1,
           1,
           1,
           1,
           1,
           1,
           1,
           1,
           1,
           1,
           1,
           1,
           1,
           1,
           1,
           1,
           1,
           1,
           1,
           1,
           1,
           1,
           1,
           1,
           1,
           1,
           1,
           1,
           1,
           1,
           1,
           1,
           1,
           1,
           1,
           1,
           1,
           1,
           1,
           1,
           1,
           1,
           1,
           1,
           -1,
           1,
           1,
           1,
           1,
           1,
           1,
           1,
           1,
           1,
           1,
           1,
           1,
           1,
           1,
           1,
           1,
           1,
           1,
           1,
           1,
           1,
           1,
           1,
           1,
           1,
           1,
           1,
           1,
           1,
           1,
           1,
           1,
           1,
           1,
           1,
           1,
           -1,
           -1,
           -1,
           -1,
           -1,
           1,
           1,
           1,
           1,
           1,
           1,
           1,
           1,
           -1,
           -1,
           -1,
           -1,
           -1,
           1,
           1,
           1,
           1,
           1,
           1,
           1,
           -1,
           -1,
           -1,
           -1,
           -1,
           -1,
           -1,
           -1,
           -1,
           -1,
           -1,
           -1,
           -1,
           -1,
           -1,
           -1,
           -1,
           -1,
           -1,
           -1,
           -1,
           -1,
           -1,
           -1,
           -1,
           -1,
           -1,
           -1,
           1,
           -1,
           -1,
           1,
           1,
           1,
           1,
           1,
           1,
           -1,
           -1,
           -1,
           -1,
           -1,
           -1,
           -1,
           -1,
           -1,
           -1,
           1,
           1,
           1,
           1,
           1,
           1,
           1,
           1
          ],
          "coloraxis": "coloraxis",
          "symbol": "circle"
         },
         "mode": "markers",
         "name": "",
         "scene": "scene",
         "showlegend": false,
         "type": "scatter3d",
         "x": [
          20.731,
          20.401636363636364,
          20.158301886792458,
          19.65824561403509,
          18.7028813559322,
          18.315254237288137,
          18.166874999999994,
          17.915999999999993,
          17.735846153846147,
          17.521475409836068,
          17.498103448275863,
          17.463269230769242,
          17.56857142857143,
          17.686444444444458,
          17.83220338983051,
          18.07545454545455,
          18.371904761904766,
          18.91419999999999,
          19.621379310344825,
          20.32636363636365,
          20.679433962264156,
          21.06181818181818,
          21.038135593220343,
          20.4378431372549,
          20.161071428571425,
          19.974339622641516,
          19.829999999999995,
          19.685000000000002,
          19.35180327868853,
          18.997656250000002,
          18.70492307692308,
          18.506250000000012,
          18.27238095238096,
          17.949682539682538,
          17.840491803278695,
          18.05788461538462,
          18.798064516129035,
          20.37440677966102,
          21.90983333333333,
          23.2571875,
          23.6575,
          23.716792452830173,
          23.475000000000005,
          23.262272727272734,
          23.05100000000001,
          22.612833333333338,
          22.27199999999999,
          21.82353846153847,
          21.371692307692307,
          21.06140625000002,
          20.65430769230768,
          20.254090909090902,
          19.87538461538461,
          19.510151515151506,
          19.13196969696969,
          18.728461538461534,
          18.39787878787879,
          18.141692307692306,
          18.079090909090908,
          18.344193548387107,
          18.960655737704915,
          20.442307692307693,
          21.80636363636363,
          22.994153846153846,
          23.552461538461554,
          23.69876923076925,
          23.437121212121205,
          23.098307692307685,
          22.924374999999998,
          22.59923076923077,
          22.139365079365092,
          21.735692307692297,
          21.34625,
          21.015000000000015,
          20.614,
          20.275081967213122,
          19.878888888888902,
          19.47384615384614,
          19.202153846153845,
          18.927999999999997,
          18.63939393939393,
          18.42292307692307,
          18.26499999999999,
          18.533508771929824,
          19.021525423728814,
          19.821132075471702,
          20.614363636363638,
          21.32568965517241,
          22.217142857142846,
          22.99016129032258,
          23.33388888888889,
          23.278103448275854,
          23.217230769230795,
          23.00075757575758,
          22.62046153846156,
          22.221060606060593,
          21.802807017543866,
          21.472295081967225,
          21.15215384615384,
          20.767142857142858,
          20.39888888888889,
          20.08185185185186,
          19.759107142857147,
          19.307288135593225,
          18.362203389830515,
          17.74962264150943,
          17.6968,
          18.267777777777777,
          18.767592592592596,
          19.293703703703706,
          20.020925925925923,
          20.63592592592593,
          20.93211538461539,
          20.856538461538456,
          20.59888888888889,
          20.297735849056608,
          19.96055555555556,
          19.595660377358488,
          19.102830188679246,
          18.65075471698113,
          18.202800000000003,
          17.86574074074073,
          17.498703703703715,
          17.113584905660378,
          16.771111111111104,
          16.469444444444445,
          16.25094339622641,
          16.36685185185185,
          16.76490566037736,
          17.78925925925926,
          19.418703703703702,
          20.796792452830186,
          22.54111111111111,
          23.648867924528304,
          23.54346153846155,
          23.33148148148147,
          23.263508771929832,
          22.982708333333335,
          22.552777777777777,
          22.32444444444445,
          22.00653846153846,
          21.62071428571429,
          21.277454545454546,
          20.930545454545456,
          20.524629629629633,
          20.15716981132075,
          19.602678571428566,
          19.004999999999995,
          18.443181818181813,
          17.90581395348837,
          17.4954,
          17.233488372093014,
          16.8908,
          16.619245283018873,
          16.357037037037035,
          15.998888888888896,
          15.687454545454539,
          15.70264150943396,
          16.240377358490562,
          17.265094339622635,
          18.615714285714287,
          19.42981818181819,
          19.925000000000004,
          20.501132075471702,
          21.508076923076935,
          22.1828,
          22.02754716981131,
          21.618163265306123,
          21.383157894736836
         ],
         "y": [
          7.7874999999999925,
          7.735636363636369,
          7.7207547169811415,
          7.810877192982455,
          8.06135593220339,
          8.188644067796606,
          8.226718750000007,
          8.229538461538466,
          8.256461538461531,
          8.293770491803281,
          8.308965517241381,
          8.292692307692308,
          8.26392857142857,
          8.216000000000001,
          8.099322033898305,
          7.999318181818182,
          7.895238095238097,
          7.7882,
          7.628620689655172,
          7.518545454545452,
          7.523962264150946,
          7.572545454545452,
          7.641525423728814,
          7.752156862745097,
          7.803035714285717,
          7.889433962264153,
          8.167777777777776,
          8.350178571428572,
          8.398688524590156,
          8.388749999999995,
          8.330615384615381,
          8.273906249999994,
          8.252857142857144,
          8.25730158730158,
          8.255081967213114,
          8.165384615384612,
          7.810806451612903,
          7.456101694915253,
          7.3095,
          7.206093749999992,
          7.21,
          7.220000000000009,
          7.204107142857138,
          7.285454545454545,
          7.499166666666665,
          7.643666666666667,
          7.832000000000002,
          7.99907692307692,
          8.12276923076923,
          8.220781250000003,
          8.302153846153844,
          8.380303030303027,
          8.42769230769231,
          8.421363636363646,
          8.370909090909096,
          8.294307692307688,
          8.245909090909095,
          8.240307692307697,
          8.256515151515146,
          8.2883870967742,
          8.26688524590164,
          7.969076923076924,
          7.763636363636364,
          7.610923076923072,
          7.580615384615379,
          7.543230769230777,
          7.5160606060606066,
          7.517692307692304,
          7.661718749999996,
          7.688769230769229,
          7.576349206349207,
          7.423076923076924,
          7.267812500000002,
          7.15937499999999,
          7.180999999999996,
          7.273114754098362,
          7.387777777777778,
          7.519076923076922,
          7.674153846153846,
          7.851230769230772,
          8.032272727272728,
          8.208307692307692,
          8.29939393939394,
          8.276315789473678,
          8.214406779661013,
          8.140754716981135,
          8.051090909090906,
          7.9381034482758634,
          7.744603174603176,
          7.498387096774195,
          7.247407407407406,
          7.038965517241382,
          6.9970769230769205,
          7.083030303030303,
          7.2343076923076906,
          7.4390909090909085,
          7.6636842105263145,
          7.897213114754102,
          7.990307692307696,
          7.85410714285714,
          7.622222222222219,
          7.366296296296296,
          7.115,
          6.991355932203397,
          7.056101694915254,
          7.269245283018868,
          7.434399999999994,
          7.453888888888887,
          7.401481481481481,
          7.355000000000002,
          7.407407407407407,
          7.503888888888889,
          7.600961538461537,
          7.67980769230769,
          7.785370370370369,
          8.069622641509435,
          8.272037037037041,
          8.332452830188672,
          8.320943396226419,
          8.280377358490556,
          8.257599999999998,
          8.252962962962961,
          8.25833333333333,
          8.185283018867926,
          7.8537037037037045,
          7.499814814814816,
          7.371886792452829,
          7.252962962962971,
          7.221509433962269,
          7.227962962962969,
          7.20629629629629,
          7.311509433962265,
          7.507407407407407,
          7.819245283018868,
          8.053269230769232,
          8.160925925925929,
          8.197894736842096,
          8.212916666666679,
          8.2412962962963,
          8.27592592592593,
          8.30365384615385,
          8.300892857142866,
          8.277636363636356,
          8.242000000000008,
          8.137592592592592,
          7.916037735849054,
          7.726785714285713,
          7.576739130434782,
          7.466818181818184,
          7.339767441860466,
          7.206000000000005,
          7.134186046511626,
          7.092999999999996,
          7.059433962264155,
          7.0420370370370415,
          7.031481481481473,
          7.029999999999991,
          7.021509433962262,
          7.019999999999997,
          7.029811320754721,
          7.059999999999997,
          7.1060000000000025,
          7.159074074074077,
          7.215849056603779,
          7.268846153846156,
          7.321999999999997,
          7.376226415094334,
          7.432244897959181,
          7.483157894736841
         ],
         "z": [
          197,
          197,
          197,
          196.3684210526316,
          196,
          195.77966101694915,
          195,
          195,
          195,
          195,
          194.17241379310346,
          194,
          194,
          194.64444444444445,
          195.135593220339,
          196.3409090909091,
          197.23809523809524,
          198.68,
          199.93103448275863,
          201.16363636363636,
          202.18867924528303,
          203.52727272727273,
          205.05084745762713,
          206.62745098039215,
          208.14285714285714,
          209.37735849056602,
          210.4814814814815,
          211.83928571428572,
          214.36065573770492,
          215,
          214.63076923076923,
          214.46875,
          214,
          214,
          214,
          213.32692307692307,
          213,
          212.88135593220338,
          212,
          211.890625,
          211,
          211,
          210.64285714285714,
          210.56060606060606,
          211.46666666666667,
          212.75,
          213.7846153846154,
          214.76923076923077,
          215.95384615384614,
          216.484375,
          217.1846153846154,
          218,
          218,
          218,
          218,
          217.33846153846153,
          216.13636363636363,
          215.23076923076923,
          214.5,
          213.74193548387098,
          213,
          213,
          211.95454545454547,
          210.92307692307693,
          210,
          209.24615384615385,
          209,
          208.4923076923077,
          207.46875,
          206.3846153846154,
          205.34920634920636,
          204.43076923076924,
          204,
          203.296875,
          202.65,
          202,
          201.55555555555554,
          201,
          200.2,
          199.7846153846154,
          199,
          198.73846153846154,
          198,
          198,
          197.42372881355934,
          197,
          196.4,
          196,
          196,
          196.30645161290323,
          196.2962962962963,
          196.41379310344828,
          197.64615384615385,
          199.5151515151515,
          201.52307692307693,
          203.78787878787878,
          205.82456140350877,
          208.0655737704918,
          210.87692307692308,
          213.875,
          216.57407407407408,
          219.66666666666666,
          222.41071428571428,
          224.64406779661016,
          226.71186440677965,
          228.81132075471697,
          230.84,
          232.5185185185185,
          233,
          233,
          233,
          233.2962962962963,
          234.26923076923077,
          235.53846153846155,
          236.9814814814815,
          238.45283018867926,
          240.03703703703704,
          242.03773584905662,
          243.56603773584905,
          244.75471698113208,
          245.86,
          246,
          246.59259259259258,
          247,
          247.94444444444446,
          248,
          248,
          248.24074074074073,
          249,
          249,
          249,
          248.9056603773585,
          248,
          248,
          248,
          247.9814814814815,
          247,
          246.83333333333334,
          245.40740740740742,
          243.03703703703704,
          240.34615384615384,
          237.55357142857142,
          234.85454545454544,
          232.27272727272728,
          229.94444444444446,
          228.37735849056602,
          226.83928571428572,
          225.19565217391303,
          223.61363636363637,
          222.37209302325581,
          220.84,
          219.4418604651163,
          218.14,
          216.77358490566039,
          215.53703703703704,
          214.25925925925927,
          212.9090909090909,
          211.83018867924528,
          210.83018867924528,
          209.9245283018868,
          209,
          209.0909090909091,
          210,
          210.26415094339623,
          211,
          211,
          211,
          211.83673469387756,
          212
         ]
        }
       ],
       "layout": {
        "coloraxis": {
         "colorbar": {
          "title": {
           "text": "Prediction"
          }
         },
         "colorscale": [
          [
           0,
           "#0d0887"
          ],
          [
           0.1111111111111111,
           "#46039f"
          ],
          [
           0.2222222222222222,
           "#7201a8"
          ],
          [
           0.3333333333333333,
           "#9c179e"
          ],
          [
           0.4444444444444444,
           "#bd3786"
          ],
          [
           0.5555555555555556,
           "#d8576b"
          ],
          [
           0.6666666666666666,
           "#ed7953"
          ],
          [
           0.7777777777777778,
           "#fb9f3a"
          ],
          [
           0.8888888888888888,
           "#fdca26"
          ],
          [
           1,
           "#f0f921"
          ]
         ]
        },
        "legend": {
         "tracegroupgap": 0
        },
        "scene": {
         "domain": {
          "x": [
           0,
           1
          ],
          "y": [
           0,
           1
          ]
         },
         "xaxis": {
          "title": {
           "text": "Temperature"
          }
         },
         "yaxis": {
          "title": {
           "text": "pH"
          }
         },
         "zaxis": {
          "title": {
           "text": "Turbidity"
          }
         }
        },
        "template": {
         "data": {
          "bar": [
           {
            "error_x": {
             "color": "#2a3f5f"
            },
            "error_y": {
             "color": "#2a3f5f"
            },
            "marker": {
             "line": {
              "color": "#E5ECF6",
              "width": 0.5
             },
             "pattern": {
              "fillmode": "overlay",
              "size": 10,
              "solidity": 0.2
             }
            },
            "type": "bar"
           }
          ],
          "barpolar": [
           {
            "marker": {
             "line": {
              "color": "#E5ECF6",
              "width": 0.5
             },
             "pattern": {
              "fillmode": "overlay",
              "size": 10,
              "solidity": 0.2
             }
            },
            "type": "barpolar"
           }
          ],
          "carpet": [
           {
            "aaxis": {
             "endlinecolor": "#2a3f5f",
             "gridcolor": "white",
             "linecolor": "white",
             "minorgridcolor": "white",
             "startlinecolor": "#2a3f5f"
            },
            "baxis": {
             "endlinecolor": "#2a3f5f",
             "gridcolor": "white",
             "linecolor": "white",
             "minorgridcolor": "white",
             "startlinecolor": "#2a3f5f"
            },
            "type": "carpet"
           }
          ],
          "choropleth": [
           {
            "colorbar": {
             "outlinewidth": 0,
             "ticks": ""
            },
            "type": "choropleth"
           }
          ],
          "contour": [
           {
            "colorbar": {
             "outlinewidth": 0,
             "ticks": ""
            },
            "colorscale": [
             [
              0,
              "#0d0887"
             ],
             [
              0.1111111111111111,
              "#46039f"
             ],
             [
              0.2222222222222222,
              "#7201a8"
             ],
             [
              0.3333333333333333,
              "#9c179e"
             ],
             [
              0.4444444444444444,
              "#bd3786"
             ],
             [
              0.5555555555555556,
              "#d8576b"
             ],
             [
              0.6666666666666666,
              "#ed7953"
             ],
             [
              0.7777777777777778,
              "#fb9f3a"
             ],
             [
              0.8888888888888888,
              "#fdca26"
             ],
             [
              1,
              "#f0f921"
             ]
            ],
            "type": "contour"
           }
          ],
          "contourcarpet": [
           {
            "colorbar": {
             "outlinewidth": 0,
             "ticks": ""
            },
            "type": "contourcarpet"
           }
          ],
          "heatmap": [
           {
            "colorbar": {
             "outlinewidth": 0,
             "ticks": ""
            },
            "colorscale": [
             [
              0,
              "#0d0887"
             ],
             [
              0.1111111111111111,
              "#46039f"
             ],
             [
              0.2222222222222222,
              "#7201a8"
             ],
             [
              0.3333333333333333,
              "#9c179e"
             ],
             [
              0.4444444444444444,
              "#bd3786"
             ],
             [
              0.5555555555555556,
              "#d8576b"
             ],
             [
              0.6666666666666666,
              "#ed7953"
             ],
             [
              0.7777777777777778,
              "#fb9f3a"
             ],
             [
              0.8888888888888888,
              "#fdca26"
             ],
             [
              1,
              "#f0f921"
             ]
            ],
            "type": "heatmap"
           }
          ],
          "heatmapgl": [
           {
            "colorbar": {
             "outlinewidth": 0,
             "ticks": ""
            },
            "colorscale": [
             [
              0,
              "#0d0887"
             ],
             [
              0.1111111111111111,
              "#46039f"
             ],
             [
              0.2222222222222222,
              "#7201a8"
             ],
             [
              0.3333333333333333,
              "#9c179e"
             ],
             [
              0.4444444444444444,
              "#bd3786"
             ],
             [
              0.5555555555555556,
              "#d8576b"
             ],
             [
              0.6666666666666666,
              "#ed7953"
             ],
             [
              0.7777777777777778,
              "#fb9f3a"
             ],
             [
              0.8888888888888888,
              "#fdca26"
             ],
             [
              1,
              "#f0f921"
             ]
            ],
            "type": "heatmapgl"
           }
          ],
          "histogram": [
           {
            "marker": {
             "pattern": {
              "fillmode": "overlay",
              "size": 10,
              "solidity": 0.2
             }
            },
            "type": "histogram"
           }
          ],
          "histogram2d": [
           {
            "colorbar": {
             "outlinewidth": 0,
             "ticks": ""
            },
            "colorscale": [
             [
              0,
              "#0d0887"
             ],
             [
              0.1111111111111111,
              "#46039f"
             ],
             [
              0.2222222222222222,
              "#7201a8"
             ],
             [
              0.3333333333333333,
              "#9c179e"
             ],
             [
              0.4444444444444444,
              "#bd3786"
             ],
             [
              0.5555555555555556,
              "#d8576b"
             ],
             [
              0.6666666666666666,
              "#ed7953"
             ],
             [
              0.7777777777777778,
              "#fb9f3a"
             ],
             [
              0.8888888888888888,
              "#fdca26"
             ],
             [
              1,
              "#f0f921"
             ]
            ],
            "type": "histogram2d"
           }
          ],
          "histogram2dcontour": [
           {
            "colorbar": {
             "outlinewidth": 0,
             "ticks": ""
            },
            "colorscale": [
             [
              0,
              "#0d0887"
             ],
             [
              0.1111111111111111,
              "#46039f"
             ],
             [
              0.2222222222222222,
              "#7201a8"
             ],
             [
              0.3333333333333333,
              "#9c179e"
             ],
             [
              0.4444444444444444,
              "#bd3786"
             ],
             [
              0.5555555555555556,
              "#d8576b"
             ],
             [
              0.6666666666666666,
              "#ed7953"
             ],
             [
              0.7777777777777778,
              "#fb9f3a"
             ],
             [
              0.8888888888888888,
              "#fdca26"
             ],
             [
              1,
              "#f0f921"
             ]
            ],
            "type": "histogram2dcontour"
           }
          ],
          "mesh3d": [
           {
            "colorbar": {
             "outlinewidth": 0,
             "ticks": ""
            },
            "type": "mesh3d"
           }
          ],
          "parcoords": [
           {
            "line": {
             "colorbar": {
              "outlinewidth": 0,
              "ticks": ""
             }
            },
            "type": "parcoords"
           }
          ],
          "pie": [
           {
            "automargin": true,
            "type": "pie"
           }
          ],
          "scatter": [
           {
            "marker": {
             "colorbar": {
              "outlinewidth": 0,
              "ticks": ""
             }
            },
            "type": "scatter"
           }
          ],
          "scatter3d": [
           {
            "line": {
             "colorbar": {
              "outlinewidth": 0,
              "ticks": ""
             }
            },
            "marker": {
             "colorbar": {
              "outlinewidth": 0,
              "ticks": ""
             }
            },
            "type": "scatter3d"
           }
          ],
          "scattercarpet": [
           {
            "marker": {
             "colorbar": {
              "outlinewidth": 0,
              "ticks": ""
             }
            },
            "type": "scattercarpet"
           }
          ],
          "scattergeo": [
           {
            "marker": {
             "colorbar": {
              "outlinewidth": 0,
              "ticks": ""
             }
            },
            "type": "scattergeo"
           }
          ],
          "scattergl": [
           {
            "marker": {
             "colorbar": {
              "outlinewidth": 0,
              "ticks": ""
             }
            },
            "type": "scattergl"
           }
          ],
          "scattermapbox": [
           {
            "marker": {
             "colorbar": {
              "outlinewidth": 0,
              "ticks": ""
             }
            },
            "type": "scattermapbox"
           }
          ],
          "scatterpolar": [
           {
            "marker": {
             "colorbar": {
              "outlinewidth": 0,
              "ticks": ""
             }
            },
            "type": "scatterpolar"
           }
          ],
          "scatterpolargl": [
           {
            "marker": {
             "colorbar": {
              "outlinewidth": 0,
              "ticks": ""
             }
            },
            "type": "scatterpolargl"
           }
          ],
          "scatterternary": [
           {
            "marker": {
             "colorbar": {
              "outlinewidth": 0,
              "ticks": ""
             }
            },
            "type": "scatterternary"
           }
          ],
          "surface": [
           {
            "colorbar": {
             "outlinewidth": 0,
             "ticks": ""
            },
            "colorscale": [
             [
              0,
              "#0d0887"
             ],
             [
              0.1111111111111111,
              "#46039f"
             ],
             [
              0.2222222222222222,
              "#7201a8"
             ],
             [
              0.3333333333333333,
              "#9c179e"
             ],
             [
              0.4444444444444444,
              "#bd3786"
             ],
             [
              0.5555555555555556,
              "#d8576b"
             ],
             [
              0.6666666666666666,
              "#ed7953"
             ],
             [
              0.7777777777777778,
              "#fb9f3a"
             ],
             [
              0.8888888888888888,
              "#fdca26"
             ],
             [
              1,
              "#f0f921"
             ]
            ],
            "type": "surface"
           }
          ],
          "table": [
           {
            "cells": {
             "fill": {
              "color": "#EBF0F8"
             },
             "line": {
              "color": "white"
             }
            },
            "header": {
             "fill": {
              "color": "#C8D4E3"
             },
             "line": {
              "color": "white"
             }
            },
            "type": "table"
           }
          ]
         },
         "layout": {
          "annotationdefaults": {
           "arrowcolor": "#2a3f5f",
           "arrowhead": 0,
           "arrowwidth": 1
          },
          "autotypenumbers": "strict",
          "coloraxis": {
           "colorbar": {
            "outlinewidth": 0,
            "ticks": ""
           }
          },
          "colorscale": {
           "diverging": [
            [
             0,
             "#8e0152"
            ],
            [
             0.1,
             "#c51b7d"
            ],
            [
             0.2,
             "#de77ae"
            ],
            [
             0.3,
             "#f1b6da"
            ],
            [
             0.4,
             "#fde0ef"
            ],
            [
             0.5,
             "#f7f7f7"
            ],
            [
             0.6,
             "#e6f5d0"
            ],
            [
             0.7,
             "#b8e186"
            ],
            [
             0.8,
             "#7fbc41"
            ],
            [
             0.9,
             "#4d9221"
            ],
            [
             1,
             "#276419"
            ]
           ],
           "sequential": [
            [
             0,
             "#0d0887"
            ],
            [
             0.1111111111111111,
             "#46039f"
            ],
            [
             0.2222222222222222,
             "#7201a8"
            ],
            [
             0.3333333333333333,
             "#9c179e"
            ],
            [
             0.4444444444444444,
             "#bd3786"
            ],
            [
             0.5555555555555556,
             "#d8576b"
            ],
            [
             0.6666666666666666,
             "#ed7953"
            ],
            [
             0.7777777777777778,
             "#fb9f3a"
            ],
            [
             0.8888888888888888,
             "#fdca26"
            ],
            [
             1,
             "#f0f921"
            ]
           ],
           "sequentialminus": [
            [
             0,
             "#0d0887"
            ],
            [
             0.1111111111111111,
             "#46039f"
            ],
            [
             0.2222222222222222,
             "#7201a8"
            ],
            [
             0.3333333333333333,
             "#9c179e"
            ],
            [
             0.4444444444444444,
             "#bd3786"
            ],
            [
             0.5555555555555556,
             "#d8576b"
            ],
            [
             0.6666666666666666,
             "#ed7953"
            ],
            [
             0.7777777777777778,
             "#fb9f3a"
            ],
            [
             0.8888888888888888,
             "#fdca26"
            ],
            [
             1,
             "#f0f921"
            ]
           ]
          },
          "colorway": [
           "#636efa",
           "#EF553B",
           "#00cc96",
           "#ab63fa",
           "#FFA15A",
           "#19d3f3",
           "#FF6692",
           "#B6E880",
           "#FF97FF",
           "#FECB52"
          ],
          "font": {
           "color": "#2a3f5f"
          },
          "geo": {
           "bgcolor": "white",
           "lakecolor": "white",
           "landcolor": "#E5ECF6",
           "showlakes": true,
           "showland": true,
           "subunitcolor": "white"
          },
          "hoverlabel": {
           "align": "left"
          },
          "hovermode": "closest",
          "mapbox": {
           "style": "light"
          },
          "paper_bgcolor": "white",
          "plot_bgcolor": "#E5ECF6",
          "polar": {
           "angularaxis": {
            "gridcolor": "white",
            "linecolor": "white",
            "ticks": ""
           },
           "bgcolor": "#E5ECF6",
           "radialaxis": {
            "gridcolor": "white",
            "linecolor": "white",
            "ticks": ""
           }
          },
          "scene": {
           "xaxis": {
            "backgroundcolor": "#E5ECF6",
            "gridcolor": "white",
            "gridwidth": 2,
            "linecolor": "white",
            "showbackground": true,
            "ticks": "",
            "zerolinecolor": "white"
           },
           "yaxis": {
            "backgroundcolor": "#E5ECF6",
            "gridcolor": "white",
            "gridwidth": 2,
            "linecolor": "white",
            "showbackground": true,
            "ticks": "",
            "zerolinecolor": "white"
           },
           "zaxis": {
            "backgroundcolor": "#E5ECF6",
            "gridcolor": "white",
            "gridwidth": 2,
            "linecolor": "white",
            "showbackground": true,
            "ticks": "",
            "zerolinecolor": "white"
           }
          },
          "shapedefaults": {
           "line": {
            "color": "#2a3f5f"
           }
          },
          "ternary": {
           "aaxis": {
            "gridcolor": "white",
            "linecolor": "white",
            "ticks": ""
           },
           "baxis": {
            "gridcolor": "white",
            "linecolor": "white",
            "ticks": ""
           },
           "bgcolor": "#E5ECF6",
           "caxis": {
            "gridcolor": "white",
            "linecolor": "white",
            "ticks": ""
           }
          },
          "title": {
           "x": 0.05
          },
          "xaxis": {
           "automargin": true,
           "gridcolor": "white",
           "linecolor": "white",
           "ticks": "",
           "title": {
            "standoff": 15
           },
           "zerolinecolor": "white",
           "zerolinewidth": 2
          },
          "yaxis": {
           "automargin": true,
           "gridcolor": "white",
           "linecolor": "white",
           "ticks": "",
           "title": {
            "standoff": 15
           },
           "zerolinecolor": "white",
           "zerolinewidth": 2
          }
         }
        },
        "title": {
         "text": "Water Quality"
        }
       }
      },
      "text/html": [
       "<div>                            <div id=\"f7d6227c-3b01-4772-bd0a-8ad711844fab\" class=\"plotly-graph-div\" style=\"height:525px; width:100%;\"></div>            <script type=\"text/javascript\">                require([\"plotly\"], function(Plotly) {                    window.PLOTLYENV=window.PLOTLYENV || {};                                    if (document.getElementById(\"f7d6227c-3b01-4772-bd0a-8ad711844fab\")) {                    Plotly.newPlot(                        \"f7d6227c-3b01-4772-bd0a-8ad711844fab\",                        [{\"hovertemplate\":\"Temperature=%{x}<br>pH=%{y}<br>Turbidity=%{z}<br>Prediction=%{marker.color}<extra></extra>\",\"legendgroup\":\"\",\"marker\":{\"color\":[1,1,1,1,1,1,1,1,1,1,1,1,1,1,1,1,1,1,1,1,1,1,1,1,1,1,1,1,1,1,1,1,1,1,1,1,1,1,1,1,1,1,1,1,1,1,1,1,1,1,1,1,-1,1,1,1,1,1,1,1,1,1,1,1,1,1,1,1,1,1,1,1,1,1,1,1,1,1,1,1,1,1,1,1,1,1,1,1,1,-1,-1,-1,-1,-1,1,1,1,1,1,1,1,1,-1,-1,-1,-1,-1,1,1,1,1,1,1,1,-1,-1,-1,-1,-1,-1,-1,-1,-1,-1,-1,-1,-1,-1,-1,-1,-1,-1,-1,-1,-1,-1,-1,-1,-1,-1,-1,-1,1,-1,-1,1,1,1,1,1,1,-1,-1,-1,-1,-1,-1,-1,-1,-1,-1,1,1,1,1,1,1,1,1],\"coloraxis\":\"coloraxis\",\"symbol\":\"circle\"},\"mode\":\"markers\",\"name\":\"\",\"scene\":\"scene\",\"showlegend\":false,\"x\":[20.731,20.401636363636364,20.158301886792458,19.65824561403509,18.7028813559322,18.315254237288137,18.166874999999994,17.915999999999993,17.735846153846147,17.521475409836068,17.498103448275863,17.463269230769242,17.56857142857143,17.686444444444458,17.83220338983051,18.07545454545455,18.371904761904766,18.91419999999999,19.621379310344825,20.32636363636365,20.679433962264156,21.06181818181818,21.038135593220343,20.4378431372549,20.161071428571425,19.974339622641516,19.829999999999995,19.685000000000002,19.35180327868853,18.997656250000002,18.70492307692308,18.506250000000012,18.27238095238096,17.949682539682538,17.840491803278695,18.05788461538462,18.798064516129035,20.37440677966102,21.90983333333333,23.2571875,23.6575,23.716792452830173,23.475000000000005,23.262272727272734,23.05100000000001,22.612833333333338,22.27199999999999,21.82353846153847,21.371692307692307,21.06140625000002,20.65430769230768,20.254090909090902,19.87538461538461,19.510151515151506,19.13196969696969,18.728461538461534,18.39787878787879,18.141692307692306,18.079090909090908,18.344193548387107,18.960655737704915,20.442307692307693,21.80636363636363,22.994153846153846,23.552461538461554,23.69876923076925,23.437121212121205,23.098307692307685,22.924374999999998,22.59923076923077,22.139365079365092,21.735692307692297,21.34625,21.015000000000015,20.614,20.275081967213122,19.878888888888902,19.47384615384614,19.202153846153845,18.927999999999997,18.63939393939393,18.42292307692307,18.26499999999999,18.533508771929824,19.021525423728814,19.821132075471702,20.614363636363638,21.32568965517241,22.217142857142846,22.99016129032258,23.33388888888889,23.278103448275854,23.217230769230795,23.00075757575758,22.62046153846156,22.221060606060593,21.802807017543866,21.472295081967225,21.15215384615384,20.767142857142858,20.39888888888889,20.08185185185186,19.759107142857147,19.307288135593225,18.362203389830515,17.74962264150943,17.6968,18.267777777777777,18.767592592592596,19.293703703703706,20.020925925925923,20.63592592592593,20.93211538461539,20.856538461538456,20.59888888888889,20.297735849056608,19.96055555555556,19.595660377358488,19.102830188679246,18.65075471698113,18.202800000000003,17.86574074074073,17.498703703703715,17.113584905660378,16.771111111111104,16.469444444444445,16.25094339622641,16.36685185185185,16.76490566037736,17.78925925925926,19.418703703703702,20.796792452830186,22.54111111111111,23.648867924528304,23.54346153846155,23.33148148148147,23.263508771929832,22.982708333333335,22.552777777777777,22.32444444444445,22.00653846153846,21.62071428571429,21.277454545454546,20.930545454545456,20.524629629629633,20.15716981132075,19.602678571428566,19.004999999999995,18.443181818181813,17.90581395348837,17.4954,17.233488372093014,16.8908,16.619245283018873,16.357037037037035,15.998888888888896,15.687454545454539,15.70264150943396,16.240377358490562,17.265094339622635,18.615714285714287,19.42981818181819,19.925000000000004,20.501132075471702,21.508076923076935,22.1828,22.02754716981131,21.618163265306123,21.383157894736836],\"y\":[7.7874999999999925,7.735636363636369,7.7207547169811415,7.810877192982455,8.06135593220339,8.188644067796606,8.226718750000007,8.229538461538466,8.256461538461531,8.293770491803281,8.308965517241381,8.292692307692308,8.26392857142857,8.216000000000001,8.099322033898305,7.999318181818182,7.895238095238097,7.7882,7.628620689655172,7.518545454545452,7.523962264150946,7.572545454545452,7.641525423728814,7.752156862745097,7.803035714285717,7.889433962264153,8.167777777777776,8.350178571428572,8.398688524590156,8.388749999999995,8.330615384615381,8.273906249999994,8.252857142857144,8.25730158730158,8.255081967213114,8.165384615384612,7.810806451612903,7.456101694915253,7.3095,7.206093749999992,7.21,7.220000000000009,7.204107142857138,7.285454545454545,7.499166666666665,7.643666666666667,7.832000000000002,7.99907692307692,8.12276923076923,8.220781250000003,8.302153846153844,8.380303030303027,8.42769230769231,8.421363636363646,8.370909090909096,8.294307692307688,8.245909090909095,8.240307692307697,8.256515151515146,8.2883870967742,8.26688524590164,7.969076923076924,7.763636363636364,7.610923076923072,7.580615384615379,7.543230769230777,7.5160606060606066,7.517692307692304,7.661718749999996,7.688769230769229,7.576349206349207,7.423076923076924,7.267812500000002,7.15937499999999,7.180999999999996,7.273114754098362,7.387777777777778,7.519076923076922,7.674153846153846,7.851230769230772,8.032272727272728,8.208307692307692,8.29939393939394,8.276315789473678,8.214406779661013,8.140754716981135,8.051090909090906,7.9381034482758634,7.744603174603176,7.498387096774195,7.247407407407406,7.038965517241382,6.9970769230769205,7.083030303030303,7.2343076923076906,7.4390909090909085,7.6636842105263145,7.897213114754102,7.990307692307696,7.85410714285714,7.622222222222219,7.366296296296296,7.115,6.991355932203397,7.056101694915254,7.269245283018868,7.434399999999994,7.453888888888887,7.401481481481481,7.355000000000002,7.407407407407407,7.503888888888889,7.600961538461537,7.67980769230769,7.785370370370369,8.069622641509435,8.272037037037041,8.332452830188672,8.320943396226419,8.280377358490556,8.257599999999998,8.252962962962961,8.25833333333333,8.185283018867926,7.8537037037037045,7.499814814814816,7.371886792452829,7.252962962962971,7.221509433962269,7.227962962962969,7.20629629629629,7.311509433962265,7.507407407407407,7.819245283018868,8.053269230769232,8.160925925925929,8.197894736842096,8.212916666666679,8.2412962962963,8.27592592592593,8.30365384615385,8.300892857142866,8.277636363636356,8.242000000000008,8.137592592592592,7.916037735849054,7.726785714285713,7.576739130434782,7.466818181818184,7.339767441860466,7.206000000000005,7.134186046511626,7.092999999999996,7.059433962264155,7.0420370370370415,7.031481481481473,7.029999999999991,7.021509433962262,7.019999999999997,7.029811320754721,7.059999999999997,7.1060000000000025,7.159074074074077,7.215849056603779,7.268846153846156,7.321999999999997,7.376226415094334,7.432244897959181,7.483157894736841],\"z\":[197.0,197.0,197.0,196.3684210526316,196.0,195.77966101694915,195.0,195.0,195.0,195.0,194.17241379310346,194.0,194.0,194.64444444444445,195.135593220339,196.3409090909091,197.23809523809524,198.68,199.93103448275863,201.16363636363636,202.18867924528303,203.52727272727273,205.05084745762713,206.62745098039215,208.14285714285714,209.37735849056602,210.4814814814815,211.83928571428572,214.36065573770492,215.0,214.63076923076923,214.46875,214.0,214.0,214.0,213.32692307692307,213.0,212.88135593220338,212.0,211.890625,211.0,211.0,210.64285714285714,210.56060606060606,211.46666666666667,212.75,213.7846153846154,214.76923076923077,215.95384615384614,216.484375,217.1846153846154,218.0,218.0,218.0,218.0,217.33846153846153,216.13636363636363,215.23076923076923,214.5,213.74193548387098,213.0,213.0,211.95454545454547,210.92307692307693,210.0,209.24615384615385,209.0,208.4923076923077,207.46875,206.3846153846154,205.34920634920636,204.43076923076924,204.0,203.296875,202.65,202.0,201.55555555555554,201.0,200.2,199.7846153846154,199.0,198.73846153846154,198.0,198.0,197.42372881355934,197.0,196.4,196.0,196.0,196.30645161290323,196.2962962962963,196.41379310344828,197.64615384615385,199.5151515151515,201.52307692307693,203.78787878787878,205.82456140350877,208.0655737704918,210.87692307692308,213.875,216.57407407407408,219.66666666666666,222.41071428571428,224.64406779661016,226.71186440677965,228.81132075471697,230.84,232.5185185185185,233.0,233.0,233.0,233.2962962962963,234.26923076923077,235.53846153846155,236.9814814814815,238.45283018867926,240.03703703703704,242.03773584905662,243.56603773584905,244.75471698113208,245.86,246.0,246.59259259259258,247.0,247.94444444444446,248.0,248.0,248.24074074074073,249.0,249.0,249.0,248.9056603773585,248.0,248.0,248.0,247.9814814814815,247.0,246.83333333333334,245.40740740740742,243.03703703703704,240.34615384615384,237.55357142857142,234.85454545454544,232.27272727272728,229.94444444444446,228.37735849056602,226.83928571428572,225.19565217391303,223.61363636363637,222.37209302325581,220.84,219.4418604651163,218.14,216.77358490566039,215.53703703703704,214.25925925925927,212.9090909090909,211.83018867924528,210.83018867924528,209.9245283018868,209.0,209.0909090909091,210.0,210.26415094339623,211.0,211.0,211.0,211.83673469387756,212.0],\"type\":\"scatter3d\"}],                        {\"template\":{\"data\":{\"bar\":[{\"error_x\":{\"color\":\"#2a3f5f\"},\"error_y\":{\"color\":\"#2a3f5f\"},\"marker\":{\"line\":{\"color\":\"#E5ECF6\",\"width\":0.5},\"pattern\":{\"fillmode\":\"overlay\",\"size\":10,\"solidity\":0.2}},\"type\":\"bar\"}],\"barpolar\":[{\"marker\":{\"line\":{\"color\":\"#E5ECF6\",\"width\":0.5},\"pattern\":{\"fillmode\":\"overlay\",\"size\":10,\"solidity\":0.2}},\"type\":\"barpolar\"}],\"carpet\":[{\"aaxis\":{\"endlinecolor\":\"#2a3f5f\",\"gridcolor\":\"white\",\"linecolor\":\"white\",\"minorgridcolor\":\"white\",\"startlinecolor\":\"#2a3f5f\"},\"baxis\":{\"endlinecolor\":\"#2a3f5f\",\"gridcolor\":\"white\",\"linecolor\":\"white\",\"minorgridcolor\":\"white\",\"startlinecolor\":\"#2a3f5f\"},\"type\":\"carpet\"}],\"choropleth\":[{\"colorbar\":{\"outlinewidth\":0,\"ticks\":\"\"},\"type\":\"choropleth\"}],\"contour\":[{\"colorbar\":{\"outlinewidth\":0,\"ticks\":\"\"},\"colorscale\":[[0.0,\"#0d0887\"],[0.1111111111111111,\"#46039f\"],[0.2222222222222222,\"#7201a8\"],[0.3333333333333333,\"#9c179e\"],[0.4444444444444444,\"#bd3786\"],[0.5555555555555556,\"#d8576b\"],[0.6666666666666666,\"#ed7953\"],[0.7777777777777778,\"#fb9f3a\"],[0.8888888888888888,\"#fdca26\"],[1.0,\"#f0f921\"]],\"type\":\"contour\"}],\"contourcarpet\":[{\"colorbar\":{\"outlinewidth\":0,\"ticks\":\"\"},\"type\":\"contourcarpet\"}],\"heatmap\":[{\"colorbar\":{\"outlinewidth\":0,\"ticks\":\"\"},\"colorscale\":[[0.0,\"#0d0887\"],[0.1111111111111111,\"#46039f\"],[0.2222222222222222,\"#7201a8\"],[0.3333333333333333,\"#9c179e\"],[0.4444444444444444,\"#bd3786\"],[0.5555555555555556,\"#d8576b\"],[0.6666666666666666,\"#ed7953\"],[0.7777777777777778,\"#fb9f3a\"],[0.8888888888888888,\"#fdca26\"],[1.0,\"#f0f921\"]],\"type\":\"heatmap\"}],\"heatmapgl\":[{\"colorbar\":{\"outlinewidth\":0,\"ticks\":\"\"},\"colorscale\":[[0.0,\"#0d0887\"],[0.1111111111111111,\"#46039f\"],[0.2222222222222222,\"#7201a8\"],[0.3333333333333333,\"#9c179e\"],[0.4444444444444444,\"#bd3786\"],[0.5555555555555556,\"#d8576b\"],[0.6666666666666666,\"#ed7953\"],[0.7777777777777778,\"#fb9f3a\"],[0.8888888888888888,\"#fdca26\"],[1.0,\"#f0f921\"]],\"type\":\"heatmapgl\"}],\"histogram\":[{\"marker\":{\"pattern\":{\"fillmode\":\"overlay\",\"size\":10,\"solidity\":0.2}},\"type\":\"histogram\"}],\"histogram2d\":[{\"colorbar\":{\"outlinewidth\":0,\"ticks\":\"\"},\"colorscale\":[[0.0,\"#0d0887\"],[0.1111111111111111,\"#46039f\"],[0.2222222222222222,\"#7201a8\"],[0.3333333333333333,\"#9c179e\"],[0.4444444444444444,\"#bd3786\"],[0.5555555555555556,\"#d8576b\"],[0.6666666666666666,\"#ed7953\"],[0.7777777777777778,\"#fb9f3a\"],[0.8888888888888888,\"#fdca26\"],[1.0,\"#f0f921\"]],\"type\":\"histogram2d\"}],\"histogram2dcontour\":[{\"colorbar\":{\"outlinewidth\":0,\"ticks\":\"\"},\"colorscale\":[[0.0,\"#0d0887\"],[0.1111111111111111,\"#46039f\"],[0.2222222222222222,\"#7201a8\"],[0.3333333333333333,\"#9c179e\"],[0.4444444444444444,\"#bd3786\"],[0.5555555555555556,\"#d8576b\"],[0.6666666666666666,\"#ed7953\"],[0.7777777777777778,\"#fb9f3a\"],[0.8888888888888888,\"#fdca26\"],[1.0,\"#f0f921\"]],\"type\":\"histogram2dcontour\"}],\"mesh3d\":[{\"colorbar\":{\"outlinewidth\":0,\"ticks\":\"\"},\"type\":\"mesh3d\"}],\"parcoords\":[{\"line\":{\"colorbar\":{\"outlinewidth\":0,\"ticks\":\"\"}},\"type\":\"parcoords\"}],\"pie\":[{\"automargin\":true,\"type\":\"pie\"}],\"scatter\":[{\"marker\":{\"colorbar\":{\"outlinewidth\":0,\"ticks\":\"\"}},\"type\":\"scatter\"}],\"scatter3d\":[{\"line\":{\"colorbar\":{\"outlinewidth\":0,\"ticks\":\"\"}},\"marker\":{\"colorbar\":{\"outlinewidth\":0,\"ticks\":\"\"}},\"type\":\"scatter3d\"}],\"scattercarpet\":[{\"marker\":{\"colorbar\":{\"outlinewidth\":0,\"ticks\":\"\"}},\"type\":\"scattercarpet\"}],\"scattergeo\":[{\"marker\":{\"colorbar\":{\"outlinewidth\":0,\"ticks\":\"\"}},\"type\":\"scattergeo\"}],\"scattergl\":[{\"marker\":{\"colorbar\":{\"outlinewidth\":0,\"ticks\":\"\"}},\"type\":\"scattergl\"}],\"scattermapbox\":[{\"marker\":{\"colorbar\":{\"outlinewidth\":0,\"ticks\":\"\"}},\"type\":\"scattermapbox\"}],\"scatterpolar\":[{\"marker\":{\"colorbar\":{\"outlinewidth\":0,\"ticks\":\"\"}},\"type\":\"scatterpolar\"}],\"scatterpolargl\":[{\"marker\":{\"colorbar\":{\"outlinewidth\":0,\"ticks\":\"\"}},\"type\":\"scatterpolargl\"}],\"scatterternary\":[{\"marker\":{\"colorbar\":{\"outlinewidth\":0,\"ticks\":\"\"}},\"type\":\"scatterternary\"}],\"surface\":[{\"colorbar\":{\"outlinewidth\":0,\"ticks\":\"\"},\"colorscale\":[[0.0,\"#0d0887\"],[0.1111111111111111,\"#46039f\"],[0.2222222222222222,\"#7201a8\"],[0.3333333333333333,\"#9c179e\"],[0.4444444444444444,\"#bd3786\"],[0.5555555555555556,\"#d8576b\"],[0.6666666666666666,\"#ed7953\"],[0.7777777777777778,\"#fb9f3a\"],[0.8888888888888888,\"#fdca26\"],[1.0,\"#f0f921\"]],\"type\":\"surface\"}],\"table\":[{\"cells\":{\"fill\":{\"color\":\"#EBF0F8\"},\"line\":{\"color\":\"white\"}},\"header\":{\"fill\":{\"color\":\"#C8D4E3\"},\"line\":{\"color\":\"white\"}},\"type\":\"table\"}]},\"layout\":{\"annotationdefaults\":{\"arrowcolor\":\"#2a3f5f\",\"arrowhead\":0,\"arrowwidth\":1},\"autotypenumbers\":\"strict\",\"coloraxis\":{\"colorbar\":{\"outlinewidth\":0,\"ticks\":\"\"}},\"colorscale\":{\"diverging\":[[0,\"#8e0152\"],[0.1,\"#c51b7d\"],[0.2,\"#de77ae\"],[0.3,\"#f1b6da\"],[0.4,\"#fde0ef\"],[0.5,\"#f7f7f7\"],[0.6,\"#e6f5d0\"],[0.7,\"#b8e186\"],[0.8,\"#7fbc41\"],[0.9,\"#4d9221\"],[1,\"#276419\"]],\"sequential\":[[0.0,\"#0d0887\"],[0.1111111111111111,\"#46039f\"],[0.2222222222222222,\"#7201a8\"],[0.3333333333333333,\"#9c179e\"],[0.4444444444444444,\"#bd3786\"],[0.5555555555555556,\"#d8576b\"],[0.6666666666666666,\"#ed7953\"],[0.7777777777777778,\"#fb9f3a\"],[0.8888888888888888,\"#fdca26\"],[1.0,\"#f0f921\"]],\"sequentialminus\":[[0.0,\"#0d0887\"],[0.1111111111111111,\"#46039f\"],[0.2222222222222222,\"#7201a8\"],[0.3333333333333333,\"#9c179e\"],[0.4444444444444444,\"#bd3786\"],[0.5555555555555556,\"#d8576b\"],[0.6666666666666666,\"#ed7953\"],[0.7777777777777778,\"#fb9f3a\"],[0.8888888888888888,\"#fdca26\"],[1.0,\"#f0f921\"]]},\"colorway\":[\"#636efa\",\"#EF553B\",\"#00cc96\",\"#ab63fa\",\"#FFA15A\",\"#19d3f3\",\"#FF6692\",\"#B6E880\",\"#FF97FF\",\"#FECB52\"],\"font\":{\"color\":\"#2a3f5f\"},\"geo\":{\"bgcolor\":\"white\",\"lakecolor\":\"white\",\"landcolor\":\"#E5ECF6\",\"showlakes\":true,\"showland\":true,\"subunitcolor\":\"white\"},\"hoverlabel\":{\"align\":\"left\"},\"hovermode\":\"closest\",\"mapbox\":{\"style\":\"light\"},\"paper_bgcolor\":\"white\",\"plot_bgcolor\":\"#E5ECF6\",\"polar\":{\"angularaxis\":{\"gridcolor\":\"white\",\"linecolor\":\"white\",\"ticks\":\"\"},\"bgcolor\":\"#E5ECF6\",\"radialaxis\":{\"gridcolor\":\"white\",\"linecolor\":\"white\",\"ticks\":\"\"}},\"scene\":{\"xaxis\":{\"backgroundcolor\":\"#E5ECF6\",\"gridcolor\":\"white\",\"gridwidth\":2,\"linecolor\":\"white\",\"showbackground\":true,\"ticks\":\"\",\"zerolinecolor\":\"white\"},\"yaxis\":{\"backgroundcolor\":\"#E5ECF6\",\"gridcolor\":\"white\",\"gridwidth\":2,\"linecolor\":\"white\",\"showbackground\":true,\"ticks\":\"\",\"zerolinecolor\":\"white\"},\"zaxis\":{\"backgroundcolor\":\"#E5ECF6\",\"gridcolor\":\"white\",\"gridwidth\":2,\"linecolor\":\"white\",\"showbackground\":true,\"ticks\":\"\",\"zerolinecolor\":\"white\"}},\"shapedefaults\":{\"line\":{\"color\":\"#2a3f5f\"}},\"ternary\":{\"aaxis\":{\"gridcolor\":\"white\",\"linecolor\":\"white\",\"ticks\":\"\"},\"baxis\":{\"gridcolor\":\"white\",\"linecolor\":\"white\",\"ticks\":\"\"},\"bgcolor\":\"#E5ECF6\",\"caxis\":{\"gridcolor\":\"white\",\"linecolor\":\"white\",\"ticks\":\"\"}},\"title\":{\"x\":0.05},\"xaxis\":{\"automargin\":true,\"gridcolor\":\"white\",\"linecolor\":\"white\",\"ticks\":\"\",\"title\":{\"standoff\":15},\"zerolinecolor\":\"white\",\"zerolinewidth\":2},\"yaxis\":{\"automargin\":true,\"gridcolor\":\"white\",\"linecolor\":\"white\",\"ticks\":\"\",\"title\":{\"standoff\":15},\"zerolinecolor\":\"white\",\"zerolinewidth\":2}}},\"scene\":{\"domain\":{\"x\":[0.0,1.0],\"y\":[0.0,1.0]},\"xaxis\":{\"title\":{\"text\":\"Temperature\"}},\"yaxis\":{\"title\":{\"text\":\"pH\"}},\"zaxis\":{\"title\":{\"text\":\"Turbidity\"}}},\"coloraxis\":{\"colorbar\":{\"title\":{\"text\":\"Prediction\"}},\"colorscale\":[[0.0,\"#0d0887\"],[0.1111111111111111,\"#46039f\"],[0.2222222222222222,\"#7201a8\"],[0.3333333333333333,\"#9c179e\"],[0.4444444444444444,\"#bd3786\"],[0.5555555555555556,\"#d8576b\"],[0.6666666666666666,\"#ed7953\"],[0.7777777777777778,\"#fb9f3a\"],[0.8888888888888888,\"#fdca26\"],[1.0,\"#f0f921\"]]},\"legend\":{\"tracegroupgap\":0},\"title\":{\"text\":\"Water Quality\"}},                        {\"responsive\": true}                    ).then(function(){\n",
       "                            \n",
       "var gd = document.getElementById('f7d6227c-3b01-4772-bd0a-8ad711844fab');\n",
       "var x = new MutationObserver(function (mutations, observer) {{\n",
       "        var display = window.getComputedStyle(gd).display;\n",
       "        if (!display || display === 'none') {{\n",
       "            console.log([gd, 'removed!']);\n",
       "            Plotly.purge(gd);\n",
       "            observer.disconnect();\n",
       "        }}\n",
       "}});\n",
       "\n",
       "// Listen for the removal of the full notebook cells\n",
       "var notebookContainer = gd.closest('#notebook-container');\n",
       "if (notebookContainer) {{\n",
       "    x.observe(notebookContainer, {childList: true});\n",
       "}}\n",
       "\n",
       "// Listen for the clearing of the current output cell\n",
       "var outputEl = gd.closest('.output');\n",
       "if (outputEl) {{\n",
       "    x.observe(outputEl, {childList: true});\n",
       "}}\n",
       "\n",
       "                        })                };                });            </script>        </div>"
      ]
     },
     "metadata": {},
     "output_type": "display_data"
    }
   ],
   "source": [
    "fig = px.scatter_3d(plotData, x='Temperature', y='pH', z='Turbidity',title='Water Quality',color='Prediction')#, symbol='species')\n",
    "fig.show()"
   ]
  },
  {
   "cell_type": "code",
   "execution_count": null,
   "id": "65cd983c",
   "metadata": {},
   "outputs": [],
   "source": []
  }
 ],
 "metadata": {
  "kernelspec": {
   "display_name": "Python 3",
   "language": "python",
   "name": "python3"
  },
  "language_info": {
   "codemirror_mode": {
    "name": "ipython",
    "version": 3
   },
   "file_extension": ".py",
   "mimetype": "text/x-python",
   "name": "python",
   "nbconvert_exporter": "python",
   "pygments_lexer": "ipython3",
   "version": "3.6.8"
  }
 },
 "nbformat": 4,
 "nbformat_minor": 5
}
